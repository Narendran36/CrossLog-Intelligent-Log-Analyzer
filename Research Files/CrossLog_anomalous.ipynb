{
  "nbformat": 4,
  "nbformat_minor": 0,
  "metadata": {
    "colab": {
      "name": "CrossLog_anomalous.ipynb",
      "provenance": [],
      "collapsed_sections": []
    },
    "kernelspec": {
      "name": "python3",
      "display_name": "Python 3"
    },
    "accelerator": "GPU"
  },
  "cells": [
    {
      "cell_type": "code",
      "metadata": {
        "colab": {
          "base_uri": "https://localhost:8080/"
        },
        "id": "idWrB2cqJNNF",
        "outputId": "627cf359-dd06-43c9-c892-3454961e83a2"
      },
      "source": [
        "from google.colab import drive \n",
        "drive.mount('/content/drive', force_remount=True)"
      ],
      "execution_count": null,
      "outputs": [
        {
          "output_type": "stream",
          "text": [
            "Mounted at /content/drive\n"
          ],
          "name": "stdout"
        }
      ]
    },
    {
      "cell_type": "code",
      "metadata": {
        "id": "NJoETPKvJVZh"
      },
      "source": [
        "import pandas as pd"
      ],
      "execution_count": null,
      "outputs": []
    },
    {
      "cell_type": "code",
      "metadata": {
        "id": "c9uAnCe8JWmp"
      },
      "source": [
        "df = pd.read_csv(\"drive/MyDrive/final_anomalous.csv\")\r\n",
        "df = df.dropna()\r\n",
        "del df['Unnamed: 0']"
      ],
      "execution_count": null,
      "outputs": []
    },
    {
      "cell_type": "code",
      "metadata": {
        "id": "BTXo6UqUQD3a"
      },
      "source": [
        "from sklearn.model_selection import train_test_split\r\n",
        "from sklearn.metrics import confusion_matrix\r\n",
        "from sklearn import metrics\r\n",
        "\r\n",
        "X = list(df.columns[3:])\r\n",
        "X_df = df[X]\r\n",
        "Y_df = df['label']\r\n",
        "X_train, X_test, Y_train, Y_test = train_test_split(X_df, Y_df, test_size=0.2, random_state=0)"
      ],
      "execution_count": null,
      "outputs": []
    },
    {
      "cell_type": "code",
      "metadata": {
        "colab": {
          "base_uri": "https://localhost:8080/"
        },
        "id": "gU9eU5z7QH22",
        "outputId": "3b611cc1-11da-4d81-e860-9d091283cb87"
      },
      "source": [
        "from sklearn.linear_model import LogisticRegression\r\n",
        "\r\n",
        "LR = LogisticRegression()\r\n",
        "LR.fit(X_train,Y_train)\r\n",
        "\r\n",
        "print('Accuracy of Logistic Regression classifier on training set: {:.2f}'\r\n",
        "     .format(LR.score(X_train, Y_train)))\r\n",
        "print('Accuracy of Logistic Regression classifier on test set: {:.2f}'\r\n",
        "     .format(LR.score(X_test, Y_test)))\r\n",
        "\r\n",
        "print()\r\n",
        "Y_pred = LR.predict(X_test)\r\n",
        "print(confusion_matrix(Y_test, Y_pred))\r\n",
        "print()\r\n",
        "metrics.accuracy_score(Y_test, Y_pred)"
      ],
      "execution_count": null,
      "outputs": [
        {
          "output_type": "stream",
          "text": [
            "Accuracy of Logistic Regression classifier on training set: 0.94\n",
            "Accuracy of Logistic Regression classifier on test set: 0.94\n",
            "\n",
            "[[20781  1075]\n",
            " [  383  2957]]\n",
            "\n"
          ],
          "name": "stdout"
        },
        {
          "output_type": "stream",
          "text": [
            "/usr/local/lib/python3.6/dist-packages/sklearn/linear_model/_logistic.py:940: ConvergenceWarning: lbfgs failed to converge (status=1):\n",
            "STOP: TOTAL NO. of ITERATIONS REACHED LIMIT.\n",
            "\n",
            "Increase the number of iterations (max_iter) or scale the data as shown in:\n",
            "    https://scikit-learn.org/stable/modules/preprocessing.html\n",
            "Please also refer to the documentation for alternative solver options:\n",
            "    https://scikit-learn.org/stable/modules/linear_model.html#logistic-regression\n",
            "  extra_warning_msg=_LOGISTIC_SOLVER_CONVERGENCE_MSG)\n"
          ],
          "name": "stderr"
        },
        {
          "output_type": "execute_result",
          "data": {
            "text/plain": [
              "0.9421336720114304"
            ]
          },
          "metadata": {
            "tags": []
          },
          "execution_count": 8
        }
      ]
    },
    {
      "cell_type": "code",
      "metadata": {
        "colab": {
          "base_uri": "https://localhost:8080/"
        },
        "id": "P1IrnWqwQL9D",
        "outputId": "4e153958-1c11-4e07-a2e4-6e6b54db6e29"
      },
      "source": [
        " from sklearn import svm\r\n",
        "\r\n",
        " SVM = svm.LinearSVC()\r\n",
        " SVM.fit(X_train,Y_train)\r\n",
        "\r\n",
        " print('Accuracy of Linear SVM classifier on training set: {:.2f}'\r\n",
        "     .format(SVM.score(X_train, Y_train)))\r\n",
        " print('Accuracy of Linear SVM classifier on test set: {:.2f}'\r\n",
        "     .format(SVM.score(X_test, Y_test)))\r\n",
        " \r\n",
        "print()\r\n",
        "Y_pred = SVM.predict(X_test)\r\n",
        "print(confusion_matrix(Y_test, Y_pred))\r\n",
        "print()\r\n",
        "metrics.accuracy_score(Y_test, Y_pred)"
      ],
      "execution_count": null,
      "outputs": [
        {
          "output_type": "stream",
          "text": [
            "Accuracy of Linear SVM classifier on training set: 0.94\n",
            "Accuracy of Linear SVM classifier on test set: 0.94\n",
            "\n",
            "[[20500  1356]\n",
            " [   84  3256]]\n",
            "\n"
          ],
          "name": "stdout"
        },
        {
          "output_type": "stream",
          "text": [
            "/usr/local/lib/python3.6/dist-packages/sklearn/svm/_base.py:947: ConvergenceWarning: Liblinear failed to converge, increase the number of iterations.\n",
            "  \"the number of iterations.\", ConvergenceWarning)\n"
          ],
          "name": "stderr"
        },
        {
          "output_type": "execute_result",
          "data": {
            "text/plain": [
              "0.9428480711224004"
            ]
          },
          "metadata": {
            "tags": []
          },
          "execution_count": 9
        }
      ]
    },
    {
      "cell_type": "code",
      "metadata": {
        "colab": {
          "base_uri": "https://localhost:8080/"
        },
        "id": "7mH9PPOnQM2x",
        "outputId": "919e153c-ceb2-4da8-fc22-f2da65312502"
      },
      "source": [
        "from sklearn.ensemble import GradientBoostingClassifier\r\n",
        "\r\n",
        "GB = GradientBoostingClassifier(random_state=0)\r\n",
        "GB.fit(X_train, Y_train)\r\n",
        "\r\n",
        "print('Accuracy of Gradient Boosting classifier on training set: {:.2f}'\r\n",
        "     .format(GB.score(X_train, Y_train)))\r\n",
        "print('Accuracy of Gradient Boosting classifier on test set: {:.2f}'\r\n",
        "     .format(GB.score(X_test, Y_test)))\r\n",
        "\r\n",
        "print()\r\n",
        "Y_pred = GB.predict(X_test)\r\n",
        "print(confusion_matrix(Y_test, Y_pred))\r\n",
        "print()\r\n",
        "metrics.accuracy_score(Y_test, Y_pred)"
      ],
      "execution_count": null,
      "outputs": [
        {
          "output_type": "stream",
          "text": [
            "Accuracy of Gradient Boosting classifier on training set: 0.99\n",
            "Accuracy of Gradient Boosting classifier on test set: 0.99\n",
            "\n",
            "[[21782    74]\n",
            " [   61  3279]]\n",
            "\n"
          ],
          "name": "stdout"
        },
        {
          "output_type": "execute_result",
          "data": {
            "text/plain": [
              "0.9946420066677251"
            ]
          },
          "metadata": {
            "tags": []
          },
          "execution_count": 10
        }
      ]
    },
    {
      "cell_type": "code",
      "metadata": {
        "colab": {
          "base_uri": "https://localhost:8080/"
        },
        "id": "91kbIRF9QPWE",
        "outputId": "ed0f1b1d-c34c-4cbb-f136-49dbe8507437"
      },
      "source": [
        "from sklearn.tree import DecisionTreeClassifier\r\n",
        "\r\n",
        "DT = DecisionTreeClassifier()\r\n",
        "DT.fit(X_train,Y_train)\r\n",
        "\r\n",
        "print('Accuracy of Decision Tree classifier on training set: {:.2f}'\r\n",
        "     .format(DT.score(X_train, Y_train)))\r\n",
        "print('Accuracy of Decision Tree classifier on test set: {:.2f}'\r\n",
        "     .format(DT.score(X_test, Y_test)))\r\n",
        "\r\n",
        "print()\r\n",
        "Y_pred = DT.predict(X_test)\r\n",
        "print(confusion_matrix(Y_test, Y_pred))\r\n",
        "print()\r\n",
        "metrics.accuracy_score(Y_test, Y_pred)"
      ],
      "execution_count": null,
      "outputs": [
        {
          "output_type": "stream",
          "text": [
            "Accuracy of Decision Tree classifier on training set: 1.00\n",
            "Accuracy of Decision Tree classifier on test set: 1.00\n",
            "\n",
            "[[21821    35]\n",
            " [   47  3293]]\n",
            "\n"
          ],
          "name": "stdout"
        },
        {
          "output_type": "execute_result",
          "data": {
            "text/plain": [
              "0.9967455151611367"
            ]
          },
          "metadata": {
            "tags": []
          },
          "execution_count": 11
        }
      ]
    },
    {
      "cell_type": "code",
      "metadata": {
        "colab": {
          "base_uri": "https://localhost:8080/"
        },
        "id": "FL5wEwzGQTPg",
        "outputId": "d92de8cb-5a00-40fe-8ed6-9a5e21c0d557"
      },
      "source": [
        "from sklearn.neighbors import KNeighborsClassifier\r\n",
        "\r\n",
        "KNN = KNeighborsClassifier(n_neighbors = 5)\r\n",
        "KNN.fit(X_train, Y_train)\r\n",
        "\r\n",
        "print('Accuracy of K-NN classifier on training set: {:.2f}'\r\n",
        "     .format(KNN.score(X_train, Y_train)))\r\n",
        "print('Accuracy of K-NN classifier on test set: {:.2f}'\r\n",
        "     .format(KNN.score(X_test, Y_test)))\r\n",
        "\r\n",
        "print()\r\n",
        "Y_pred = KNN.predict(X_test)\r\n",
        "print(confusion_matrix(Y_test, Y_pred))\r\n",
        "print()\r\n",
        "metrics.accuracy_score(Y_test, Y_pred)"
      ],
      "execution_count": null,
      "outputs": [
        {
          "output_type": "stream",
          "text": [
            "Accuracy of K-NN classifier on training set: 1.00\n",
            "Accuracy of K-NN classifier on test set: 0.99\n",
            "\n",
            "[[21753   103]\n",
            " [   53  3287]]\n",
            "\n"
          ],
          "name": "stdout"
        },
        {
          "output_type": "execute_result",
          "data": {
            "text/plain": [
              "0.99380854103826"
            ]
          },
          "metadata": {
            "tags": []
          },
          "execution_count": 12
        }
      ]
    },
    {
      "cell_type": "code",
      "metadata": {
        "colab": {
          "base_uri": "https://localhost:8080/"
        },
        "id": "WP6aqi20QWNG",
        "outputId": "d20c4c2e-8621-4347-9d98-8c10c4aed8ab"
      },
      "source": [
        "from sklearn.ensemble import RandomForestClassifier\r\n",
        "\r\n",
        "RF = RandomForestClassifier()\r\n",
        "RF.fit(X_train,Y_train)\r\n",
        "\r\n",
        "print('Accuracy of Random Forest classifier on training set: {:.2f}'\r\n",
        "     .format(RF.score(X_train, Y_train)))\r\n",
        "print('Accuracy of Random Forest classifier on test set: {:.2f}'\r\n",
        "     .format(RF.score(X_test, Y_test)))\r\n",
        "\r\n",
        "print()\r\n",
        "Y_pred = RF.predict(X_test)\r\n",
        "print(confusion_matrix(Y_test, Y_pred))\r\n",
        "print()\r\n",
        "metrics.accuracy_score(Y_test, Y_pred)"
      ],
      "execution_count": null,
      "outputs": [
        {
          "output_type": "stream",
          "text": [
            "Accuracy of Random Forest classifier on training set: 1.00\n",
            "Accuracy of Random Forest classifier on test set: 1.00\n",
            "\n",
            "[[21827    29]\n",
            " [   40  3300]]\n",
            "\n"
          ],
          "name": "stdout"
        },
        {
          "output_type": "execute_result",
          "data": {
            "text/plain": [
              "0.997261470074615"
            ]
          },
          "metadata": {
            "tags": []
          },
          "execution_count": 13
        }
      ]
    },
    {
      "cell_type": "code",
      "metadata": {
        "id": "dXOvcdG9RNv4"
      },
      "source": [
        "import pickle\r\n",
        "filename = 'anomalous.sav'                                           #Edit this\r\n",
        "pickle.dump(RF, open(filename, 'wb'))                         #Change GB if needed\r\n",
        "#loaded_model = pickle.load(open(filename, 'rb'))\r\n",
        "#result = loaded_model.score(X_test, Y_test)\r\n",
        "#print(result)\r\n",
        "!cp anomalous.sav \"drive/My Drive/MODEL\"                             # replace OS.sav with file name"
      ],
      "execution_count": null,
      "outputs": []
    }
  ]
}