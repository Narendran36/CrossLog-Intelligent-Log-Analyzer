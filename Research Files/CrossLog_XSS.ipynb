{
  "nbformat": 4,
  "nbformat_minor": 0,
  "metadata": {
    "colab": {
      "name": "CrossLog_XSS.ipynb",
      "provenance": []
    },
    "kernelspec": {
      "name": "python3",
      "display_name": "Python 3"
    }
  },
  "cells": [
    {
      "cell_type": "code",
      "metadata": {
        "colab": {
          "base_uri": "https://localhost:8080/"
        },
        "id": "OV7ZhJRC2sjc",
        "outputId": "dfbf3dce-ba0b-4fb5-cbd6-15528e9049d3"
      },
      "source": [
        "from google.colab import drive\n",
        "drive.mount('/content/drive', force_remount=True)"
      ],
      "execution_count": null,
      "outputs": [
        {
          "output_type": "stream",
          "text": [
            "Mounted at /content/drive\n"
          ],
          "name": "stdout"
        }
      ]
    },
    {
      "cell_type": "code",
      "metadata": {
        "id": "MKANJKC83KlQ"
      },
      "source": [
        "import pandas as pd"
      ],
      "execution_count": null,
      "outputs": []
    },
    {
      "cell_type": "code",
      "metadata": {
        "colab": {
          "base_uri": "https://localhost:8080/"
        },
        "id": "ueOqftoO2PSA",
        "outputId": "24a54619-179d-409e-fb98-cf550c927db3"
      },
      "source": [
        "df = pd.read_csv(\"drive/MyDrive/final_XSS.csv\")\r\n",
        "df = df.dropna()\r\n",
        "del df['Unnamed: 0']"
      ],
      "execution_count": null,
      "outputs": [
        {
          "output_type": "stream",
          "text": [
            "/usr/local/lib/python3.6/dist-packages/IPython/core/interactiveshell.py:2718: DtypeWarning: Columns (0) have mixed types.Specify dtype option on import or set low_memory=False.\n",
            "  interactivity=interactivity, compiler=compiler, result=result)\n"
          ],
          "name": "stderr"
        }
      ]
    },
    {
      "cell_type": "code",
      "metadata": {
        "id": "LU7Bvy3jD4K9"
      },
      "source": [
        "from sklearn.model_selection import train_test_split\r\n",
        "from sklearn.metrics import confusion_matrix\r\n",
        "from sklearn import metrics\r\n",
        "\r\n",
        "X = list(df.columns[3:])\r\n",
        "X_df = df[X]\r\n",
        "Y_df = df['label']\r\n",
        "X_train, X_test, Y_train, Y_test = train_test_split(X_df, Y_df, test_size=0.2, random_state=0)"
      ],
      "execution_count": null,
      "outputs": []
    },
    {
      "cell_type": "code",
      "metadata": {
        "colab": {
          "base_uri": "https://localhost:8080/"
        },
        "id": "OJbSByW8D-fQ",
        "outputId": "313c797a-efbf-469e-f1d4-cf3863d120fc"
      },
      "source": [
        "from sklearn.linear_model import LogisticRegression\r\n",
        "\r\n",
        "LR = LogisticRegression()\r\n",
        "LR.fit(X_train,Y_train)\r\n",
        "\r\n",
        "print('Accuracy of Logistic Regression classifier on training set: {:.2f}'\r\n",
        "     .format(LR.score(X_train, Y_train)))\r\n",
        "print('Accuracy of Logistic Regression classifier on test set: {:.2f}'\r\n",
        "     .format(LR.score(X_test, Y_test)))\r\n",
        "\r\n",
        "print()\r\n",
        "Y_pred = LR.predict(X_test)\r\n",
        "print(confusion_matrix(Y_test, Y_pred))\r\n",
        "print()\r\n",
        "metrics.accuracy_score(Y_test, Y_pred)"
      ],
      "execution_count": null,
      "outputs": [
        {
          "output_type": "stream",
          "text": [
            "Accuracy of Logistic Regression classifier on training set: 0.99\n",
            "Accuracy of Logistic Regression classifier on test set: 0.99\n",
            "\n",
            "[[23799    53]\n",
            " [  146  1176]]\n",
            "\n"
          ],
          "name": "stdout"
        },
        {
          "output_type": "stream",
          "text": [
            "/usr/local/lib/python3.6/dist-packages/sklearn/linear_model/_logistic.py:940: ConvergenceWarning: lbfgs failed to converge (status=1):\n",
            "STOP: TOTAL NO. of ITERATIONS REACHED LIMIT.\n",
            "\n",
            "Increase the number of iterations (max_iter) or scale the data as shown in:\n",
            "    https://scikit-learn.org/stable/modules/preprocessing.html\n",
            "Please also refer to the documentation for alternative solver options:\n",
            "    https://scikit-learn.org/stable/modules/linear_model.html#logistic-regression\n",
            "  extra_warning_msg=_LOGISTIC_SOLVER_CONVERGENCE_MSG)\n"
          ],
          "name": "stderr"
        },
        {
          "output_type": "execute_result",
          "data": {
            "text/plain": [
              "0.9920950186700564"
            ]
          },
          "metadata": {
            "tags": []
          },
          "execution_count": 5
        }
      ]
    },
    {
      "cell_type": "code",
      "metadata": {
        "colab": {
          "base_uri": "https://localhost:8080/"
        },
        "id": "yXZlEKTOEC5k",
        "outputId": "afa9d8e6-d8f0-40dc-a0ff-149c5afb1737"
      },
      "source": [
        " from sklearn import svm\r\n",
        "\r\n",
        " SVM = svm.LinearSVC()\r\n",
        " SVM.fit(X_train,Y_train)\r\n",
        "\r\n",
        " print('Accuracy of Linear SVM classifier on training set: {:.2f}'\r\n",
        "     .format(SVM.score(X_train, Y_train)))\r\n",
        " print('Accuracy of Linear SVM classifier on test set: {:.2f}'\r\n",
        "     .format(SVM.score(X_test, Y_test)))\r\n",
        " \r\n",
        "print()\r\n",
        "Y_pred = SVM.predict(X_test)\r\n",
        "print(confusion_matrix(Y_test, Y_pred))\r\n",
        "print()\r\n",
        "metrics.accuracy_score(Y_test, Y_pred)"
      ],
      "execution_count": null,
      "outputs": [
        {
          "output_type": "stream",
          "text": [
            "Accuracy of Linear SVM classifier on training set: 0.99\n",
            "Accuracy of Linear SVM classifier on test set: 0.98\n",
            "\n",
            "[[23808    44]\n",
            " [  350   972]]\n",
            "\n"
          ],
          "name": "stdout"
        },
        {
          "output_type": "execute_result",
          "data": {
            "text/plain": [
              "0.9843489314371971"
            ]
          },
          "metadata": {
            "tags": []
          },
          "execution_count": 6
        }
      ]
    },
    {
      "cell_type": "code",
      "metadata": {
        "colab": {
          "base_uri": "https://localhost:8080/"
        },
        "id": "YGUxEhf3EGuO",
        "outputId": "8d3e4dae-09ab-4c45-f99c-163fb96ce97a"
      },
      "source": [
        "from sklearn.ensemble import GradientBoostingClassifier\r\n",
        "\r\n",
        "GB = GradientBoostingClassifier(random_state=0)\r\n",
        "GB.fit(X_train, Y_train)\r\n",
        "\r\n",
        "print('Accuracy of Gradient Boosting classifier on training set: {:.2f}'\r\n",
        "     .format(GB.score(X_train, Y_train)))\r\n",
        "print('Accuracy of Gradient Boosting classifier on test set: {:.2f}'\r\n",
        "     .format(GB.score(X_test, Y_test)))\r\n",
        "\r\n",
        "print()\r\n",
        "Y_pred = GB.predict(X_test)\r\n",
        "print(confusion_matrix(Y_test, Y_pred))\r\n",
        "print()\r\n",
        "metrics.accuracy_score(Y_test, Y_pred)"
      ],
      "execution_count": null,
      "outputs": [
        {
          "output_type": "stream",
          "text": [
            "Accuracy of Gradient Boosting classifier on training set: 0.99\n",
            "Accuracy of Gradient Boosting classifier on test set: 0.99\n",
            "\n",
            "[[23851     1]\n",
            " [  138  1184]]\n",
            "\n"
          ],
          "name": "stdout"
        },
        {
          "output_type": "execute_result",
          "data": {
            "text/plain": [
              "0.9944784301263208"
            ]
          },
          "metadata": {
            "tags": []
          },
          "execution_count": 7
        }
      ]
    },
    {
      "cell_type": "code",
      "metadata": {
        "colab": {
          "base_uri": "https://localhost:8080/"
        },
        "id": "ZRmV2w9CELqT",
        "outputId": "0c269ee9-291b-48a7-f6ef-a41d137ad213"
      },
      "source": [
        "from sklearn.tree import DecisionTreeClassifier\r\n",
        "\r\n",
        "DT = DecisionTreeClassifier()\r\n",
        "DT.fit(X_train,Y_train)\r\n",
        "\r\n",
        "print('Accuracy of Decision Tree classifier on training set: {:.2f}'\r\n",
        "     .format(DT.score(X_train, Y_train)))\r\n",
        "print('Accuracy of Decision Tree classifier on test set: {:.2f}'\r\n",
        "     .format(DT.score(X_test, Y_test)))\r\n",
        "\r\n",
        "print()\r\n",
        "Y_pred = DT.predict(X_test)\r\n",
        "print(confusion_matrix(Y_test, Y_pred))\r\n",
        "print()\r\n",
        "metrics.accuracy_score(Y_test, Y_pred)"
      ],
      "execution_count": null,
      "outputs": [
        {
          "output_type": "stream",
          "text": [
            "Accuracy of Decision Tree classifier on training set: 1.00\n",
            "Accuracy of Decision Tree classifier on test set: 0.99\n",
            "\n",
            "[[23797    55]\n",
            " [   90  1232]]\n",
            "\n"
          ],
          "name": "stdout"
        },
        {
          "output_type": "execute_result",
          "data": {
            "text/plain": [
              "0.9942400889806944"
            ]
          },
          "metadata": {
            "tags": []
          },
          "execution_count": 8
        }
      ]
    },
    {
      "cell_type": "code",
      "metadata": {
        "colab": {
          "base_uri": "https://localhost:8080/"
        },
        "id": "znIIjLaJEPQi",
        "outputId": "6ea79465-53a7-431c-d1c3-b3f23da70c42"
      },
      "source": [
        "from sklearn.neighbors import KNeighborsClassifier\r\n",
        "\r\n",
        "KNN = KNeighborsClassifier(n_neighbors = 5)\r\n",
        "KNN.fit(X_train, Y_train)\r\n",
        "\r\n",
        "print('Accuracy of K-NN classifier on training set: {:.2f}'\r\n",
        "     .format(KNN.score(X_train, Y_train)))\r\n",
        "print('Accuracy of K-NN classifier on test set: {:.2f}'\r\n",
        "     .format(KNN.score(X_test, Y_test)))\r\n",
        "\r\n",
        "print()\r\n",
        "Y_pred = KNN.predict(X_test)\r\n",
        "print(confusion_matrix(Y_test, Y_pred))\r\n",
        "print()\r\n",
        "metrics.accuracy_score(Y_test, Y_pred)"
      ],
      "execution_count": null,
      "outputs": [
        {
          "output_type": "stream",
          "text": [
            "Accuracy of K-NN classifier on training set: 1.00\n",
            "Accuracy of K-NN classifier on test set: 1.00\n",
            "\n",
            "[[23847     5]\n",
            " [   90  1232]]\n",
            "\n"
          ],
          "name": "stdout"
        },
        {
          "output_type": "execute_result",
          "data": {
            "text/plain": [
              "0.9962262651942481"
            ]
          },
          "metadata": {
            "tags": []
          },
          "execution_count": 9
        }
      ]
    },
    {
      "cell_type": "code",
      "metadata": {
        "colab": {
          "base_uri": "https://localhost:8080/"
        },
        "id": "tWW0llM2ES5t",
        "outputId": "64849aac-8b0c-4848-b8d7-3ed541663906"
      },
      "source": [
        "from sklearn.ensemble import RandomForestClassifier\r\n",
        "\r\n",
        "RF = RandomForestClassifier()\r\n",
        "RF.fit(X_train,Y_train)\r\n",
        "\r\n",
        "print('Accuracy of Random Forest classifier on training set: {:.2f}'\r\n",
        "     .format(RF.score(X_train, Y_train)))\r\n",
        "print('Accuracy of Random Forest classifier on test set: {:.2f}'\r\n",
        "     .format(RF.score(X_test, Y_test)))\r\n",
        "\r\n",
        "print()\r\n",
        "Y_pred = RF.predict(X_test)\r\n",
        "print(confusion_matrix(Y_test, Y_pred))\r\n",
        "print()\r\n",
        "metrics.accuracy_score(Y_test, Y_pred)"
      ],
      "execution_count": null,
      "outputs": [
        {
          "output_type": "stream",
          "text": [
            "Accuracy of Random Forest classifier on training set: 1.00\n",
            "Accuracy of Random Forest classifier on test set: 1.00\n",
            "\n",
            "[[23845     7]\n",
            " [   90  1232]]\n",
            "\n"
          ],
          "name": "stdout"
        },
        {
          "output_type": "execute_result",
          "data": {
            "text/plain": [
              "0.9961468181457059"
            ]
          },
          "metadata": {
            "tags": []
          },
          "execution_count": 10
        }
      ]
    },
    {
      "cell_type": "code",
      "metadata": {
        "id": "l9IJquw4LprR"
      },
      "source": [
        "import pickle\r\n",
        "filename = 'XSS.sav'                                           #Edit this\r\n",
        "pickle.dump(KNN, open(filename, 'wb'))                         #Change GB if needed\r\n",
        "#loaded_model = pickle.load(open(filename, 'rb'))\r\n",
        "#result = loaded_model.score(X_test, Y_test)\r\n",
        "#print(result)\r\n",
        "!cp XSS.sav \"drive/My Drive/MODEL\"                             # replace OS.sav with file name"
      ],
      "execution_count": null,
      "outputs": []
    }
  ]
}