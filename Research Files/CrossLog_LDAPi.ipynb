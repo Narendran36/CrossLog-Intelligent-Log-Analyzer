{
  "nbformat": 4,
  "nbformat_minor": 0,
  "metadata": {
    "colab": {
      "name": "CrossLog_LDAPi.ipynb",
      "provenance": [],
      "collapsed_sections": []
    },
    "kernelspec": {
      "name": "python3",
      "display_name": "Python 3"
    }
  },
  "cells": [
    {
      "cell_type": "code",
      "metadata": {
        "colab": {
          "base_uri": "https://localhost:8080/"
        },
        "id": "105v_zWwAHJf",
        "outputId": "17079be3-c180-4418-9d7a-4b49138c34ce"
      },
      "source": [
        "from google.colab import drive \n",
        "drive.mount('/content/drive', force_remount=True)"
      ],
      "execution_count": null,
      "outputs": [
        {
          "output_type": "stream",
          "text": [
            "Mounted at /content/drive\n"
          ],
          "name": "stdout"
        }
      ]
    },
    {
      "cell_type": "code",
      "metadata": {
        "id": "WJ1JM59ZAf_i"
      },
      "source": [
        "import pandas as pd"
      ],
      "execution_count": null,
      "outputs": []
    },
    {
      "cell_type": "code",
      "metadata": {
        "colab": {
          "base_uri": "https://localhost:8080/"
        },
        "id": "2iEG-iw2AiWs",
        "outputId": "827df791-d4e5-4bb5-a524-cf5c6cac9223"
      },
      "source": [
        "df = pd.read_csv(\"drive/MyDrive/final_LDAPi.csv\")\r\n",
        "df = df.dropna()\r\n",
        "del df['Unnamed: 0']"
      ],
      "execution_count": null,
      "outputs": [
        {
          "output_type": "stream",
          "text": [
            "/usr/local/lib/python3.6/dist-packages/IPython/core/interactiveshell.py:2718: DtypeWarning: Columns (0) have mixed types.Specify dtype option on import or set low_memory=False.\n",
            "  interactivity=interactivity, compiler=compiler, result=result)\n"
          ],
          "name": "stderr"
        }
      ]
    },
    {
      "cell_type": "code",
      "metadata": {
        "id": "tAvJyeMXD7Gv"
      },
      "source": [
        "from sklearn.model_selection import train_test_split\r\n",
        "from sklearn.metrics import confusion_matrix\r\n",
        "from sklearn import metrics\r\n",
        "\r\n",
        "X = list(df.columns[3:])\r\n",
        "X_df = df[X]\r\n",
        "Y_df = df['label']\r\n",
        "X_train, X_test, Y_train, Y_test = train_test_split(X_df, Y_df, test_size=0.2, random_state=0)"
      ],
      "execution_count": null,
      "outputs": []
    },
    {
      "cell_type": "code",
      "metadata": {
        "id": "XUsLkDOpD_vg",
        "colab": {
          "base_uri": "https://localhost:8080/"
        },
        "outputId": "befc744f-b5cc-4dd2-ce8e-7519ef4db763"
      },
      "source": [
        "from sklearn.linear_model import LogisticRegression\r\n",
        "\r\n",
        "LR = LogisticRegression()\r\n",
        "LR.fit(X_train,Y_train)\r\n",
        "\r\n",
        "print('Accuracy of Logistic Regression classifier on training set: {:.2f}'\r\n",
        "     .format(LR.score(X_train, Y_train)))\r\n",
        "print('Accuracy of Logistic Regression classifier on test set: {:.2f}'\r\n",
        "     .format(LR.score(X_test, Y_test)))\r\n",
        "\r\n",
        "print()\r\n",
        "Y_pred = LR.predict(X_test)\r\n",
        "print(confusion_matrix(Y_test, Y_pred))\r\n",
        "print()\r\n",
        "metrics.accuracy_score(Y_test, Y_pred)"
      ],
      "execution_count": null,
      "outputs": [
        {
          "output_type": "stream",
          "text": [
            "Accuracy of Logistic Regression classifier on training set: 1.00\n",
            "Accuracy of Logistic Regression classifier on test set: 1.00\n",
            "\n",
            "[[24714     5]\n",
            " [   78   378]]\n",
            "\n"
          ],
          "name": "stdout"
        },
        {
          "output_type": "execute_result",
          "data": {
            "text/plain": [
              "0.996703078450844"
            ]
          },
          "metadata": {
            "tags": []
          },
          "execution_count": 5
        }
      ]
    },
    {
      "cell_type": "code",
      "metadata": {
        "id": "NtzyGSkNEDq_",
        "colab": {
          "base_uri": "https://localhost:8080/"
        },
        "outputId": "b1f7a45a-5f68-47e6-b17a-acf3c2db8a1e"
      },
      "source": [
        " from sklearn import svm\r\n",
        "\r\n",
        " SVM = svm.LinearSVC()\r\n",
        " SVM.fit(X_train,Y_train)\r\n",
        "\r\n",
        " print('Accuracy of Linear SVM classifier on training set: {:.2f}'\r\n",
        "     .format(SVM.score(X_train, Y_train)))\r\n",
        " print('Accuracy of Linear SVM classifier on test set: {:.2f}'\r\n",
        "     .format(SVM.score(X_test, Y_test)))\r\n",
        " \r\n",
        "print()\r\n",
        "Y_pred = SVM.predict(X_test)\r\n",
        "print(confusion_matrix(Y_test, Y_pred))\r\n",
        "print()\r\n",
        "metrics.accuracy_score(Y_test, Y_pred)"
      ],
      "execution_count": null,
      "outputs": [
        {
          "output_type": "stream",
          "text": [
            "Accuracy of Linear SVM classifier on training set: 1.00\n",
            "Accuracy of Linear SVM classifier on test set: 1.00\n",
            "\n",
            "[[24712     7]\n",
            " [   74   382]]\n",
            "\n"
          ],
          "name": "stdout"
        },
        {
          "output_type": "execute_result",
          "data": {
            "text/plain": [
              "0.9967825223435949"
            ]
          },
          "metadata": {
            "tags": []
          },
          "execution_count": 6
        }
      ]
    },
    {
      "cell_type": "code",
      "metadata": {
        "id": "1HW5ZTMfEH_8",
        "colab": {
          "base_uri": "https://localhost:8080/"
        },
        "outputId": "8d909151-9056-4e2f-dbf3-cc5be4a80999"
      },
      "source": [
        "from sklearn.ensemble import GradientBoostingClassifier\r\n",
        "\r\n",
        "GB = GradientBoostingClassifier(random_state=0)\r\n",
        "GB.fit(X_train, Y_train)\r\n",
        "\r\n",
        "print('Accuracy of Gradient Boosting classifier on training set: {:.2f}'\r\n",
        "     .format(GB.score(X_train, Y_train)))\r\n",
        "print('Accuracy of Gradient Boosting classifier on test set: {:.2f}'\r\n",
        "     .format(GB.score(X_test, Y_test)))\r\n",
        "\r\n",
        "print()\r\n",
        "Y_pred = GB.predict(X_test)\r\n",
        "print(confusion_matrix(Y_test, Y_pred))\r\n",
        "print()\r\n",
        "metrics.accuracy_score(Y_test, Y_pred)"
      ],
      "execution_count": null,
      "outputs": [
        {
          "output_type": "stream",
          "text": [
            "Accuracy of Gradient Boosting classifier on training set: 1.00\n",
            "Accuracy of Gradient Boosting classifier on test set: 1.00\n",
            "\n",
            "[[24718     1]\n",
            " [   74   382]]\n",
            "\n"
          ],
          "name": "stdout"
        },
        {
          "output_type": "execute_result",
          "data": {
            "text/plain": [
              "0.997020854021847"
            ]
          },
          "metadata": {
            "tags": []
          },
          "execution_count": 7
        }
      ]
    },
    {
      "cell_type": "code",
      "metadata": {
        "id": "i6skDwEHEMkt",
        "colab": {
          "base_uri": "https://localhost:8080/"
        },
        "outputId": "a4059b60-00db-47f5-c004-a3f9dbbae1af"
      },
      "source": [
        "from sklearn.tree import DecisionTreeClassifier\r\n",
        "\r\n",
        "DT = DecisionTreeClassifier()\r\n",
        "DT.fit(X_train,Y_train)\r\n",
        "\r\n",
        "print('Accuracy of Decision Tree classifier on training set: {:.2f}'\r\n",
        "     .format(DT.score(X_train, Y_train)))\r\n",
        "print('Accuracy of Decision Tree classifier on test set: {:.2f}'\r\n",
        "     .format(DT.score(X_test, Y_test)))\r\n",
        "\r\n",
        "print()\r\n",
        "Y_pred = DT.predict(X_test)\r\n",
        "print(confusion_matrix(Y_test, Y_pred))\r\n",
        "print()\r\n",
        "metrics.accuracy_score(Y_test, Y_pred)"
      ],
      "execution_count": null,
      "outputs": [
        {
          "output_type": "stream",
          "text": [
            "Accuracy of Decision Tree classifier on training set: 1.00\n",
            "Accuracy of Decision Tree classifier on test set: 1.00\n",
            "\n",
            "[[24710     9]\n",
            " [   74   382]]\n",
            "\n"
          ],
          "name": "stdout"
        },
        {
          "output_type": "execute_result",
          "data": {
            "text/plain": [
              "0.996703078450844"
            ]
          },
          "metadata": {
            "tags": []
          },
          "execution_count": 8
        }
      ]
    },
    {
      "cell_type": "code",
      "metadata": {
        "id": "RqqH_G7HEQJE",
        "colab": {
          "base_uri": "https://localhost:8080/"
        },
        "outputId": "f8f6ffb4-766d-4753-872a-8151b35c9508"
      },
      "source": [
        "from sklearn.neighbors import KNeighborsClassifier\r\n",
        "\r\n",
        "KNN = KNeighborsClassifier(n_neighbors = 5)\r\n",
        "KNN.fit(X_train, Y_train)\r\n",
        "\r\n",
        "print('Accuracy of K-NN classifier on training set: {:.2f}'\r\n",
        "     .format(KNN.score(X_train, Y_train)))\r\n",
        "print('Accuracy of K-NN classifier on test set: {:.2f}'\r\n",
        "     .format(KNN.score(X_test, Y_test)))\r\n",
        "\r\n",
        "print()\r\n",
        "Y_pred = KNN.predict(X_test)\r\n",
        "print(confusion_matrix(Y_test, Y_pred))\r\n",
        "print()\r\n",
        "metrics.accuracy_score(Y_test, Y_pred)"
      ],
      "execution_count": null,
      "outputs": [
        {
          "output_type": "stream",
          "text": [
            "Accuracy of K-NN classifier on training set: 1.00\n",
            "Accuracy of K-NN classifier on test set: 1.00\n",
            "\n",
            "[[24719     0]\n",
            " [   74   382]]\n",
            "\n"
          ],
          "name": "stdout"
        },
        {
          "output_type": "execute_result",
          "data": {
            "text/plain": [
              "0.9970605759682224"
            ]
          },
          "metadata": {
            "tags": []
          },
          "execution_count": 9
        }
      ]
    },
    {
      "cell_type": "code",
      "metadata": {
        "id": "Vmx2PpYPET2h",
        "colab": {
          "base_uri": "https://localhost:8080/"
        },
        "outputId": "6800f89d-3608-4765-b546-69b25d949524"
      },
      "source": [
        "from sklearn.ensemble import RandomForestClassifier\r\n",
        "\r\n",
        "RF = RandomForestClassifier()\r\n",
        "RF.fit(X_train,Y_train)\r\n",
        "\r\n",
        "print('Accuracy of Random Forest classifier on training set: {:.2f}'\r\n",
        "     .format(RF.score(X_train, Y_train)))\r\n",
        "print('Accuracy of Random Forest classifier on test set: {:.2f}'\r\n",
        "     .format(RF.score(X_test, Y_test)))\r\n",
        "\r\n",
        "print()\r\n",
        "Y_pred = RF.predict(X_test)\r\n",
        "print(confusion_matrix(Y_test, Y_pred))\r\n",
        "print()\r\n",
        "metrics.accuracy_score(Y_test, Y_pred)"
      ],
      "execution_count": null,
      "outputs": [
        {
          "output_type": "stream",
          "text": [
            "Accuracy of Random Forest classifier on training set: 1.00\n",
            "Accuracy of Random Forest classifier on test set: 1.00\n",
            "\n",
            "[[24714     5]\n",
            " [   74   382]]\n",
            "\n"
          ],
          "name": "stdout"
        },
        {
          "output_type": "execute_result",
          "data": {
            "text/plain": [
              "0.9968619662363456"
            ]
          },
          "metadata": {
            "tags": []
          },
          "execution_count": 10
        }
      ]
    },
    {
      "cell_type": "code",
      "metadata": {
        "id": "oVw9JKctHzGv"
      },
      "source": [
        "import pickle\r\n",
        "filename = 'LDAPi.sav'                                           #Edit this\r\n",
        "pickle.dump(KNN, open(filename, 'wb'))                         #Change GB if needed\r\n",
        "#loaded_model = pickle.load(open(filename, 'rb'))\r\n",
        "#result = loaded_model.score(X_test, Y_test)\r\n",
        "#print(result)\r\n",
        "!cp LDAPi.sav \"drive/My Drive/MODEL\"                             # replace OS.sav with file name"
      ],
      "execution_count": null,
      "outputs": []
    }
  ]
}