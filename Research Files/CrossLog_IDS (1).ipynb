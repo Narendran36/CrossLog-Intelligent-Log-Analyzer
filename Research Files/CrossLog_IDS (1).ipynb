{
  "nbformat": 4,
  "nbformat_minor": 0,
  "metadata": {
    "colab": {
      "name": "CrossLog_IDS.ipynb",
      "provenance": [],
      "collapsed_sections": []
    },
    "kernelspec": {
      "name": "python3",
      "display_name": "Python 3"
    }
  },
  "cells": [
    {
      "cell_type": "code",
      "metadata": {
        "colab": {
          "base_uri": "https://localhost:8080/"
        },
        "id": "kkXb_GVMjOQN",
        "outputId": "23be207f-cc49-4013-de9c-16335d2b02d1"
      },
      "source": [
        "from google.colab import drive \r\n",
        "drive.mount('/content/drive', force_remount=True)"
      ],
      "execution_count": null,
      "outputs": [
        {
          "output_type": "stream",
          "text": [
            "Mounted at /content/drive\n"
          ],
          "name": "stdout"
        }
      ]
    },
    {
      "cell_type": "code",
      "metadata": {
        "id": "2cJbDiHAia64"
      },
      "source": [
        "import pandas as pd\r\n",
        "import pickle\r\n",
        "import re\r\n",
        "from urllib.parse import unquote"
      ],
      "execution_count": null,
      "outputs": []
    },
    {
      "cell_type": "code",
      "metadata": {
        "id": "LSjSyhwHjaa3"
      },
      "source": [
        "XSS = pickle.load(open('drive/MyDrive/MODEL/XSS.sav', 'rb'))\r\n",
        "SQLi = pickle.load(open('drive/MyDrive/MODEL/SQLi.sav', 'rb'))\r\n",
        "PT = pickle.load(open('drive/MyDrive/MODEL/PT.sav', 'rb'))\r\n",
        "OS = pickle.load(open('drive/MyDrive/MODEL/OS.sav', 'rb'))\r\n",
        "CRLFi = pickle.load(open('drive/MyDrive/MODEL/CRLFi.sav', 'rb'))\r\n",
        "SSI = pickle.load(open('drive/MyDrive/MODEL/SSI.sav', 'rb'))\r\n",
        "LDAPi = pickle.load(open('drive/MyDrive/MODEL/LDAPi.sav', 'rb'))\r\n",
        "XPath = pickle.load(open('drive/MyDrive/MODEL/XPath.sav', 'rb'))\r\n",
        "anomalous = pickle.load(open('drive/MyDrive/MODEL/anomalous.sav', 'rb'))"
      ],
      "execution_count": null,
      "outputs": []
    },
    {
      "cell_type": "code",
      "metadata": {
        "colab": {
          "base_uri": "https://localhost:8080/"
        },
        "id": "gE3ZGxB9fbG7",
        "outputId": "92503fc3-d179-4847-d701-2ad720f4eac7"
      },
      "source": [
        "XSS_L"
      ],
      "execution_count": null,
      "outputs": [
        {
          "output_type": "execute_result",
          "data": {
            "text/plain": [
              "['document',\n",
              " ';',\n",
              " '+',\n",
              " ')',\n",
              " 'div',\n",
              " 'var',\n",
              " '-',\n",
              " '<script',\n",
              " ']',\n",
              " '^',\n",
              " '#',\n",
              " '$',\n",
              " 'window',\n",
              " 'location',\n",
              " 'search',\n",
              " '<',\n",
              " '?',\n",
              " '|',\n",
              " '&',\n",
              " '[',\n",
              " '.',\n",
              " 'src',\n",
              " 'cookie',\n",
              " 'iframe',\n",
              " 'createelement',\n",
              " 'string.fromcharcode',\n",
              " 'img',\n",
              " '/',\n",
              " 'this',\n",
              " '<>',\n",
              " '\\\\\\\\',\n",
              " ',',\n",
              " '[]',\n",
              " '(',\n",
              " '}',\n",
              " 'onload',\n",
              " '&#',\n",
              " '%',\n",
              " '>',\n",
              " ':',\n",
              " '{',\n",
              " '==',\n",
              " 'eval()',\n",
              " 'onerror',\n",
              " '!',\n",
              " '_',\n",
              " '@',\n",
              " '=',\n",
              " '\"',\n",
              " ' ',\n",
              " '*',\n",
              " 'href',\n",
              " 'http',\n",
              " '.js',\n",
              " \"'\"]"
            ]
          },
          "metadata": {
            "tags": []
          },
          "execution_count": 111
        }
      ]
    },
    {
      "cell_type": "code",
      "metadata": {
        "id": "Owx4lT7jHX8H"
      },
      "source": [
        "XSS_L = ['document', ';', '+', ')', 'div', 'var', '-', '<script', ']', '^', '#', '$', 'window', 'location', 'search', '<', '?', '|', '&', '[', '.', 'src', 'cookie', 'iframe', 'createelement', 'string.fromcharcode', 'img', '/', 'this', '<>', '\\\\\\\\', ',', '[]', '(', '}', 'onload', '&#', '%', '>', ':', '{', '==', 'eval()', 'onerror', '!', '_', '@', '=', '\"', ' ', '*', 'href', 'http', '.js', \"'\"]"
      ],
      "execution_count": null,
      "outputs": []
    },
    {
      "cell_type": "code",
      "metadata": {
        "id": "mrGA97sJH8Er"
      },
      "source": [
        "SQLi_L = ['admin', ',', '||', 'where', 'and', 'between', ';', ']', '^', '<', 'union', 'any', 'exec', '|', 'into', 'drop', '(', '=', 'like', '*', '%', 'not', 'from', 'count', '()', 'select', ' ', ')', 'commit', '>=', 'update', ':', 'replace', 'sleep', '&&', 'null', '-', '>', 'all', '+', '<=', '<>', 'xp', 'sp', 'delete', \"'\", 'or', 'insert', 'table', '/**/', '\"', '.', 'user', '!=', '#', 'char', '[']"
      ],
      "execution_count": null,
      "outputs": []
    },
    {
      "cell_type": "code",
      "metadata": {
        "id": "v6nlAqQzJT6E"
      },
      "source": [
        "PT_L = [':', '.bat', '.conf', '//', 'system', 'exec', 'winnt', '\\\\\\\\.', '../', 'ini', '\\\\\\\\/', ':/', 'windows', '%00', '/', '..\\\\\\\\', 'passwd', 'log', ':\\\\\\\\', './', 'boot', 'etc', '..', 'file', 'access', ',,']"
      ],
      "execution_count": null,
      "outputs": []
    },
    {
      "cell_type": "code",
      "metadata": {
        "id": "E0Ck1_WiJl3W"
      },
      "source": [
        "LDAPi_L = [';', '+', ')', 'name', 'cn=', 'objectclass', '=)', '<', '|', '&', '*)', ')(', '/', '\\\\\\\\', ')&', ',', '&(', '(', '=*', '>', '(|', '+)', '(&', 'sn=', '!', 'mail', '=', ' ', '*', '))', \"'\"]"
      ],
      "execution_count": null,
      "outputs": []
    },
    {
      "cell_type": "code",
      "metadata": {
        "id": "JMftfiivJ9Vx"
      },
      "source": [
        "XPath_L = ['`', 'path/', ',', '||', 'and', ';', ']', '^', '<', '|', '(', '=', 'comment', '*', '%', 'not', 'child', '()', 'count', ' ', ')', 'position()', '>=', '&&', '/*', '<--', '-', 'node()', '>', '+', '<=', 'name', '<>', 'text()', '//', '((', 'or', '::', 'user', '\"', '.', '#', '[']"
      ],
      "execution_count": null,
      "outputs": []
    },
    {
      "cell_type": "code",
      "metadata": {
        "id": "JCmm2iGAKPAS"
      },
      "source": [
        "SSI_L = ['dir', 'fromhost', 'httpd', 'winnt\\\\\\\\', '<!-', 'replyto', '.bat', 'etc/', '.conf', '\"', 'date_gmt', '\"id', '+connect', '\"mail', '+-l', '-->', 'email', 'windows', '/passwd', 'toaddress', 'access.log', 'var', '.com', '+id', '+', 'virtual', '#echo', 'bin/', 'sender', '#', 'cmd', '/mail', 'ls+', ':\\\\\\\\', 'message', '+statement', '#exec', 'home/', 'odbc', 'log/', 'system.ini', ',', '#include']"
      ],
      "execution_count": null,
      "outputs": []
    },
    {
      "cell_type": "code",
      "metadata": {
        "id": "HFjHfbwhKdkf"
      },
      "source": [
        "OS_L = [';', ':\\\\\\\\', 'c:', 'bash', '.bat', 'shell', 'cmd', 'IP', 'passwd', '\\\\\\\\/', 'winnt', 'exec', 'script', 'www.', 'rm', 'ftp', '|', 'access', 'etc', '.', 'file', '-aux', ':/', '..', 'bin/', \"'\", 'wget', '..\\\\\\\\', '\\\\\\\\.', 'ping', 'echo', 'system32', '.exe', 'etc/passwd', '../', 'dir', 'log', './', 'tmp/', 'display', 'cat', 'root', ' ', 'telnet', 'http', 'uname', ':']"
      ],
      "execution_count": null,
      "outputs": []
    },
    {
      "cell_type": "code",
      "metadata": {
        "id": "APqUe9EJKwJI"
      },
      "source": [
        "CRLFi_L = ['SET', '%0A', '%0D', '+', 'TAMPER', ':', '%0D%0A', 'COOKIE']"
      ],
      "execution_count": null,
      "outputs": []
    },
    {
      "cell_type": "code",
      "metadata": {
        "id": "WCDFHe5N-3-n"
      },
      "source": [
        "Anomaly_L = ['FU', 'NA', 'FS', 'PL', 'RL', 'FD', 'NK', 'FL', 'AL']"
      ],
      "execution_count": null,
      "outputs": []
    },
    {
      "cell_type": "code",
      "metadata": {
        "id": "Ip8eYTjpbHZJ"
      },
      "source": [
        "Net_Features = ['dir', 'cmd', '#exec', '+id', 'string.fromcharcode', 'sn=', 'winnt', 'access.log', '%0D%0A', '+', '/', 'table', 'onerror', 'mail', '<!-', 'etc/passwd', '<', '-', '.bat', 'union', ']', '//', 'path/', 'sender', ':\\\\\\\\', 'node()', '+connect', '%', 'href', 'delete', '..\\\\\\\\', '#echo', '}', '!=', '=)', ':', '&', '+-l', 'position()', 'admin', ',', 'where', 'drop', 'insert', 'rm', 'ping', 'cookie', ' ', 'comment', '/mail', '\"', 'and', 'objectclass', 'location', '{', '_', '()', 'createelement', '../', '<>', 'http', 'etc/', 'virtual', 'log', 'uname', '<script', '&(', '/*', '.com', 'boot', '))', '%00', 'fromhost', 'wget', 'access', 'winnt\\\\\\\\', 'any', ',,', 'update', 'home/', '||', '%0A', '+statement', '\\\\\\\\', '>', '(', 'www.', 'eval()', '.js', ':/', ')&', 'email', '|', 'child', 'div', '[]', 'log/', 'TAMPER', 'tmp/', '?', \"'\", ';', '.exe', '>=', 'like', 'IP', 'name', '-aux', 'windows', '\"id', 'bin/', '::', 'date_gmt', '.', '\\\\\\\\/', '&&', '<--', 'SET', '&#', '/**/', '#', 'search', 'onload', 'into', '*', '<=', 'odbc', 'xp', 'ls+', 'var', 'all', 'img', '^', 'file', '-->', '=', 'etc', 'this', 'replace', 'c:', 'toaddress', '.conf', '*)', 'from', 'root', 'src', ')(', 'document', 'select', 'char', 'system', '((', ')', 'between', 'display', 'or', 'iframe', 'cat', 'cn=', 'replyto', 'system.ini', '!', 'message', 'window', 'exec', 'commit', 'echo', '$', 'passwd', 'user', 'system32', 'not', 'httpd', './', 'COOKIE', '\"mail', '(&', 'count', '/passwd', 'telnet', '..', '`', 'text()', 'ftp', 'null', '=*', '@', 'sp', '+)', 'ini', '#include', 'shell', 'script', 'bash', '==', 'sleep', '\\\\\\\\.', '%0D', '[', '(|']"
      ],
      "execution_count": null,
      "outputs": []
    },
    {
      "cell_type": "code",
      "metadata": {
        "id": "NKwJ4LBflUka"
      },
      "source": [
        "log_location = 'drive/MyDrive/access.log'"
      ],
      "execution_count": null,
      "outputs": []
    },
    {
      "cell_type": "code",
      "metadata": {
        "id": "totKHeyuuLZW"
      },
      "source": [
        "def XSS_check(url):\r\n",
        "  df_temp = pd.DataFrame(columns=XSS_L)\r\n",
        "  df_temp.loc[0] = 0\r\n",
        "  url = unquote(url)\r\n",
        "  url = unquote(url)\r\n",
        "  url = url.replace('\\n','')\r\n",
        "  url = url.replace(' ','')\r\n",
        "  url = url.lower()\r\n",
        "  for col in XSS_L:\r\n",
        "    if col in url:\r\n",
        "      df_temp[col] = 1\r\n",
        "  return XSS.predict(df_temp)[0]"
      ],
      "execution_count": null,
      "outputs": []
    },
    {
      "cell_type": "code",
      "metadata": {
        "id": "GdcDV8FjuUVA"
      },
      "source": [
        "def SQLi_check(url):\r\n",
        "  df_temp = pd.DataFrame(columns=SQLi_L)\r\n",
        "  df_temp.loc[0] = 0\r\n",
        "  url = unquote(url)\r\n",
        "  url = unquote(url)\r\n",
        "  url = url.replace('\\n','')\r\n",
        "  url = url.lower()\r\n",
        "  for col in SQLi_L:\r\n",
        "    if col in url:\r\n",
        "      df_temp[col] = 1\r\n",
        "  return SQLi.predict(df_temp)[0]"
      ],
      "execution_count": null,
      "outputs": []
    },
    {
      "cell_type": "code",
      "metadata": {
        "id": "HBxMVptJuX0T"
      },
      "source": [
        "def PT_check(url):\r\n",
        "  df_temp = pd.DataFrame(columns=PT_L)\r\n",
        "  df_temp.loc[0] = 0\r\n",
        "  url = unquote(url)\r\n",
        "  url = unquote(url)\r\n",
        "  url = unquote(url)\r\n",
        "  url = unquote(url)  \r\n",
        "  url = url.replace('\\n','')\r\n",
        "  url = url.lower()\r\n",
        "  for col in PT_L:\r\n",
        "    if col in url:\r\n",
        "      df_temp[col] = 1\r\n",
        "  return PT.predict(df_temp)[0]"
      ],
      "execution_count": null,
      "outputs": []
    },
    {
      "cell_type": "code",
      "metadata": {
        "id": "2htj9_1sulk9"
      },
      "source": [
        "def OS_check(url):\r\n",
        "  df_temp = pd.DataFrame(columns=OS_L)\r\n",
        "  df_temp.loc[0] = 0\r\n",
        "  url = unquote(url)\r\n",
        "  url = unquote(url)  \r\n",
        "  url = url.replace('\\n',' ')\r\n",
        "  url = url.replace('+',' ')\r\n",
        "  url = url.lower()\r\n",
        "  for col in OS_L:\r\n",
        "    if col in url:\r\n",
        "      df_temp[col] = 1\r\n",
        "  return OS.predict(df_temp)[0]"
      ],
      "execution_count": null,
      "outputs": []
    },
    {
      "cell_type": "code",
      "metadata": {
        "id": "PNd-Kp9_uqaP"
      },
      "source": [
        "def CRLFi_check(url):\r\n",
        "  df_temp = pd.DataFrame(columns=CRLFi_L)\r\n",
        "  df_temp.loc[0] = 0\r\n",
        "  url = unquote(url)\r\n",
        "  url = url.upper()\r\n",
        "  for col in CRLFi_L:\r\n",
        "    if col in url:\r\n",
        "      df_temp[col] = 1\r\n",
        "  return CRLFi.predict(df_temp)[0]"
      ],
      "execution_count": null,
      "outputs": []
    },
    {
      "cell_type": "code",
      "metadata": {
        "id": "1Plel8xIuiC_"
      },
      "source": [
        "def SSI_check(url):\r\n",
        "  df_temp = pd.DataFrame(columns=SSI_L)\r\n",
        "  df_temp.loc[0] = 0\r\n",
        "  url = unquote(url) \r\n",
        "  url = url.replace('\\n','')\r\n",
        "  url = url.replace(' ','+')\r\n",
        "  url = url.lower()\r\n",
        "  for col in SSI_L:\r\n",
        "    if col in url:\r\n",
        "      df_temp[col] = 1\r\n",
        "  return SSI.predict(df_temp)[0]"
      ],
      "execution_count": null,
      "outputs": []
    },
    {
      "cell_type": "code",
      "metadata": {
        "id": "QE28aGJwuZ6h"
      },
      "source": [
        "def LDAPi_check(url):\r\n",
        "  df_temp = pd.DataFrame(columns=LDAPi_L)\r\n",
        "  df_temp.loc[0] = 0\r\n",
        "  url = unquote(url) \r\n",
        "  url = url.replace('\\n','')\r\n",
        "  url = url.lower()\r\n",
        "  for col in LDAPi_L:\r\n",
        "    if col in url:\r\n",
        "      df_temp[col] = 1\r\n",
        "  return LDAPi.predict(df_temp)[0]"
      ],
      "execution_count": null,
      "outputs": []
    },
    {
      "cell_type": "code",
      "metadata": {
        "id": "aO05ZI6iufUE"
      },
      "source": [
        "def XPath_check(url):\r\n",
        "  df_temp = pd.DataFrame(columns=XPath_L)\r\n",
        "  df_temp.loc[0] = 0\r\n",
        "  url = unquote(url) \r\n",
        "  url = url.replace('\\n','')\r\n",
        "  url = url.lower()\r\n",
        "  for col in XPath_L:\r\n",
        "    if col in url:\r\n",
        "      df_temp[col] = 1\r\n",
        "  return XPath.predict(df_temp)[0]"
      ],
      "execution_count": null,
      "outputs": []
    },
    {
      "cell_type": "code",
      "metadata": {
        "id": "J-4cFPWQAKKv"
      },
      "source": [
        ""
      ],
      "execution_count": null,
      "outputs": []
    },
    {
      "cell_type": "code",
      "metadata": {
        "id": "jyEUSGTzusre"
      },
      "source": [
        "def Anomaly_check(url):\r\n",
        "  df_temp = pd.DataFrame(columns=Anomaly_L)\r\n",
        "  df_temp.loc[0] = 0\r\n",
        "  df_temp['RL'] = len(url)\r\n",
        "  if '?' not in url:\r\n",
        "    df_temp['AL'] = 0\r\n",
        "    df_temp['NA'] = 0\r\n",
        "    df_temp['PL'] = len(url)\r\n",
        "  else:\r\n",
        "    loc = url.find('?')\r\n",
        "    df_temp['AL'] = len(url[loc+1:])\r\n",
        "    temp = url[loc+1:]\r\n",
        "    df_temp['NA'] = temp.count('=')\r\n",
        "    temp = url[:loc]\r\n",
        "    df_temp['PL'] = len(temp)\r\n",
        "  upper = 0\r\n",
        "  lower = 0\r\n",
        "  digit = 0\r\n",
        "  special = 0\r\n",
        "  for i in url:\r\n",
        "    if (i.isupper()):\r\n",
        "      upper += 1\r\n",
        "    elif (i.islower()):\r\n",
        "      lower += 1\r\n",
        "    elif (i.isdigit()):\r\n",
        "      digit += 1\r\n",
        "    else:\r\n",
        "      special += 1\r\n",
        "  df_temp['FU'] = upper\r\n",
        "  df_temp['FL'] = lower\r\n",
        "  df_temp['FD'] = digit\r\n",
        "  df_temp['FS'] = special\r\n",
        "  \r\n",
        "  url = unquote(url)\r\n",
        "  url = url.lower()\r\n",
        "  url = url.replace('\\n','')\r\n",
        "  url = url.replace('+',' ')\r\n",
        "  count = 0\r\n",
        "  for u in url:\r\n",
        "    if u in Net_Features:\r\n",
        "      count += 1\r\n",
        "  df_temp['NK'] = count\r\n",
        "  return anomalous.predict(df_temp)[0]"
      ],
      "execution_count": null,
      "outputs": []
    },
    {
      "cell_type": "code",
      "metadata": {
        "id": "glnHAbkRlci9"
      },
      "source": [
        "exp = r'^(\\S+) (\\S+) (\\S+) \\[([\\w:/]+\\s[+\\-]\\d{4})\\] \"(\\S+)\\s?(\\S+)?\\s?(\\S+)?\" (\\d{3}|-) (\\d+|-)\\s?\"?([^\"]*)\"?\\s?\"?([^\"]*)?\"?$'"
      ],
      "execution_count": null,
      "outputs": []
    },
    {
      "cell_type": "code",
      "metadata": {
        "id": "LhIlcBksljE8"
      },
      "source": [
        "with open(log_location) as log:\r\n",
        "\tlines = log.readlines()\r\n",
        "\r\n",
        "data = []\r\n",
        "\r\n",
        "for l in lines:\r\n",
        "  z = re.match(exp, l)\r\n",
        "  if XSS_check(z[6]):\r\n",
        "    x = 'XSS'\r\n",
        "  elif SQLi_check(z[6]):\r\n",
        "    x = 'SQLi'\r\n",
        "  elif PT_check(z[6]):\r\n",
        "    x = 'PT'\r\n",
        "  elif OS_check(z[6]):\r\n",
        "    x = 'OS'\r\n",
        "  elif CRLFi_check(z[6]):\r\n",
        "    x = 'CRLFi'\r\n",
        "  elif SSI_check(z[6]):\r\n",
        "    x = 'SSI'\r\n",
        "  elif LDAPi_check(z[6]):\r\n",
        "    x = 'LDAPi'\r\n",
        "  elif XPath_check(z[6]):\r\n",
        "    x = 'XPath'\r\n",
        "  elif Anomaly_check(z[6]):\r\n",
        "    x = 'Anomaly'\r\n",
        "  else:\r\n",
        "    x = 'Normal'\r\n",
        "  data.append([z[1],z[4],z[5],z[6],z[8],x])"
      ],
      "execution_count": null,
      "outputs": []
    },
    {
      "cell_type": "code",
      "metadata": {
        "id": "Z11kl7mflqLK"
      },
      "source": [
        "df = pd.DataFrame(data, columns=['IP Address', 'Timestamp', 'Method','Request Vector','Response Code','Type'])"
      ],
      "execution_count": null,
      "outputs": []
    },
    {
      "cell_type": "code",
      "metadata": {
        "colab": {
          "base_uri": "https://localhost:8080/",
          "height": 402
        },
        "id": "QSU9GatbqHlH",
        "outputId": "f0e669cf-13b7-4242-c800-836fd46eeb50"
      },
      "source": [
        "df"
      ],
      "execution_count": null,
      "outputs": [
        {
          "output_type": "execute_result",
          "data": {
            "text/html": [
              "<div>\n",
              "<style scoped>\n",
              "    .dataframe tbody tr th:only-of-type {\n",
              "        vertical-align: middle;\n",
              "    }\n",
              "\n",
              "    .dataframe tbody tr th {\n",
              "        vertical-align: top;\n",
              "    }\n",
              "\n",
              "    .dataframe thead th {\n",
              "        text-align: right;\n",
              "    }\n",
              "</style>\n",
              "<table border=\"1\" class=\"dataframe\">\n",
              "  <thead>\n",
              "    <tr style=\"text-align: right;\">\n",
              "      <th></th>\n",
              "      <th>IP Address</th>\n",
              "      <th>Timestamp</th>\n",
              "      <th>Method</th>\n",
              "      <th>Request Vector</th>\n",
              "      <th>Response Code</th>\n",
              "      <th>Type</th>\n",
              "    </tr>\n",
              "  </thead>\n",
              "  <tbody>\n",
              "    <tr>\n",
              "      <th>0</th>\n",
              "      <td>127.0.0.1</td>\n",
              "      <td>16/Dec/2020:13:54:59 +0530</td>\n",
              "      <td>GET</td>\n",
              "      <td>/dvwa</td>\n",
              "      <td>404</td>\n",
              "      <td>Normal</td>\n",
              "    </tr>\n",
              "    <tr>\n",
              "      <th>1</th>\n",
              "      <td>127.0.0.1</td>\n",
              "      <td>16/Dec/2020:13:54:59 +0530</td>\n",
              "      <td>GET</td>\n",
              "      <td>/favicon.ico</td>\n",
              "      <td>200</td>\n",
              "      <td>Normal</td>\n",
              "    </tr>\n",
              "    <tr>\n",
              "      <th>2</th>\n",
              "      <td>127.0.0.1</td>\n",
              "      <td>16/Dec/2020:13:55:03 +0530</td>\n",
              "      <td>GET</td>\n",
              "      <td>/</td>\n",
              "      <td>200</td>\n",
              "      <td>Anomaly</td>\n",
              "    </tr>\n",
              "    <tr>\n",
              "      <th>3</th>\n",
              "      <td>127.0.0.1</td>\n",
              "      <td>16/Dec/2020:13:55:03 +0530</td>\n",
              "      <td>GET</td>\n",
              "      <td>/icons/blank.gif</td>\n",
              "      <td>200</td>\n",
              "      <td>Normal</td>\n",
              "    </tr>\n",
              "    <tr>\n",
              "      <th>4</th>\n",
              "      <td>127.0.0.1</td>\n",
              "      <td>16/Dec/2020:13:55:03 +0530</td>\n",
              "      <td>GET</td>\n",
              "      <td>/icons/folder.gif</td>\n",
              "      <td>200</td>\n",
              "      <td>Normal</td>\n",
              "    </tr>\n",
              "    <tr>\n",
              "      <th>...</th>\n",
              "      <td>...</td>\n",
              "      <td>...</td>\n",
              "      <td>...</td>\n",
              "      <td>...</td>\n",
              "      <td>...</td>\n",
              "      <td>...</td>\n",
              "    </tr>\n",
              "    <tr>\n",
              "      <th>118</th>\n",
              "      <td>127.0.0.1</td>\n",
              "      <td>18/Dec/2020:11:28:14 +0530</td>\n",
              "      <td>POST</td>\n",
              "      <td>/dvwa/vulnerabilities/exec/</td>\n",
              "      <td>200</td>\n",
              "      <td>Normal</td>\n",
              "    </tr>\n",
              "    <tr>\n",
              "      <th>119</th>\n",
              "      <td>127.0.0.1</td>\n",
              "      <td>18/Dec/2020:11:28:17 +0530</td>\n",
              "      <td>GET</td>\n",
              "      <td>/dvwa/vulnerabilities/csrf/</td>\n",
              "      <td>200</td>\n",
              "      <td>Normal</td>\n",
              "    </tr>\n",
              "    <tr>\n",
              "      <th>120</th>\n",
              "      <td>127.0.0.1</td>\n",
              "      <td>18/Dec/2020:11:28:21 +0530</td>\n",
              "      <td>GET</td>\n",
              "      <td>/dvwa/vulnerabilities/sqli/</td>\n",
              "      <td>200</td>\n",
              "      <td>Normal</td>\n",
              "    </tr>\n",
              "    <tr>\n",
              "      <th>121</th>\n",
              "      <td>127.0.0.1</td>\n",
              "      <td>18/Dec/2020:11:28:35 +0530</td>\n",
              "      <td>GET</td>\n",
              "      <td>/dvwa/vulnerabilities/sqli/?id=%22SELECT+*+FRO...</td>\n",
              "      <td>200</td>\n",
              "      <td>SQLi</td>\n",
              "    </tr>\n",
              "    <tr>\n",
              "      <th>122</th>\n",
              "      <td>127.0.0.1</td>\n",
              "      <td>18/Dec/2020:11:28:53 +0530</td>\n",
              "      <td>GET</td>\n",
              "      <td>/dvwa/vulnerabilities/sqli/?id=INSERT+INTO+Cus...</td>\n",
              "      <td>200</td>\n",
              "      <td>SQLi</td>\n",
              "    </tr>\n",
              "  </tbody>\n",
              "</table>\n",
              "<p>123 rows × 6 columns</p>\n",
              "</div>"
            ],
            "text/plain": [
              "    IP Address                   Timestamp  ... Response Code     Type\n",
              "0    127.0.0.1  16/Dec/2020:13:54:59 +0530  ...           404   Normal\n",
              "1    127.0.0.1  16/Dec/2020:13:54:59 +0530  ...           200   Normal\n",
              "2    127.0.0.1  16/Dec/2020:13:55:03 +0530  ...           200  Anomaly\n",
              "3    127.0.0.1  16/Dec/2020:13:55:03 +0530  ...           200   Normal\n",
              "4    127.0.0.1  16/Dec/2020:13:55:03 +0530  ...           200   Normal\n",
              "..         ...                         ...  ...           ...      ...\n",
              "118  127.0.0.1  18/Dec/2020:11:28:14 +0530  ...           200   Normal\n",
              "119  127.0.0.1  18/Dec/2020:11:28:17 +0530  ...           200   Normal\n",
              "120  127.0.0.1  18/Dec/2020:11:28:21 +0530  ...           200   Normal\n",
              "121  127.0.0.1  18/Dec/2020:11:28:35 +0530  ...           200     SQLi\n",
              "122  127.0.0.1  18/Dec/2020:11:28:53 +0530  ...           200     SQLi\n",
              "\n",
              "[123 rows x 6 columns]"
            ]
          },
          "metadata": {
            "tags": []
          },
          "execution_count": 98
        }
      ]
    },
    {
      "cell_type": "code",
      "metadata": {
        "colab": {
          "base_uri": "https://localhost:8080/"
        },
        "id": "flF-WA63EF2f",
        "outputId": "2720a0bc-78f1-4e64-9d7f-2873fbd59505"
      },
      "source": [
        "Anomaly_check(\"Mozilla/5.0 (Windows NT 10.0; Win64; x64) AppleWebKit/537.36 (KHTML, like Gecko) Chrome/87.0.4280.88 Safari/537.36\")"
      ],
      "execution_count": null,
      "outputs": [
        {
          "output_type": "execute_result",
          "data": {
            "text/plain": [
              "0"
            ]
          },
          "metadata": {
            "tags": []
          },
          "execution_count": 109
        }
      ]
    }
  ]
}