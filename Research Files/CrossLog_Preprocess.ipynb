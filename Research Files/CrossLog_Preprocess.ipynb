{
  "nbformat": 4,
  "nbformat_minor": 0,
  "metadata": {
    "colab": {
      "name": "CrossLog_Preprocess.ipynb",
      "provenance": [],
      "collapsed_sections": [],
      "authorship_tag": "ABX9TyMx93gfr/kUqvLxvUVC0dyF",
      "include_colab_link": true
    },
    "kernelspec": {
      "name": "python3",
      "display_name": "Python 3"
    }
  },
  "cells": [
    {
      "cell_type": "markdown",
      "metadata": {
        "id": "view-in-github",
        "colab_type": "text"
      },
      "source": [
        "<a href=\"https://colab.research.google.com/github/Narendran36/CrossLog-Intelligent-Log-Analyzer/blob/main/Research%20Files/CrossLog_Preprocess.ipynb\" target=\"_parent\"><img src=\"https://colab.research.google.com/assets/colab-badge.svg\" alt=\"Open In Colab\"/></a>"
      ]
    },
    {
      "cell_type": "code",
      "metadata": {
        "colab": {
          "base_uri": "https://localhost:8080/"
        },
        "id": "BQAsMyIEG9Bd",
        "outputId": "079f74b9-18c6-461f-d43f-7a0b63e10781"
      },
      "source": [
        "from google.colab import drive \n",
        "drive.mount('/content/drive', force_remount=True)"
      ],
      "execution_count": null,
      "outputs": [
        {
          "output_type": "stream",
          "text": [
            "Mounted at /content/drive\n"
          ],
          "name": "stdout"
        }
      ]
    },
    {
      "cell_type": "code",
      "metadata": {
        "id": "0NFhPTLWHHoS"
      },
      "source": [
        "import pandas as pd"
      ],
      "execution_count": null,
      "outputs": []
    },
    {
      "cell_type": "code",
      "metadata": {
        "id": "qlCP1GPcHLkC"
      },
      "source": [
        "df = pd.read_csv(\"drive/MyDrive/final_dataset.csv\")"
      ],
      "execution_count": null,
      "outputs": []
    },
    {
      "cell_type": "code",
      "metadata": {
        "id": "jJ_3XBWKHYtj"
      },
      "source": [
        "df = df[['type','path','query']]"
      ],
      "execution_count": null,
      "outputs": []
    },
    {
      "cell_type": "code",
      "metadata": {
        "colab": {
          "base_uri": "https://localhost:8080/",
          "height": 402
        },
        "id": "ajqm-EbaHwMd",
        "outputId": "3559de04-74be-4142-a120-fb07040385df"
      },
      "source": [
        "df"
      ],
      "execution_count": null,
      "outputs": [
        {
          "output_type": "execute_result",
          "data": {
            "text/html": [
              "<div>\n",
              "<style scoped>\n",
              "    .dataframe tbody tr th:only-of-type {\n",
              "        vertical-align: middle;\n",
              "    }\n",
              "\n",
              "    .dataframe tbody tr th {\n",
              "        vertical-align: top;\n",
              "    }\n",
              "\n",
              "    .dataframe thead th {\n",
              "        text-align: right;\n",
              "    }\n",
              "</style>\n",
              "<table border=\"1\" class=\"dataframe\">\n",
              "  <thead>\n",
              "    <tr style=\"text-align: right;\">\n",
              "      <th></th>\n",
              "      <th>type</th>\n",
              "      <th>path</th>\n",
              "      <th>query</th>\n",
              "    </tr>\n",
              "  </thead>\n",
              "  <tbody>\n",
              "    <tr>\n",
              "      <th>0</th>\n",
              "      <td>Valid</td>\n",
              "      <td>/l_t@/_Feu1wvhtpass2/1nieQnnrvnzktuasain/tg1AR...</td>\n",
              "      <td>crTeYreti=wsn&amp;et3tf6shoV=tdsviee+y+fum%24oh3%3...</td>\n",
              "    </tr>\n",
              "    <tr>\n",
              "      <th>1</th>\n",
              "      <td>Valid</td>\n",
              "      <td>/inssgtz7ieltdSstbw7e/neQhmsdwu7imdb0etet/eT/h...</td>\n",
              "      <td>Settotzeertnl=%27pn+&amp;8nafitm=74LuKUC5t0J&amp;4ttNe...</td>\n",
              "    </tr>\n",
              "    <tr>\n",
              "      <th>2</th>\n",
              "      <td>Valid</td>\n",
              "      <td>/fonRnt/7N.D-4BRSsXb@TU/qgheW.cfm</td>\n",
              "      <td>NaN</td>\n",
              "    </tr>\n",
              "    <tr>\n",
              "      <th>3</th>\n",
              "      <td>Valid</td>\n",
              "      <td>/dyylkL.XD9cPu/4Ot0ta/ts6xNrP1/hssh/a2cuerht/s...</td>\n",
              "      <td>DFDi7ftp=37redocumentilN&amp;l4setbemmo=oe_RDzQ&amp;rt...</td>\n",
              "    </tr>\n",
              "    <tr>\n",
              "      <th>4</th>\n",
              "      <td>Valid</td>\n",
              "      <td>/2m6VLb1r37jSPC/cWVv/Mbar/oqrd0/msc/etceebwgi/...</td>\n",
              "      <td>upcthyrsrtztir=90&amp;o@gCv=uy&amp;l6=S4&amp;nrtrzevjgah=3...</td>\n",
              "    </tr>\n",
              "    <tr>\n",
              "      <th>...</th>\n",
              "      <td>...</td>\n",
              "      <td>...</td>\n",
              "      <td>...</td>\n",
              "    </tr>\n",
              "    <tr>\n",
              "      <th>125971</th>\n",
              "      <td>Valid</td>\n",
              "      <td>/tienda1/publico/registro.jsp</td>\n",
              "      <td>modo=registro&amp;login=m4&amp;password=8CA63951&amp;nombr...</td>\n",
              "    </tr>\n",
              "    <tr>\n",
              "      <th>125972</th>\n",
              "      <td>Valid</td>\n",
              "      <td>/tienda1/publico/registro.jsp</td>\n",
              "      <td>modo=registro&amp;login=m4&amp;password=acalugar&amp;nombr...</td>\n",
              "    </tr>\n",
              "    <tr>\n",
              "      <th>125973</th>\n",
              "      <td>Valid</td>\n",
              "      <td>/tienda1/publico/registro.jsp</td>\n",
              "      <td>modo=registro&amp;login=m4&amp;password=ACalUMNIadoR&amp;n...</td>\n",
              "    </tr>\n",
              "    <tr>\n",
              "      <th>125974</th>\n",
              "      <td>Valid</td>\n",
              "      <td>/tienda1/publico/registro.jsp</td>\n",
              "      <td>modo=registro&amp;login=m4&amp;password=acalumniadora&amp;...</td>\n",
              "    </tr>\n",
              "    <tr>\n",
              "      <th>125975</th>\n",
              "      <td>Valid</td>\n",
              "      <td>/tienda1/publico/registro.jsp</td>\n",
              "      <td>modo=registro&amp;login=m4&amp;password=a95m43l8da&amp;nom...</td>\n",
              "    </tr>\n",
              "  </tbody>\n",
              "</table>\n",
              "<p>125976 rows × 3 columns</p>\n",
              "</div>"
            ],
            "text/plain": [
              "         type  ...                                              query\n",
              "0       Valid  ...  crTeYreti=wsn&et3tf6shoV=tdsviee+y+fum%24oh3%3...\n",
              "1       Valid  ...  Settotzeertnl=%27pn+&8nafitm=74LuKUC5t0J&4ttNe...\n",
              "2       Valid  ...                                                NaN\n",
              "3       Valid  ...  DFDi7ftp=37redocumentilN&l4setbemmo=oe_RDzQ&rt...\n",
              "4       Valid  ...  upcthyrsrtztir=90&o@gCv=uy&l6=S4&nrtrzevjgah=3...\n",
              "...       ...  ...                                                ...\n",
              "125971  Valid  ...  modo=registro&login=m4&password=8CA63951&nombr...\n",
              "125972  Valid  ...  modo=registro&login=m4&password=acalugar&nombr...\n",
              "125973  Valid  ...  modo=registro&login=m4&password=ACalUMNIadoR&n...\n",
              "125974  Valid  ...  modo=registro&login=m4&password=acalumniadora&...\n",
              "125975  Valid  ...  modo=registro&login=m4&password=a95m43l8da&nom...\n",
              "\n",
              "[125976 rows x 3 columns]"
            ]
          },
          "metadata": {
            "tags": []
          },
          "execution_count": 15
        }
      ]
    },
    {
      "cell_type": "code",
      "metadata": {
        "colab": {
          "base_uri": "https://localhost:8080/",
          "height": 373
        },
        "id": "rFEB7DjbHxcu",
        "outputId": "06b06254-cd61-48ce-8567-09b4bf0ff877"
      },
      "source": [
        "df.groupby(['type']).count()"
      ],
      "execution_count": null,
      "outputs": [
        {
          "output_type": "execute_result",
          "data": {
            "text/html": [
              "<div>\n",
              "<style scoped>\n",
              "    .dataframe tbody tr th:only-of-type {\n",
              "        vertical-align: middle;\n",
              "    }\n",
              "\n",
              "    .dataframe tbody tr th {\n",
              "        vertical-align: top;\n",
              "    }\n",
              "\n",
              "    .dataframe thead th {\n",
              "        text-align: right;\n",
              "    }\n",
              "</style>\n",
              "<table border=\"1\" class=\"dataframe\">\n",
              "  <thead>\n",
              "    <tr style=\"text-align: right;\">\n",
              "      <th></th>\n",
              "      <th>path</th>\n",
              "      <th>query</th>\n",
              "    </tr>\n",
              "    <tr>\n",
              "      <th>type</th>\n",
              "      <th></th>\n",
              "      <th></th>\n",
              "    </tr>\n",
              "  </thead>\n",
              "  <tbody>\n",
              "    <tr>\n",
              "      <th>CRLFi</th>\n",
              "      <td>327</td>\n",
              "      <td>327</td>\n",
              "    </tr>\n",
              "    <tr>\n",
              "      <th>LDAPi</th>\n",
              "      <td>2353</td>\n",
              "      <td>2306</td>\n",
              "    </tr>\n",
              "    <tr>\n",
              "      <th>OS</th>\n",
              "      <td>3420</td>\n",
              "      <td>3078</td>\n",
              "    </tr>\n",
              "    <tr>\n",
              "      <th>PT</th>\n",
              "      <td>3029</td>\n",
              "      <td>2699</td>\n",
              "    </tr>\n",
              "    <tr>\n",
              "      <th>SQLi</th>\n",
              "      <td>45573</td>\n",
              "      <td>45517</td>\n",
              "    </tr>\n",
              "    <tr>\n",
              "      <th>SSI</th>\n",
              "      <td>2349</td>\n",
              "      <td>2296</td>\n",
              "    </tr>\n",
              "    <tr>\n",
              "      <th>Valid</th>\n",
              "      <td>43369</td>\n",
              "      <td>37178</td>\n",
              "    </tr>\n",
              "    <tr>\n",
              "      <th>XPath</th>\n",
              "      <td>2454</td>\n",
              "      <td>2403</td>\n",
              "    </tr>\n",
              "    <tr>\n",
              "      <th>XSS</th>\n",
              "      <td>6643</td>\n",
              "      <td>6502</td>\n",
              "    </tr>\n",
              "    <tr>\n",
              "      <th>anomalous</th>\n",
              "      <td>16459</td>\n",
              "      <td>16361</td>\n",
              "    </tr>\n",
              "  </tbody>\n",
              "</table>\n",
              "</div>"
            ],
            "text/plain": [
              "            path  query\n",
              "type                   \n",
              "CRLFi        327    327\n",
              "LDAPi       2353   2306\n",
              "OS          3420   3078\n",
              "PT          3029   2699\n",
              "SQLi       45573  45517\n",
              "SSI         2349   2296\n",
              "Valid      43369  37178\n",
              "XPath       2454   2403\n",
              "XSS         6643   6502\n",
              "anomalous  16459  16361"
            ]
          },
          "metadata": {
            "tags": []
          },
          "execution_count": 16
        }
      ]
    },
    {
      "cell_type": "code",
      "metadata": {
        "id": "1iIIkJcMIZiL"
      },
      "source": [
        "refer: https://medium.com/@dhiraj.sanju/decode-urls-using-pandas-and-urllib-in-python-3ef355a78826"
      ],
      "execution_count": null,
      "outputs": []
    },
    {
      "cell_type": "code",
      "metadata": {
        "colab": {
          "base_uri": "https://localhost:8080/",
          "height": 195
        },
        "id": "0U4mP0MCTMbD",
        "outputId": "4dce3614-210f-4a08-8bfe-ddf48d431ed1"
      },
      "source": [
        "df.head()"
      ],
      "execution_count": null,
      "outputs": [
        {
          "output_type": "execute_result",
          "data": {
            "text/html": [
              "<div>\n",
              "<style scoped>\n",
              "    .dataframe tbody tr th:only-of-type {\n",
              "        vertical-align: middle;\n",
              "    }\n",
              "\n",
              "    .dataframe tbody tr th {\n",
              "        vertical-align: top;\n",
              "    }\n",
              "\n",
              "    .dataframe thead th {\n",
              "        text-align: right;\n",
              "    }\n",
              "</style>\n",
              "<table border=\"1\" class=\"dataframe\">\n",
              "  <thead>\n",
              "    <tr style=\"text-align: right;\">\n",
              "      <th></th>\n",
              "      <th>type</th>\n",
              "      <th>path</th>\n",
              "      <th>query</th>\n",
              "    </tr>\n",
              "  </thead>\n",
              "  <tbody>\n",
              "    <tr>\n",
              "      <th>0</th>\n",
              "      <td>Valid</td>\n",
              "      <td>/l_t@/_Feu1wvhtpass2/1nieQnnrvnzktuasain/tg1AR...</td>\n",
              "      <td>crTeYreti=wsn&amp;et3tf6shoV=tdsviee+y+fum%24oh3%3...</td>\n",
              "    </tr>\n",
              "    <tr>\n",
              "      <th>1</th>\n",
              "      <td>Valid</td>\n",
              "      <td>/inssgtz7ieltdSstbw7e/neQhmsdwu7imdb0etet/eT/h...</td>\n",
              "      <td>Settotzeertnl=%27pn+&amp;8nafitm=74LuKUC5t0J&amp;4ttNe...</td>\n",
              "    </tr>\n",
              "    <tr>\n",
              "      <th>2</th>\n",
              "      <td>Valid</td>\n",
              "      <td>/fonRnt/7N.D-4BRSsXb@TU/qgheW.cfm</td>\n",
              "      <td>NaN</td>\n",
              "    </tr>\n",
              "    <tr>\n",
              "      <th>3</th>\n",
              "      <td>Valid</td>\n",
              "      <td>/dyylkL.XD9cPu/4Ot0ta/ts6xNrP1/hssh/a2cuerht/s...</td>\n",
              "      <td>DFDi7ftp=37redocumentilN&amp;l4setbemmo=oe_RDzQ&amp;rt...</td>\n",
              "    </tr>\n",
              "    <tr>\n",
              "      <th>4</th>\n",
              "      <td>Valid</td>\n",
              "      <td>/2m6VLb1r37jSPC/cWVv/Mbar/oqrd0/msc/etceebwgi/...</td>\n",
              "      <td>upcthyrsrtztir=90&amp;o@gCv=uy&amp;l6=S4&amp;nrtrzevjgah=3...</td>\n",
              "    </tr>\n",
              "  </tbody>\n",
              "</table>\n",
              "</div>"
            ],
            "text/plain": [
              "    type  ...                                              query\n",
              "0  Valid  ...  crTeYreti=wsn&et3tf6shoV=tdsviee+y+fum%24oh3%3...\n",
              "1  Valid  ...  Settotzeertnl=%27pn+&8nafitm=74LuKUC5t0J&4ttNe...\n",
              "2  Valid  ...                                                NaN\n",
              "3  Valid  ...  DFDi7ftp=37redocumentilN&l4setbemmo=oe_RDzQ&rt...\n",
              "4  Valid  ...  upcthyrsrtztir=90&o@gCv=uy&l6=S4&nrtrzevjgah=3...\n",
              "\n",
              "[5 rows x 3 columns]"
            ]
          },
          "metadata": {
            "tags": []
          },
          "execution_count": 17
        }
      ]
    },
    {
      "cell_type": "code",
      "metadata": {
        "id": "Oz49prPgpKeV"
      },
      "source": [
        "df.loc[~df['query'].isnull(),'result'] = df.loc[~df['query'].isnull(),'path'].fillna('') + '?' + df.loc[~df['query'].isnull(),'query'].fillna('')"
      ],
      "execution_count": null,
      "outputs": []
    },
    {
      "cell_type": "code",
      "metadata": {
        "colab": {
          "base_uri": "https://localhost:8080/",
          "height": 402
        },
        "id": "ypBbk-QeqZti",
        "outputId": "ca5ee40b-46a3-44ba-fca5-be263d1eca32"
      },
      "source": [
        "df"
      ],
      "execution_count": null,
      "outputs": [
        {
          "output_type": "execute_result",
          "data": {
            "text/html": [
              "<div>\n",
              "<style scoped>\n",
              "    .dataframe tbody tr th:only-of-type {\n",
              "        vertical-align: middle;\n",
              "    }\n",
              "\n",
              "    .dataframe tbody tr th {\n",
              "        vertical-align: top;\n",
              "    }\n",
              "\n",
              "    .dataframe thead th {\n",
              "        text-align: right;\n",
              "    }\n",
              "</style>\n",
              "<table border=\"1\" class=\"dataframe\">\n",
              "  <thead>\n",
              "    <tr style=\"text-align: right;\">\n",
              "      <th></th>\n",
              "      <th>type</th>\n",
              "      <th>path</th>\n",
              "      <th>query</th>\n",
              "      <th>result</th>\n",
              "    </tr>\n",
              "  </thead>\n",
              "  <tbody>\n",
              "    <tr>\n",
              "      <th>0</th>\n",
              "      <td>Valid</td>\n",
              "      <td>/l_t@/_Feu1wvhtpass2/1nieQnnrvnzktuasain/tg1AR...</td>\n",
              "      <td>crTeYreti=wsn&amp;et3tf6shoV=tdsviee+y+fum%24oh3%3...</td>\n",
              "      <td>/l_t@/_Feu1wvhtpass2/1nieQnnrvnzktuasain/tg1AR...</td>\n",
              "    </tr>\n",
              "    <tr>\n",
              "      <th>1</th>\n",
              "      <td>Valid</td>\n",
              "      <td>/inssgtz7ieltdSstbw7e/neQhmsdwu7imdb0etet/eT/h...</td>\n",
              "      <td>Settotzeertnl=%27pn+&amp;8nafitm=74LuKUC5t0J&amp;4ttNe...</td>\n",
              "      <td>/inssgtz7ieltdSstbw7e/neQhmsdwu7imdb0etet/eT/h...</td>\n",
              "    </tr>\n",
              "    <tr>\n",
              "      <th>2</th>\n",
              "      <td>Valid</td>\n",
              "      <td>/fonRnt/7N.D-4BRSsXb@TU/qgheW.cfm</td>\n",
              "      <td>NaN</td>\n",
              "      <td>NaN</td>\n",
              "    </tr>\n",
              "    <tr>\n",
              "      <th>3</th>\n",
              "      <td>Valid</td>\n",
              "      <td>/dyylkL.XD9cPu/4Ot0ta/ts6xNrP1/hssh/a2cuerht/s...</td>\n",
              "      <td>DFDi7ftp=37redocumentilN&amp;l4setbemmo=oe_RDzQ&amp;rt...</td>\n",
              "      <td>/dyylkL.XD9cPu/4Ot0ta/ts6xNrP1/hssh/a2cuerht/s...</td>\n",
              "    </tr>\n",
              "    <tr>\n",
              "      <th>4</th>\n",
              "      <td>Valid</td>\n",
              "      <td>/2m6VLb1r37jSPC/cWVv/Mbar/oqrd0/msc/etceebwgi/...</td>\n",
              "      <td>upcthyrsrtztir=90&amp;o@gCv=uy&amp;l6=S4&amp;nrtrzevjgah=3...</td>\n",
              "      <td>/2m6VLb1r37jSPC/cWVv/Mbar/oqrd0/msc/etceebwgi/...</td>\n",
              "    </tr>\n",
              "    <tr>\n",
              "      <th>...</th>\n",
              "      <td>...</td>\n",
              "      <td>...</td>\n",
              "      <td>...</td>\n",
              "      <td>...</td>\n",
              "    </tr>\n",
              "    <tr>\n",
              "      <th>125971</th>\n",
              "      <td>Valid</td>\n",
              "      <td>/tienda1/publico/registro.jsp</td>\n",
              "      <td>modo=registro&amp;login=m4&amp;password=8CA63951&amp;nombr...</td>\n",
              "      <td>/tienda1/publico/registro.jsp?modo=registro&amp;lo...</td>\n",
              "    </tr>\n",
              "    <tr>\n",
              "      <th>125972</th>\n",
              "      <td>Valid</td>\n",
              "      <td>/tienda1/publico/registro.jsp</td>\n",
              "      <td>modo=registro&amp;login=m4&amp;password=acalugar&amp;nombr...</td>\n",
              "      <td>/tienda1/publico/registro.jsp?modo=registro&amp;lo...</td>\n",
              "    </tr>\n",
              "    <tr>\n",
              "      <th>125973</th>\n",
              "      <td>Valid</td>\n",
              "      <td>/tienda1/publico/registro.jsp</td>\n",
              "      <td>modo=registro&amp;login=m4&amp;password=ACalUMNIadoR&amp;n...</td>\n",
              "      <td>/tienda1/publico/registro.jsp?modo=registro&amp;lo...</td>\n",
              "    </tr>\n",
              "    <tr>\n",
              "      <th>125974</th>\n",
              "      <td>Valid</td>\n",
              "      <td>/tienda1/publico/registro.jsp</td>\n",
              "      <td>modo=registro&amp;login=m4&amp;password=acalumniadora&amp;...</td>\n",
              "      <td>/tienda1/publico/registro.jsp?modo=registro&amp;lo...</td>\n",
              "    </tr>\n",
              "    <tr>\n",
              "      <th>125975</th>\n",
              "      <td>Valid</td>\n",
              "      <td>/tienda1/publico/registro.jsp</td>\n",
              "      <td>modo=registro&amp;login=m4&amp;password=a95m43l8da&amp;nom...</td>\n",
              "      <td>/tienda1/publico/registro.jsp?modo=registro&amp;lo...</td>\n",
              "    </tr>\n",
              "  </tbody>\n",
              "</table>\n",
              "<p>125976 rows × 4 columns</p>\n",
              "</div>"
            ],
            "text/plain": [
              "         type  ...                                             result\n",
              "0       Valid  ...  /l_t@/_Feu1wvhtpass2/1nieQnnrvnzktuasain/tg1AR...\n",
              "1       Valid  ...  /inssgtz7ieltdSstbw7e/neQhmsdwu7imdb0etet/eT/h...\n",
              "2       Valid  ...                                                NaN\n",
              "3       Valid  ...  /dyylkL.XD9cPu/4Ot0ta/ts6xNrP1/hssh/a2cuerht/s...\n",
              "4       Valid  ...  /2m6VLb1r37jSPC/cWVv/Mbar/oqrd0/msc/etceebwgi/...\n",
              "...       ...  ...                                                ...\n",
              "125971  Valid  ...  /tienda1/publico/registro.jsp?modo=registro&lo...\n",
              "125972  Valid  ...  /tienda1/publico/registro.jsp?modo=registro&lo...\n",
              "125973  Valid  ...  /tienda1/publico/registro.jsp?modo=registro&lo...\n",
              "125974  Valid  ...  /tienda1/publico/registro.jsp?modo=registro&lo...\n",
              "125975  Valid  ...  /tienda1/publico/registro.jsp?modo=registro&lo...\n",
              "\n",
              "[125976 rows x 4 columns]"
            ]
          },
          "metadata": {
            "tags": []
          },
          "execution_count": 19
        }
      ]
    },
    {
      "cell_type": "code",
      "metadata": {
        "colab": {
          "base_uri": "https://localhost:8080/",
          "height": 53
        },
        "id": "2oJatjQvqePY",
        "outputId": "f0d341ff-1e41-497b-b07c-87a298456933"
      },
      "source": [
        "df['result'][0]"
      ],
      "execution_count": null,
      "outputs": [
        {
          "output_type": "execute_result",
          "data": {
            "application/vnd.google.colaboratory.intrinsic+json": {
              "type": "string"
            },
            "text/plain": [
              "'/l_t@/_Feu1wvhtpass2/1nieQnnrvnzktuasain/tg1ARIfG_oNC_d/ms/o1xRytTk34/oVkR_D8Zz/dWVCNK7AQ-m1CRGy_/zYHrk2P0brDP/oe/pYYxRGgNhIk2N1tWiI.png?crTeYreti=wsn&et3tf6shoV=tdsviee+y+fum%24oh3%3Bore&sAib5hfAvhEpC=tcilbrr+Lne'"
            ]
          },
          "metadata": {
            "tags": []
          },
          "execution_count": 24
        }
      ]
    },
    {
      "cell_type": "code",
      "metadata": {
        "id": "wYpI2bGsqpGQ"
      },
      "source": [
        "df.loc[df['query'].isnull(),'result'] = df.loc[df['query'].isnull(),'path'].fillna('')# + '?' + df.loc[~df['query'].isnull(),'query'].fillna('')"
      ],
      "execution_count": null,
      "outputs": []
    },
    {
      "cell_type": "code",
      "metadata": {
        "colab": {
          "base_uri": "https://localhost:8080/",
          "height": 402
        },
        "id": "USb6Nu-Zr3A9",
        "outputId": "4655a061-be28-4138-acd3-a2456bdcdf94"
      },
      "source": [
        "df"
      ],
      "execution_count": null,
      "outputs": [
        {
          "output_type": "execute_result",
          "data": {
            "text/html": [
              "<div>\n",
              "<style scoped>\n",
              "    .dataframe tbody tr th:only-of-type {\n",
              "        vertical-align: middle;\n",
              "    }\n",
              "\n",
              "    .dataframe tbody tr th {\n",
              "        vertical-align: top;\n",
              "    }\n",
              "\n",
              "    .dataframe thead th {\n",
              "        text-align: right;\n",
              "    }\n",
              "</style>\n",
              "<table border=\"1\" class=\"dataframe\">\n",
              "  <thead>\n",
              "    <tr style=\"text-align: right;\">\n",
              "      <th></th>\n",
              "      <th>type</th>\n",
              "      <th>path</th>\n",
              "      <th>query</th>\n",
              "      <th>result</th>\n",
              "    </tr>\n",
              "  </thead>\n",
              "  <tbody>\n",
              "    <tr>\n",
              "      <th>0</th>\n",
              "      <td>Valid</td>\n",
              "      <td>/l_t@/_Feu1wvhtpass2/1nieQnnrvnzktuasain/tg1AR...</td>\n",
              "      <td>crTeYreti=wsn&amp;et3tf6shoV=tdsviee+y+fum%24oh3%3...</td>\n",
              "      <td>/l_t@/_Feu1wvhtpass2/1nieQnnrvnzktuasain/tg1AR...</td>\n",
              "    </tr>\n",
              "    <tr>\n",
              "      <th>1</th>\n",
              "      <td>Valid</td>\n",
              "      <td>/inssgtz7ieltdSstbw7e/neQhmsdwu7imdb0etet/eT/h...</td>\n",
              "      <td>Settotzeertnl=%27pn+&amp;8nafitm=74LuKUC5t0J&amp;4ttNe...</td>\n",
              "      <td>/inssgtz7ieltdSstbw7e/neQhmsdwu7imdb0etet/eT/h...</td>\n",
              "    </tr>\n",
              "    <tr>\n",
              "      <th>2</th>\n",
              "      <td>Valid</td>\n",
              "      <td>/fonRnt/7N.D-4BRSsXb@TU/qgheW.cfm</td>\n",
              "      <td>NaN</td>\n",
              "      <td>/fonRnt/7N.D-4BRSsXb@TU/qgheW.cfm</td>\n",
              "    </tr>\n",
              "    <tr>\n",
              "      <th>3</th>\n",
              "      <td>Valid</td>\n",
              "      <td>/dyylkL.XD9cPu/4Ot0ta/ts6xNrP1/hssh/a2cuerht/s...</td>\n",
              "      <td>DFDi7ftp=37redocumentilN&amp;l4setbemmo=oe_RDzQ&amp;rt...</td>\n",
              "      <td>/dyylkL.XD9cPu/4Ot0ta/ts6xNrP1/hssh/a2cuerht/s...</td>\n",
              "    </tr>\n",
              "    <tr>\n",
              "      <th>4</th>\n",
              "      <td>Valid</td>\n",
              "      <td>/2m6VLb1r37jSPC/cWVv/Mbar/oqrd0/msc/etceebwgi/...</td>\n",
              "      <td>upcthyrsrtztir=90&amp;o@gCv=uy&amp;l6=S4&amp;nrtrzevjgah=3...</td>\n",
              "      <td>/2m6VLb1r37jSPC/cWVv/Mbar/oqrd0/msc/etceebwgi/...</td>\n",
              "    </tr>\n",
              "    <tr>\n",
              "      <th>...</th>\n",
              "      <td>...</td>\n",
              "      <td>...</td>\n",
              "      <td>...</td>\n",
              "      <td>...</td>\n",
              "    </tr>\n",
              "    <tr>\n",
              "      <th>125971</th>\n",
              "      <td>Valid</td>\n",
              "      <td>/tienda1/publico/registro.jsp</td>\n",
              "      <td>modo=registro&amp;login=m4&amp;password=8CA63951&amp;nombr...</td>\n",
              "      <td>/tienda1/publico/registro.jsp?modo=registro&amp;lo...</td>\n",
              "    </tr>\n",
              "    <tr>\n",
              "      <th>125972</th>\n",
              "      <td>Valid</td>\n",
              "      <td>/tienda1/publico/registro.jsp</td>\n",
              "      <td>modo=registro&amp;login=m4&amp;password=acalugar&amp;nombr...</td>\n",
              "      <td>/tienda1/publico/registro.jsp?modo=registro&amp;lo...</td>\n",
              "    </tr>\n",
              "    <tr>\n",
              "      <th>125973</th>\n",
              "      <td>Valid</td>\n",
              "      <td>/tienda1/publico/registro.jsp</td>\n",
              "      <td>modo=registro&amp;login=m4&amp;password=ACalUMNIadoR&amp;n...</td>\n",
              "      <td>/tienda1/publico/registro.jsp?modo=registro&amp;lo...</td>\n",
              "    </tr>\n",
              "    <tr>\n",
              "      <th>125974</th>\n",
              "      <td>Valid</td>\n",
              "      <td>/tienda1/publico/registro.jsp</td>\n",
              "      <td>modo=registro&amp;login=m4&amp;password=acalumniadora&amp;...</td>\n",
              "      <td>/tienda1/publico/registro.jsp?modo=registro&amp;lo...</td>\n",
              "    </tr>\n",
              "    <tr>\n",
              "      <th>125975</th>\n",
              "      <td>Valid</td>\n",
              "      <td>/tienda1/publico/registro.jsp</td>\n",
              "      <td>modo=registro&amp;login=m4&amp;password=a95m43l8da&amp;nom...</td>\n",
              "      <td>/tienda1/publico/registro.jsp?modo=registro&amp;lo...</td>\n",
              "    </tr>\n",
              "  </tbody>\n",
              "</table>\n",
              "<p>125976 rows × 4 columns</p>\n",
              "</div>"
            ],
            "text/plain": [
              "         type  ...                                             result\n",
              "0       Valid  ...  /l_t@/_Feu1wvhtpass2/1nieQnnrvnzktuasain/tg1AR...\n",
              "1       Valid  ...  /inssgtz7ieltdSstbw7e/neQhmsdwu7imdb0etet/eT/h...\n",
              "2       Valid  ...                  /fonRnt/7N.D-4BRSsXb@TU/qgheW.cfm\n",
              "3       Valid  ...  /dyylkL.XD9cPu/4Ot0ta/ts6xNrP1/hssh/a2cuerht/s...\n",
              "4       Valid  ...  /2m6VLb1r37jSPC/cWVv/Mbar/oqrd0/msc/etceebwgi/...\n",
              "...       ...  ...                                                ...\n",
              "125971  Valid  ...  /tienda1/publico/registro.jsp?modo=registro&lo...\n",
              "125972  Valid  ...  /tienda1/publico/registro.jsp?modo=registro&lo...\n",
              "125973  Valid  ...  /tienda1/publico/registro.jsp?modo=registro&lo...\n",
              "125974  Valid  ...  /tienda1/publico/registro.jsp?modo=registro&lo...\n",
              "125975  Valid  ...  /tienda1/publico/registro.jsp?modo=registro&lo...\n",
              "\n",
              "[125976 rows x 4 columns]"
            ]
          },
          "metadata": {
            "tags": []
          },
          "execution_count": 21
        }
      ]
    },
    {
      "cell_type": "code",
      "metadata": {
        "id": "GSsIRH8WsV0G"
      },
      "source": [
        "df = df[['type','result']]"
      ],
      "execution_count": null,
      "outputs": []
    },
    {
      "cell_type": "code",
      "metadata": {
        "colab": {
          "base_uri": "https://localhost:8080/",
          "height": 402
        },
        "id": "2Q4wsWFGsaN0",
        "outputId": "e3971224-c850-40bb-a081-5659364aa921"
      },
      "source": [
        "df"
      ],
      "execution_count": null,
      "outputs": [
        {
          "output_type": "execute_result",
          "data": {
            "text/html": [
              "<div>\n",
              "<style scoped>\n",
              "    .dataframe tbody tr th:only-of-type {\n",
              "        vertical-align: middle;\n",
              "    }\n",
              "\n",
              "    .dataframe tbody tr th {\n",
              "        vertical-align: top;\n",
              "    }\n",
              "\n",
              "    .dataframe thead th {\n",
              "        text-align: right;\n",
              "    }\n",
              "</style>\n",
              "<table border=\"1\" class=\"dataframe\">\n",
              "  <thead>\n",
              "    <tr style=\"text-align: right;\">\n",
              "      <th></th>\n",
              "      <th>type</th>\n",
              "      <th>result</th>\n",
              "    </tr>\n",
              "  </thead>\n",
              "  <tbody>\n",
              "    <tr>\n",
              "      <th>0</th>\n",
              "      <td>Valid</td>\n",
              "      <td>/l_t@/_Feu1wvhtpass2/1nieQnnrvnzktuasain/tg1AR...</td>\n",
              "    </tr>\n",
              "    <tr>\n",
              "      <th>1</th>\n",
              "      <td>Valid</td>\n",
              "      <td>/inssgtz7ieltdSstbw7e/neQhmsdwu7imdb0etet/eT/h...</td>\n",
              "    </tr>\n",
              "    <tr>\n",
              "      <th>2</th>\n",
              "      <td>Valid</td>\n",
              "      <td>/fonRnt/7N.D-4BRSsXb@TU/qgheW.cfm</td>\n",
              "    </tr>\n",
              "    <tr>\n",
              "      <th>3</th>\n",
              "      <td>Valid</td>\n",
              "      <td>/dyylkL.XD9cPu/4Ot0ta/ts6xNrP1/hssh/a2cuerht/s...</td>\n",
              "    </tr>\n",
              "    <tr>\n",
              "      <th>4</th>\n",
              "      <td>Valid</td>\n",
              "      <td>/2m6VLb1r37jSPC/cWVv/Mbar/oqrd0/msc/etceebwgi/...</td>\n",
              "    </tr>\n",
              "    <tr>\n",
              "      <th>...</th>\n",
              "      <td>...</td>\n",
              "      <td>...</td>\n",
              "    </tr>\n",
              "    <tr>\n",
              "      <th>125971</th>\n",
              "      <td>Valid</td>\n",
              "      <td>/tienda1/publico/registro.jsp?modo=registro&amp;lo...</td>\n",
              "    </tr>\n",
              "    <tr>\n",
              "      <th>125972</th>\n",
              "      <td>Valid</td>\n",
              "      <td>/tienda1/publico/registro.jsp?modo=registro&amp;lo...</td>\n",
              "    </tr>\n",
              "    <tr>\n",
              "      <th>125973</th>\n",
              "      <td>Valid</td>\n",
              "      <td>/tienda1/publico/registro.jsp?modo=registro&amp;lo...</td>\n",
              "    </tr>\n",
              "    <tr>\n",
              "      <th>125974</th>\n",
              "      <td>Valid</td>\n",
              "      <td>/tienda1/publico/registro.jsp?modo=registro&amp;lo...</td>\n",
              "    </tr>\n",
              "    <tr>\n",
              "      <th>125975</th>\n",
              "      <td>Valid</td>\n",
              "      <td>/tienda1/publico/registro.jsp?modo=registro&amp;lo...</td>\n",
              "    </tr>\n",
              "  </tbody>\n",
              "</table>\n",
              "<p>125976 rows × 2 columns</p>\n",
              "</div>"
            ],
            "text/plain": [
              "         type                                             result\n",
              "0       Valid  /l_t@/_Feu1wvhtpass2/1nieQnnrvnzktuasain/tg1AR...\n",
              "1       Valid  /inssgtz7ieltdSstbw7e/neQhmsdwu7imdb0etet/eT/h...\n",
              "2       Valid                  /fonRnt/7N.D-4BRSsXb@TU/qgheW.cfm\n",
              "3       Valid  /dyylkL.XD9cPu/4Ot0ta/ts6xNrP1/hssh/a2cuerht/s...\n",
              "4       Valid  /2m6VLb1r37jSPC/cWVv/Mbar/oqrd0/msc/etceebwgi/...\n",
              "...       ...                                                ...\n",
              "125971  Valid  /tienda1/publico/registro.jsp?modo=registro&lo...\n",
              "125972  Valid  /tienda1/publico/registro.jsp?modo=registro&lo...\n",
              "125973  Valid  /tienda1/publico/registro.jsp?modo=registro&lo...\n",
              "125974  Valid  /tienda1/publico/registro.jsp?modo=registro&lo...\n",
              "125975  Valid  /tienda1/publico/registro.jsp?modo=registro&lo...\n",
              "\n",
              "[125976 rows x 2 columns]"
            ]
          },
          "metadata": {
            "tags": []
          },
          "execution_count": 23
        }
      ]
    },
    {
      "cell_type": "code",
      "metadata": {
        "colab": {
          "base_uri": "https://localhost:8080/"
        },
        "id": "v1F4hkqLsMww",
        "outputId": "c1a06eb5-6d5c-41da-fcf4-53924a9305c2"
      },
      "source": [
        "df.rename(columns = {'result':'url'}, inplace = True)"
      ],
      "execution_count": null,
      "outputs": [
        {
          "output_type": "stream",
          "text": [
            "/usr/local/lib/python3.6/dist-packages/pandas/core/frame.py:4308: SettingWithCopyWarning: \n",
            "A value is trying to be set on a copy of a slice from a DataFrame\n",
            "\n",
            "See the caveats in the documentation: https://pandas.pydata.org/pandas-docs/stable/user_guide/indexing.html#returning-a-view-versus-a-copy\n",
            "  errors=errors,\n"
          ],
          "name": "stderr"
        }
      ]
    },
    {
      "cell_type": "code",
      "metadata": {
        "colab": {
          "base_uri": "https://localhost:8080/",
          "height": 402
        },
        "id": "emRXA2qQslnF",
        "outputId": "57ef45fc-4d11-49f1-98ef-e2d84ce97264"
      },
      "source": [
        "df"
      ],
      "execution_count": null,
      "outputs": [
        {
          "output_type": "execute_result",
          "data": {
            "text/html": [
              "<div>\n",
              "<style scoped>\n",
              "    .dataframe tbody tr th:only-of-type {\n",
              "        vertical-align: middle;\n",
              "    }\n",
              "\n",
              "    .dataframe tbody tr th {\n",
              "        vertical-align: top;\n",
              "    }\n",
              "\n",
              "    .dataframe thead th {\n",
              "        text-align: right;\n",
              "    }\n",
              "</style>\n",
              "<table border=\"1\" class=\"dataframe\">\n",
              "  <thead>\n",
              "    <tr style=\"text-align: right;\">\n",
              "      <th></th>\n",
              "      <th>type</th>\n",
              "      <th>url</th>\n",
              "    </tr>\n",
              "  </thead>\n",
              "  <tbody>\n",
              "    <tr>\n",
              "      <th>0</th>\n",
              "      <td>Valid</td>\n",
              "      <td>/l_t@/_Feu1wvhtpass2/1nieQnnrvnzktuasain/tg1AR...</td>\n",
              "    </tr>\n",
              "    <tr>\n",
              "      <th>1</th>\n",
              "      <td>Valid</td>\n",
              "      <td>/inssgtz7ieltdSstbw7e/neQhmsdwu7imdb0etet/eT/h...</td>\n",
              "    </tr>\n",
              "    <tr>\n",
              "      <th>2</th>\n",
              "      <td>Valid</td>\n",
              "      <td>/fonRnt/7N.D-4BRSsXb@TU/qgheW.cfm</td>\n",
              "    </tr>\n",
              "    <tr>\n",
              "      <th>3</th>\n",
              "      <td>Valid</td>\n",
              "      <td>/dyylkL.XD9cPu/4Ot0ta/ts6xNrP1/hssh/a2cuerht/s...</td>\n",
              "    </tr>\n",
              "    <tr>\n",
              "      <th>4</th>\n",
              "      <td>Valid</td>\n",
              "      <td>/2m6VLb1r37jSPC/cWVv/Mbar/oqrd0/msc/etceebwgi/...</td>\n",
              "    </tr>\n",
              "    <tr>\n",
              "      <th>...</th>\n",
              "      <td>...</td>\n",
              "      <td>...</td>\n",
              "    </tr>\n",
              "    <tr>\n",
              "      <th>125971</th>\n",
              "      <td>Valid</td>\n",
              "      <td>/tienda1/publico/registro.jsp?modo=registro&amp;lo...</td>\n",
              "    </tr>\n",
              "    <tr>\n",
              "      <th>125972</th>\n",
              "      <td>Valid</td>\n",
              "      <td>/tienda1/publico/registro.jsp?modo=registro&amp;lo...</td>\n",
              "    </tr>\n",
              "    <tr>\n",
              "      <th>125973</th>\n",
              "      <td>Valid</td>\n",
              "      <td>/tienda1/publico/registro.jsp?modo=registro&amp;lo...</td>\n",
              "    </tr>\n",
              "    <tr>\n",
              "      <th>125974</th>\n",
              "      <td>Valid</td>\n",
              "      <td>/tienda1/publico/registro.jsp?modo=registro&amp;lo...</td>\n",
              "    </tr>\n",
              "    <tr>\n",
              "      <th>125975</th>\n",
              "      <td>Valid</td>\n",
              "      <td>/tienda1/publico/registro.jsp?modo=registro&amp;lo...</td>\n",
              "    </tr>\n",
              "  </tbody>\n",
              "</table>\n",
              "<p>125976 rows × 2 columns</p>\n",
              "</div>"
            ],
            "text/plain": [
              "         type                                                url\n",
              "0       Valid  /l_t@/_Feu1wvhtpass2/1nieQnnrvnzktuasain/tg1AR...\n",
              "1       Valid  /inssgtz7ieltdSstbw7e/neQhmsdwu7imdb0etet/eT/h...\n",
              "2       Valid                  /fonRnt/7N.D-4BRSsXb@TU/qgheW.cfm\n",
              "3       Valid  /dyylkL.XD9cPu/4Ot0ta/ts6xNrP1/hssh/a2cuerht/s...\n",
              "4       Valid  /2m6VLb1r37jSPC/cWVv/Mbar/oqrd0/msc/etceebwgi/...\n",
              "...       ...                                                ...\n",
              "125971  Valid  /tienda1/publico/registro.jsp?modo=registro&lo...\n",
              "125972  Valid  /tienda1/publico/registro.jsp?modo=registro&lo...\n",
              "125973  Valid  /tienda1/publico/registro.jsp?modo=registro&lo...\n",
              "125974  Valid  /tienda1/publico/registro.jsp?modo=registro&lo...\n",
              "125975  Valid  /tienda1/publico/registro.jsp?modo=registro&lo...\n",
              "\n",
              "[125976 rows x 2 columns]"
            ]
          },
          "metadata": {
            "tags": []
          },
          "execution_count": 25
        }
      ]
    },
    {
      "cell_type": "code",
      "metadata": {
        "colab": {
          "base_uri": "https://localhost:8080/"
        },
        "id": "sPvajq2qOZZM",
        "outputId": "3904e71c-aba0-4090-c34c-246bdbb4051e"
      },
      "source": [
        "df.isnull().sum()"
      ],
      "execution_count": null,
      "outputs": [
        {
          "output_type": "execute_result",
          "data": {
            "text/plain": [
              "type    0\n",
              "url     0\n",
              "dtype: int64"
            ]
          },
          "metadata": {
            "tags": []
          },
          "execution_count": 30
        }
      ]
    },
    {
      "cell_type": "code",
      "metadata": {
        "id": "NvSvrF99OmmM"
      },
      "source": [
        "df.to_csv('stage.csv')"
      ],
      "execution_count": null,
      "outputs": []
    },
    {
      "cell_type": "code",
      "metadata": {
        "id": "JwfCmqvrOunJ"
      },
      "source": [
        "!cp stage.csv \"drive/My Drive/\""
      ],
      "execution_count": null,
      "outputs": []
    }
  ]
}