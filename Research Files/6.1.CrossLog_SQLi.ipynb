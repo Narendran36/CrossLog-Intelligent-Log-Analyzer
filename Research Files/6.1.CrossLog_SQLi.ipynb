{
  "nbformat": 4,
  "nbformat_minor": 0,
  "metadata": {
    "colab": {
      "name": "CrossLog_SQLi.ipynb",
      "provenance": [],
      "collapsed_sections": []
    },
    "kernelspec": {
      "name": "python3",
      "display_name": "Python 3"
    }
  },
  "cells": [
    {
      "cell_type": "code",
      "metadata": {
        "id": "UU4NR4b22wBy",
        "colab": {
          "base_uri": "https://localhost:8080/"
        },
        "outputId": "468b4e4c-d6c4-4bae-db65-1449b1db5977"
      },
      "source": [
        "from google.colab import drive \n",
        "drive.mount('/content/drive', force_remount=True)"
      ],
      "execution_count": null,
      "outputs": [
        {
          "output_type": "stream",
          "text": [
            "Mounted at /content/drive\n"
          ],
          "name": "stdout"
        }
      ]
    },
    {
      "cell_type": "code",
      "metadata": {
        "id": "TTt06j0O3Ln5"
      },
      "source": [
        "import pandas as pd"
      ],
      "execution_count": null,
      "outputs": []
    },
    {
      "cell_type": "code",
      "metadata": {
        "id": "Q0_BCSKD2TMM",
        "colab": {
          "base_uri": "https://localhost:8080/"
        },
        "outputId": "bdfc5b81-479c-4b12-f988-18f7939f0de6"
      },
      "source": [
        "df = pd.read_csv(\"drive/MyDrive/final_SQLi.csv\")\r\n",
        "df = df.dropna()\r\n",
        "del df['Unnamed: 0']"
      ],
      "execution_count": null,
      "outputs": [
        {
          "output_type": "stream",
          "text": [
            "/usr/local/lib/python3.6/dist-packages/IPython/core/interactiveshell.py:2718: DtypeWarning: Columns (0) have mixed types.Specify dtype option on import or set low_memory=False.\n",
            "  interactivity=interactivity, compiler=compiler, result=result)\n"
          ],
          "name": "stderr"
        }
      ]
    },
    {
      "cell_type": "code",
      "metadata": {
        "id": "TdXRLYsrE1Z5"
      },
      "source": [
        "from sklearn.model_selection import train_test_split\r\n",
        "from sklearn.metrics import confusion_matrix\r\n",
        "from sklearn import metrics\r\n",
        "\r\n",
        "X = list(df.columns[3:])\r\n",
        "X_df = df[X]\r\n",
        "Y_df = df['label']\r\n",
        "X_train, X_test, Y_train, Y_test = train_test_split(X_df, Y_df, test_size=0.2, random_state=0)"
      ],
      "execution_count": null,
      "outputs": []
    },
    {
      "cell_type": "code",
      "metadata": {
        "id": "BAh0no0J8XV6",
        "colab": {
          "base_uri": "https://localhost:8080/"
        },
        "outputId": "c63e54c2-2576-43ea-f176-dd1e446a209f"
      },
      "source": [
        "from sklearn.linear_model import LogisticRegression\r\n",
        "\r\n",
        "LR = LogisticRegression()\r\n",
        "LR.fit(X_train,Y_train)\r\n",
        "\r\n",
        "print('Accuracy of Logistic Regression classifier on training set: {:.2f}'\r\n",
        "     .format(LR.score(X_train, Y_train)))\r\n",
        "print('Accuracy of Logistic Regression classifier on test set: {:.2f}'\r\n",
        "     .format(LR.score(X_test, Y_test)))\r\n",
        "\r\n",
        "print()\r\n",
        "Y_pred = LR.predict(X_test)\r\n",
        "print(confusion_matrix(Y_test, Y_pred))\r\n",
        "print()\r\n",
        "metrics.accuracy_score(Y_test, Y_pred)"
      ],
      "execution_count": null,
      "outputs": [
        {
          "output_type": "stream",
          "text": [
            "Accuracy of Logistic Regression classifier on training set: 0.97\n",
            "Accuracy of Logistic Regression classifier on test set: 0.97\n",
            "\n",
            "[[15817   268]\n",
            " [  409  8680]]\n",
            "\n"
          ],
          "name": "stdout"
        },
        {
          "output_type": "stream",
          "text": [
            "/usr/local/lib/python3.6/dist-packages/sklearn/linear_model/_logistic.py:940: ConvergenceWarning: lbfgs failed to converge (status=1):\n",
            "STOP: TOTAL NO. of ITERATIONS REACHED LIMIT.\n",
            "\n",
            "Increase the number of iterations (max_iter) or scale the data as shown in:\n",
            "    https://scikit-learn.org/stable/modules/preprocessing.html\n",
            "Please also refer to the documentation for alternative solver options:\n",
            "    https://scikit-learn.org/stable/modules/linear_model.html#logistic-regression\n",
            "  extra_warning_msg=_LOGISTIC_SOLVER_CONVERGENCE_MSG)\n"
          ],
          "name": "stderr"
        },
        {
          "output_type": "execute_result",
          "data": {
            "text/plain": [
              "0.9731071740684833"
            ]
          },
          "metadata": {
            "tags": []
          },
          "execution_count": 24
        }
      ]
    },
    {
      "cell_type": "code",
      "metadata": {
        "colab": {
          "base_uri": "https://localhost:8080/"
        },
        "id": "D86wnFYe69k-",
        "outputId": "000676d5-bc81-4db8-bd3c-8f4350b3077c"
      },
      "source": [
        " from sklearn import svm\r\n",
        "\r\n",
        " SVM = svm.LinearSVC()\r\n",
        " SVM.fit(X_train,Y_train)\r\n",
        "\r\n",
        " print('Accuracy of Linear SVM classifier on training set: {:.2f}'\r\n",
        "     .format(SVM.score(X_train, Y_train)))\r\n",
        " print('Accuracy of Linear SVM classifier on test set: {:.2f}'\r\n",
        "     .format(SVM.score(X_test, Y_test)))\r\n",
        " \r\n",
        "print()\r\n",
        "Y_pred = SVM.predict(X_test)\r\n",
        "print(confusion_matrix(Y_test, Y_pred))\r\n",
        "print()\r\n",
        "metrics.accuracy_score(Y_test, Y_pred)"
      ],
      "execution_count": null,
      "outputs": [
        {
          "output_type": "stream",
          "text": [
            "Accuracy of Linear SVM classifier on training set: 0.97\n",
            "Accuracy of Linear SVM classifier on test set: 0.97\n",
            "\n",
            "[[15808   277]\n",
            " [  384  8705]]\n",
            "\n"
          ],
          "name": "stdout"
        },
        {
          "output_type": "execute_result",
          "data": {
            "text/plain": [
              "0.9737427504568206"
            ]
          },
          "metadata": {
            "tags": []
          },
          "execution_count": 25
        }
      ]
    },
    {
      "cell_type": "code",
      "metadata": {
        "colab": {
          "base_uri": "https://localhost:8080/"
        },
        "id": "dJQ7IxT2AdOc",
        "outputId": "c1b368cc-6938-4e2a-c213-10ef5bf3ee26"
      },
      "source": [
        "from sklearn.ensemble import GradientBoostingClassifier\r\n",
        "\r\n",
        "GB = GradientBoostingClassifier(random_state=0)\r\n",
        "GB.fit(X_train, Y_train)\r\n",
        "\r\n",
        "print('Accuracy of Gradient Boosting classifier on training set: {:.2f}'\r\n",
        "     .format(GB.score(X_train, Y_train)))\r\n",
        "print('Accuracy of Gradient Boosting classifier on test set: {:.2f}'\r\n",
        "     .format(GB.score(X_test, Y_test)))\r\n",
        "\r\n",
        "print()\r\n",
        "Y_pred = GB.predict(X_test)\r\n",
        "print(confusion_matrix(Y_test, Y_pred))\r\n",
        "print()\r\n",
        "metrics.accuracy_score(Y_test, Y_pred)"
      ],
      "execution_count": null,
      "outputs": [
        {
          "output_type": "stream",
          "text": [
            "Accuracy of Gradient Boosting classifier on training set: 0.98\n",
            "Accuracy of Gradient Boosting classifier on test set: 0.98\n",
            "\n",
            "[[15959   126]\n",
            " [  406  8683]]\n",
            "\n"
          ],
          "name": "stdout"
        },
        {
          "output_type": "execute_result",
          "data": {
            "text/plain": [
              "0.978867085087789"
            ]
          },
          "metadata": {
            "tags": []
          },
          "execution_count": 26
        }
      ]
    },
    {
      "cell_type": "code",
      "metadata": {
        "colab": {
          "base_uri": "https://localhost:8080/"
        },
        "id": "-UeZf2y5AdBS",
        "outputId": "538fd6af-7e1b-47d7-824e-b182f635605d"
      },
      "source": [
        "from sklearn.tree import DecisionTreeClassifier\r\n",
        "\r\n",
        "DT = DecisionTreeClassifier()\r\n",
        "DT.fit(X_train,Y_train)\r\n",
        "\r\n",
        "print('Accuracy of Decision Tree classifier on training set: {:.2f}'\r\n",
        "     .format(DT.score(X_train, Y_train)))\r\n",
        "print('Accuracy of Decision Tree classifier on test set: {:.2f}'\r\n",
        "     .format(DT.score(X_test, Y_test)))\r\n",
        "\r\n",
        "print()\r\n",
        "Y_pred = DT.predict(X_test)\r\n",
        "print(confusion_matrix(Y_test, Y_pred))\r\n",
        "print()\r\n",
        "metrics.accuracy_score(Y_test, Y_pred)"
      ],
      "execution_count": null,
      "outputs": [
        {
          "output_type": "stream",
          "text": [
            "Accuracy of Decision Tree classifier on training set: 0.99\n",
            "Accuracy of Decision Tree classifier on test set: 0.98\n",
            "\n",
            "[[15854   231]\n",
            " [  289  8800]]\n",
            "\n"
          ],
          "name": "stdout"
        },
        {
          "output_type": "execute_result",
          "data": {
            "text/plain": [
              "0.9793437673790418"
            ]
          },
          "metadata": {
            "tags": []
          },
          "execution_count": 27
        }
      ]
    },
    {
      "cell_type": "code",
      "metadata": {
        "colab": {
          "base_uri": "https://localhost:8080/"
        },
        "id": "uoYoH-IiAc9O",
        "outputId": "8ea8c1f5-dd35-4b3f-8e75-15f7ea02195d"
      },
      "source": [
        "from sklearn.neighbors import KNeighborsClassifier\r\n",
        "\r\n",
        "KNN = KNeighborsClassifier(n_neighbors = 5)\r\n",
        "KNN.fit(X_train, Y_train)\r\n",
        "\r\n",
        "print('Accuracy of K-NN classifier on training set: {:.2f}'\r\n",
        "     .format(KNN.score(X_train, Y_train)))\r\n",
        "print('Accuracy of K-NN classifier on test set: {:.2f}'\r\n",
        "     .format(KNN.score(X_test, Y_test)))\r\n",
        "\r\n",
        "print()\r\n",
        "Y_pred = KNN.predict(X_test)\r\n",
        "print(confusion_matrix(Y_test, Y_pred))\r\n",
        "print()\r\n",
        "metrics.accuracy_score(Y_test, Y_pred)"
      ],
      "execution_count": null,
      "outputs": [
        {
          "output_type": "stream",
          "text": [
            "Accuracy of K-NN classifier on training set: 0.99\n",
            "Accuracy of K-NN classifier on test set: 0.98\n",
            "\n",
            "[[15938   147]\n",
            " [  277  8812]]\n",
            "\n"
          ],
          "name": "stdout"
        },
        {
          "output_type": "execute_result",
          "data": {
            "text/plain": [
              "0.9831572257090649"
            ]
          },
          "metadata": {
            "tags": []
          },
          "execution_count": 28
        }
      ]
    },
    {
      "cell_type": "code",
      "metadata": {
        "colab": {
          "base_uri": "https://localhost:8080/"
        },
        "id": "mYRp7kFJAchu",
        "outputId": "244de290-2831-4fd1-c51a-433c4e21d657"
      },
      "source": [
        "from sklearn.ensemble import RandomForestClassifier\r\n",
        "\r\n",
        "RF = RandomForestClassifier()\r\n",
        "RF.fit(X_train,Y_train)\r\n",
        "\r\n",
        "print('Accuracy of Random Forest classifier on training set: {:.2f}'\r\n",
        "     .format(RF.score(X_train, Y_train)))\r\n",
        "print('Accuracy of Random Forest classifier on test set: {:.2f}'\r\n",
        "     .format(RF.score(X_test, Y_test)))\r\n",
        "\r\n",
        "print()\r\n",
        "Y_pred = RF.predict(X_test)\r\n",
        "print(confusion_matrix(Y_test, Y_pred))\r\n",
        "print()\r\n",
        "metrics.accuracy_score(Y_test, Y_pred)"
      ],
      "execution_count": null,
      "outputs": [
        {
          "output_type": "stream",
          "text": [
            "Accuracy of Random Forest classifier on training set: 0.99\n",
            "Accuracy of Random Forest classifier on test set: 0.98\n",
            "\n",
            "[[15923   162]\n",
            " [  280  8809]]\n",
            "\n"
          ],
          "name": "stdout"
        },
        {
          "output_type": "execute_result",
          "data": {
            "text/plain": [
              "0.9824422022721856"
            ]
          },
          "metadata": {
            "tags": []
          },
          "execution_count": 29
        }
      ]
    },
    {
      "cell_type": "code",
      "metadata": {
        "id": "1O0-_JXAIJIg"
      },
      "source": [
        "import pickle\r\n",
        "filename = 'SQLi.sav'                                           #Edit this\r\n",
        "pickle.dump(KNN, open(filename, 'wb'))                         #Change GB if needed\r\n",
        "#loaded_model = pickle.load(open(filename, 'rb'))\r\n",
        "#result = loaded_model.score(X_test, Y_test)\r\n",
        "#print(result)\r\n",
        "!cp SQLi.sav \"drive/My Drive/MODEL\"                             # replace OS.sav with file name"
      ],
      "execution_count": null,
      "outputs": []
    }
  ]
}
