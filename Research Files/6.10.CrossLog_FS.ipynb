{
  "nbformat": 4,
  "nbformat_minor": 0,
  "metadata": {
    "colab": {
      "name": "formatString.ipynb",
      "provenance": [],
      "collapsed_sections": []
    },
    "kernelspec": {
      "name": "python3",
      "display_name": "Python 3"
    }
  },
  "cells": [
    {
      "cell_type": "code",
      "metadata": {
        "id": "cw0LhBaAJAEE",
        "colab": {
          "base_uri": "https://localhost:8080/"
        },
        "outputId": "56108252-6dc6-4b7a-98e2-1e2c37318104"
      },
      "source": [
        "from google.colab import drive \n",
        "drive.mount('/content/drive', force_remount=True)"
      ],
      "execution_count": 1,
      "outputs": [
        {
          "output_type": "stream",
          "text": [
            "Mounted at /content/drive\n"
          ],
          "name": "stdout"
        }
      ]
    },
    {
      "cell_type": "code",
      "metadata": {
        "colab": {
          "base_uri": "https://localhost:8080/"
        },
        "id": "DDYHa7uA-Un1",
        "outputId": "c16ebe8d-5ced-4259-b078-4f7770b46967"
      },
      "source": [
        "! ls drive/MyDrive/Dataset"
      ],
      "execution_count": 3,
      "outputs": [
        {
          "output_type": "stream",
          "text": [
            "csic  ecml\n"
          ],
          "name": "stdout"
        }
      ]
    },
    {
      "cell_type": "code",
      "metadata": {
        "colab": {
          "base_uri": "https://localhost:8080/"
        },
        "id": "qEHEDmNZ-Vap",
        "outputId": "c3f1b491-03e5-4172-c3cb-1deaed0f64c3"
      },
      "source": [
        "! ls drive/MyDrive/Dataset/ecml"
      ],
      "execution_count": 4,
      "outputs": [
        {
          "output_type": "stream",
          "text": [
            "ecml.csv  learning_dataset.xml\txml_test.txt  xml_train.txt\n"
          ],
          "name": "stdout"
        }
      ]
    },
    {
      "cell_type": "code",
      "metadata": {
        "id": "JIeaNyF4-gLq"
      },
      "source": [
        "import pandas as pd"
      ],
      "execution_count": 5,
      "outputs": []
    },
    {
      "cell_type": "code",
      "metadata": {
        "colab": {
          "base_uri": "https://localhost:8080/"
        },
        "id": "F11M0XKN-it7",
        "outputId": "efc6433e-8b4c-445c-bfd8-743e7ba37b80"
      },
      "source": [
        "d1 = pd.read_csv(\"drive/MyDrive/Dataset/ecml/ecml.csv\")"
      ],
      "execution_count": 6,
      "outputs": [
        {
          "output_type": "stream",
          "text": [
            "/usr/local/lib/python3.7/dist-packages/IPython/core/interactiveshell.py:2718: DtypeWarning: Columns (5) have mixed types.Specify dtype option on import or set low_memory=False.\n",
            "  interactivity=interactivity, compiler=compiler, result=result)\n"
          ],
          "name": "stderr"
        }
      ]
    },
    {
      "cell_type": "code",
      "metadata": {
        "id": "sJs3LlGS-nD9"
      },
      "source": [
        "c1 = pd.read_csv(\"drive/MyDrive/Dataset/csic/csv/allAnomalies1.csv\")\n",
        "c2 = pd.read_csv(\"drive/MyDrive/Dataset/csic/csv/allAnomalies2.csv\")\n",
        "c3 = pd.read_csv(\"drive/MyDrive/Dataset/csic/csv/allAttacks1.csv\")\n",
        "c4 = pd.read_csv(\"drive/MyDrive/Dataset/csic/csv/allAttacks2.csv\")\n",
        "c5 = pd.read_csv(\"drive/MyDrive/Dataset/csic/csv/allAttacks3.csv\")\n",
        "c6 = pd.read_csv(\"drive/MyDrive/Dataset/csic/csv/allAttacks4.csv\")\n",
        "c7 = pd.read_csv(\"drive/MyDrive/Dataset/csic/csv/allAttacks5.csv\")\n",
        "c8 = pd.read_csv(\"drive/MyDrive/Dataset/csic/csv/allNormals1.csv\")"
      ],
      "execution_count": 7,
      "outputs": []
    },
    {
      "cell_type": "code",
      "metadata": {
        "id": "SgEfcVk6_OU9"
      },
      "source": [
        "d1 = d1[['ns1:type','ns1:method','ns1:uri','ns1:query','ns1:body']]"
      ],
      "execution_count": 8,
      "outputs": []
    },
    {
      "cell_type": "code",
      "metadata": {
        "id": "_Qm_jwOA_Q7b"
      },
      "source": [
        "d1 = d1.dropna(subset = ['ns1:type'])"
      ],
      "execution_count": 9,
      "outputs": []
    },
    {
      "cell_type": "code",
      "metadata": {
        "id": "4zAwblBS_TLz"
      },
      "source": [
        "d1['result'] = d1['ns1:query'].fillna('') + d1['ns1:body'].fillna('')"
      ],
      "execution_count": 10,
      "outputs": []
    },
    {
      "cell_type": "code",
      "metadata": {
        "id": "ItlKhm-o_VnQ"
      },
      "source": [
        "d1 = d1[['ns1:type','ns1:uri','result']]"
      ],
      "execution_count": 11,
      "outputs": []
    },
    {
      "cell_type": "code",
      "metadata": {
        "colab": {
          "base_uri": "https://localhost:8080/",
          "height": 402
        },
        "id": "jkw9Vrnj_Z9D",
        "outputId": "eb530fe3-645c-4449-8d25-b47577478ea1"
      },
      "source": [
        "d1.loc[d1['result']!='']"
      ],
      "execution_count": 12,
      "outputs": [
        {
          "output_type": "execute_result",
          "data": {
            "text/html": [
              "<div>\n",
              "<style scoped>\n",
              "    .dataframe tbody tr th:only-of-type {\n",
              "        vertical-align: middle;\n",
              "    }\n",
              "\n",
              "    .dataframe tbody tr th {\n",
              "        vertical-align: top;\n",
              "    }\n",
              "\n",
              "    .dataframe thead th {\n",
              "        text-align: right;\n",
              "    }\n",
              "</style>\n",
              "<table border=\"1\" class=\"dataframe\">\n",
              "  <thead>\n",
              "    <tr style=\"text-align: right;\">\n",
              "      <th></th>\n",
              "      <th>ns1:type</th>\n",
              "      <th>ns1:uri</th>\n",
              "      <th>result</th>\n",
              "    </tr>\n",
              "  </thead>\n",
              "  <tbody>\n",
              "    <tr>\n",
              "      <th>0</th>\n",
              "      <td>Valid</td>\n",
              "      <td>/l_t@/_Feu1wvhtpass2/1nieQnnrvnzktuasain/tg1AR...</td>\n",
              "      <td>crTeYreti=wsn&amp;et3tf6shoV=tdsviee+y+fum%24oh3%3...</td>\n",
              "    </tr>\n",
              "    <tr>\n",
              "      <th>1</th>\n",
              "      <td>Valid</td>\n",
              "      <td>/inssgtz7ieltdSstbw7e/neQhmsdwu7imdb0etet/eT/h...</td>\n",
              "      <td>Settotzeertnl=%27pn+&amp;8nafitm=74LuKUC5t0J&amp;4ttNe...</td>\n",
              "    </tr>\n",
              "    <tr>\n",
              "      <th>3</th>\n",
              "      <td>Valid</td>\n",
              "      <td>/dyylkL.XD9cPu/4Ot0ta/ts6xNrP1/hssh/a2cuerht/s...</td>\n",
              "      <td>DFDi7ftp=37redocumentilN&amp;l4setbemmo=oe_RDzQ&amp;rt...</td>\n",
              "    </tr>\n",
              "    <tr>\n",
              "      <th>4</th>\n",
              "      <td>Valid</td>\n",
              "      <td>/2m6VLb1r37jSPC/cWVv/Mbar/oqrd0/msc/etceebwgi/...</td>\n",
              "      <td>upcthyrsrtztir=90&amp;o@gCv=uy&amp;l6=S4&amp;nrtrzevjgah=3...</td>\n",
              "    </tr>\n",
              "    <tr>\n",
              "      <th>5</th>\n",
              "      <td>Valid</td>\n",
              "      <td>/suGdrVj.cfm</td>\n",
              "      <td>seivste3c=804252514&amp;Gxnc1atstirc3eR=eA&amp;ioe9ogl...</td>\n",
              "    </tr>\n",
              "    <tr>\n",
              "      <th>...</th>\n",
              "      <td>...</td>\n",
              "      <td>...</td>\n",
              "      <td>...</td>\n",
              "    </tr>\n",
              "    <tr>\n",
              "      <th>68259</th>\n",
              "      <td>XPathInjection</td>\n",
              "      <td>/k4hitneOlfa2qoftyQ/eo.cfm</td>\n",
              "      <td>ZKoBqHa.HUu4=6&amp;skpysshc=xIslndbueaa&amp;vOtnlinrtc...</td>\n",
              "    </tr>\n",
              "    <tr>\n",
              "      <th>68261</th>\n",
              "      <td>XPathInjection</td>\n",
              "      <td>/n9hesAdza08xsTevkoct/08i5h73UQDIV@/Eirnom2uot...</td>\n",
              "      <td>lh9d=%25%5B&amp;gnfahi=6&amp;sTdliUUgbspoaR=lt0sd%27th...</td>\n",
              "    </tr>\n",
              "    <tr>\n",
              "      <th>68263</th>\n",
              "      <td>XPathInjection</td>\n",
              "      <td>/auWsHenc8o4mgwsn/hoeioq6nm667dle/nnV45rdbdUhS...</td>\n",
              "      <td>aufmbsAiabei=o7&amp;e7isivpz=32&amp;Oe67waox9yeea1d=so...</td>\n",
              "    </tr>\n",
              "    <tr>\n",
              "      <th>68265</th>\n",
              "      <td>XPathInjection</td>\n",
              "      <td>/uAHKBNrwACdjE9Ed/eYsiNihnneetrb/ZXG@A/eCIcKa4...</td>\n",
              "      <td>uzo4fth7tvcegn=%5Buitt+hhlref3e&amp;eloYkmctHrIl5n...</td>\n",
              "    </tr>\n",
              "    <tr>\n",
              "      <th>68267</th>\n",
              "      <td>XPathInjection</td>\n",
              "      <td>/luQG2A/rnrt0ptAhwmZec/Bnetcatn4JeYvcXVSw4/crn...</td>\n",
              "      <td>g9PEXY3=66425&amp;NdNgiTnvssr=tDH1F-&amp;eewt84eIey=R+...</td>\n",
              "    </tr>\n",
              "  </tbody>\n",
              "</table>\n",
              "<p>45247 rows × 3 columns</p>\n",
              "</div>"
            ],
            "text/plain": [
              "             ns1:type  ...                                             result\n",
              "0               Valid  ...  crTeYreti=wsn&et3tf6shoV=tdsviee+y+fum%24oh3%3...\n",
              "1               Valid  ...  Settotzeertnl=%27pn+&8nafitm=74LuKUC5t0J&4ttNe...\n",
              "3               Valid  ...  DFDi7ftp=37redocumentilN&l4setbemmo=oe_RDzQ&rt...\n",
              "4               Valid  ...  upcthyrsrtztir=90&o@gCv=uy&l6=S4&nrtrzevjgah=3...\n",
              "5               Valid  ...  seivste3c=804252514&Gxnc1atstirc3eR=eA&ioe9ogl...\n",
              "...               ...  ...                                                ...\n",
              "68259  XPathInjection  ...  ZKoBqHa.HUu4=6&skpysshc=xIslndbueaa&vOtnlinrtc...\n",
              "68261  XPathInjection  ...  lh9d=%25%5B&gnfahi=6&sTdliUUgbspoaR=lt0sd%27th...\n",
              "68263  XPathInjection  ...  aufmbsAiabei=o7&e7isivpz=32&Oe67waox9yeea1d=so...\n",
              "68265  XPathInjection  ...  uzo4fth7tvcegn=%5Buitt+hhlref3e&eloYkmctHrIl5n...\n",
              "68267  XPathInjection  ...  g9PEXY3=66425&NdNgiTnvssr=tDH1F-&eewt84eIey=R+...\n",
              "\n",
              "[45247 rows x 3 columns]"
            ]
          },
          "metadata": {
            "tags": []
          },
          "execution_count": 12
        }
      ]
    },
    {
      "cell_type": "code",
      "metadata": {
        "id": "uqws3x1l_cZN"
      },
      "source": [
        "d1.rename(columns = {'ns1:type':'type','ns1:uri':'path','result':'query'}, inplace = True)"
      ],
      "execution_count": 13,
      "outputs": []
    },
    {
      "cell_type": "code",
      "metadata": {
        "colab": {
          "base_uri": "https://localhost:8080/",
          "height": 402
        },
        "id": "MYi03w7o_e8k",
        "outputId": "66be16a6-58d0-4938-e8da-46c4b8f796af"
      },
      "source": [
        "d1"
      ],
      "execution_count": 14,
      "outputs": [
        {
          "output_type": "execute_result",
          "data": {
            "text/html": [
              "<div>\n",
              "<style scoped>\n",
              "    .dataframe tbody tr th:only-of-type {\n",
              "        vertical-align: middle;\n",
              "    }\n",
              "\n",
              "    .dataframe tbody tr th {\n",
              "        vertical-align: top;\n",
              "    }\n",
              "\n",
              "    .dataframe thead th {\n",
              "        text-align: right;\n",
              "    }\n",
              "</style>\n",
              "<table border=\"1\" class=\"dataframe\">\n",
              "  <thead>\n",
              "    <tr style=\"text-align: right;\">\n",
              "      <th></th>\n",
              "      <th>type</th>\n",
              "      <th>path</th>\n",
              "      <th>query</th>\n",
              "    </tr>\n",
              "  </thead>\n",
              "  <tbody>\n",
              "    <tr>\n",
              "      <th>0</th>\n",
              "      <td>Valid</td>\n",
              "      <td>/l_t@/_Feu1wvhtpass2/1nieQnnrvnzktuasain/tg1AR...</td>\n",
              "      <td>crTeYreti=wsn&amp;et3tf6shoV=tdsviee+y+fum%24oh3%3...</td>\n",
              "    </tr>\n",
              "    <tr>\n",
              "      <th>1</th>\n",
              "      <td>Valid</td>\n",
              "      <td>/inssgtz7ieltdSstbw7e/neQhmsdwu7imdb0etet/eT/h...</td>\n",
              "      <td>Settotzeertnl=%27pn+&amp;8nafitm=74LuKUC5t0J&amp;4ttNe...</td>\n",
              "    </tr>\n",
              "    <tr>\n",
              "      <th>2</th>\n",
              "      <td>Valid</td>\n",
              "      <td>/fonRnt/7N.D-4BRSsXb@TU/qgheW.cfm</td>\n",
              "      <td></td>\n",
              "    </tr>\n",
              "    <tr>\n",
              "      <th>3</th>\n",
              "      <td>Valid</td>\n",
              "      <td>/dyylkL.XD9cPu/4Ot0ta/ts6xNrP1/hssh/a2cuerht/s...</td>\n",
              "      <td>DFDi7ftp=37redocumentilN&amp;l4setbemmo=oe_RDzQ&amp;rt...</td>\n",
              "    </tr>\n",
              "    <tr>\n",
              "      <th>4</th>\n",
              "      <td>Valid</td>\n",
              "      <td>/2m6VLb1r37jSPC/cWVv/Mbar/oqrd0/msc/etceebwgi/...</td>\n",
              "      <td>upcthyrsrtztir=90&amp;o@gCv=uy&amp;l6=S4&amp;nrtrzevjgah=3...</td>\n",
              "    </tr>\n",
              "    <tr>\n",
              "      <th>...</th>\n",
              "      <td>...</td>\n",
              "      <td>...</td>\n",
              "      <td>...</td>\n",
              "    </tr>\n",
              "    <tr>\n",
              "      <th>68259</th>\n",
              "      <td>XPathInjection</td>\n",
              "      <td>/k4hitneOlfa2qoftyQ/eo.cfm</td>\n",
              "      <td>ZKoBqHa.HUu4=6&amp;skpysshc=xIslndbueaa&amp;vOtnlinrtc...</td>\n",
              "    </tr>\n",
              "    <tr>\n",
              "      <th>68261</th>\n",
              "      <td>XPathInjection</td>\n",
              "      <td>/n9hesAdza08xsTevkoct/08i5h73UQDIV@/Eirnom2uot...</td>\n",
              "      <td>lh9d=%25%5B&amp;gnfahi=6&amp;sTdliUUgbspoaR=lt0sd%27th...</td>\n",
              "    </tr>\n",
              "    <tr>\n",
              "      <th>68263</th>\n",
              "      <td>XPathInjection</td>\n",
              "      <td>/auWsHenc8o4mgwsn/hoeioq6nm667dle/nnV45rdbdUhS...</td>\n",
              "      <td>aufmbsAiabei=o7&amp;e7isivpz=32&amp;Oe67waox9yeea1d=so...</td>\n",
              "    </tr>\n",
              "    <tr>\n",
              "      <th>68265</th>\n",
              "      <td>XPathInjection</td>\n",
              "      <td>/uAHKBNrwACdjE9Ed/eYsiNihnneetrb/ZXG@A/eCIcKa4...</td>\n",
              "      <td>uzo4fth7tvcegn=%5Buitt+hhlref3e&amp;eloYkmctHrIl5n...</td>\n",
              "    </tr>\n",
              "    <tr>\n",
              "      <th>68267</th>\n",
              "      <td>XPathInjection</td>\n",
              "      <td>/luQG2A/rnrt0ptAhwmZec/Bnetcatn4JeYvcXVSw4/crn...</td>\n",
              "      <td>g9PEXY3=66425&amp;NdNgiTnvssr=tDH1F-&amp;eewt84eIey=R+...</td>\n",
              "    </tr>\n",
              "  </tbody>\n",
              "</table>\n",
              "<p>52296 rows × 3 columns</p>\n",
              "</div>"
            ],
            "text/plain": [
              "                 type  ...                                              query\n",
              "0               Valid  ...  crTeYreti=wsn&et3tf6shoV=tdsviee+y+fum%24oh3%3...\n",
              "1               Valid  ...  Settotzeertnl=%27pn+&8nafitm=74LuKUC5t0J&4ttNe...\n",
              "2               Valid  ...                                                   \n",
              "3               Valid  ...  DFDi7ftp=37redocumentilN&l4setbemmo=oe_RDzQ&rt...\n",
              "4               Valid  ...  upcthyrsrtztir=90&o@gCv=uy&l6=S4&nrtrzevjgah=3...\n",
              "...               ...  ...                                                ...\n",
              "68259  XPathInjection  ...  ZKoBqHa.HUu4=6&skpysshc=xIslndbueaa&vOtnlinrtc...\n",
              "68261  XPathInjection  ...  lh9d=%25%5B&gnfahi=6&sTdliUUgbspoaR=lt0sd%27th...\n",
              "68263  XPathInjection  ...  aufmbsAiabei=o7&e7isivpz=32&Oe67waox9yeea1d=so...\n",
              "68265  XPathInjection  ...  uzo4fth7tvcegn=%5Buitt+hhlref3e&eloYkmctHrIl5n...\n",
              "68267  XPathInjection  ...  g9PEXY3=66425&NdNgiTnvssr=tDH1F-&eewt84eIey=R+...\n",
              "\n",
              "[52296 rows x 3 columns]"
            ]
          },
          "metadata": {
            "tags": []
          },
          "execution_count": 14
        }
      ]
    },
    {
      "cell_type": "code",
      "metadata": {
        "colab": {
          "base_uri": "https://localhost:8080/",
          "height": 17
        },
        "id": "T03-5ISN_1nI",
        "outputId": "4646dace-4cb9-463f-f713-ef893f08b807"
      },
      "source": [
        "from google.colab import files\n",
        "d1.to_csv('ECML.csv') \n",
        "files.download('ECML.csv')"
      ],
      "execution_count": 15,
      "outputs": [
        {
          "output_type": "display_data",
          "data": {
            "application/javascript": [
              "\n",
              "    async function download(id, filename, size) {\n",
              "      if (!google.colab.kernel.accessAllowed) {\n",
              "        return;\n",
              "      }\n",
              "      const div = document.createElement('div');\n",
              "      const label = document.createElement('label');\n",
              "      label.textContent = `Downloading \"${filename}\": `;\n",
              "      div.appendChild(label);\n",
              "      const progress = document.createElement('progress');\n",
              "      progress.max = size;\n",
              "      div.appendChild(progress);\n",
              "      document.body.appendChild(div);\n",
              "\n",
              "      const buffers = [];\n",
              "      let downloaded = 0;\n",
              "\n",
              "      const channel = await google.colab.kernel.comms.open(id);\n",
              "      // Send a message to notify the kernel that we're ready.\n",
              "      channel.send({})\n",
              "\n",
              "      for await (const message of channel.messages) {\n",
              "        // Send a message to notify the kernel that we're ready.\n",
              "        channel.send({})\n",
              "        if (message.buffers) {\n",
              "          for (const buffer of message.buffers) {\n",
              "            buffers.push(buffer);\n",
              "            downloaded += buffer.byteLength;\n",
              "            progress.value = downloaded;\n",
              "          }\n",
              "        }\n",
              "      }\n",
              "      const blob = new Blob(buffers, {type: 'application/binary'});\n",
              "      const a = document.createElement('a');\n",
              "      a.href = window.URL.createObjectURL(blob);\n",
              "      a.download = filename;\n",
              "      div.appendChild(a);\n",
              "      a.click();\n",
              "      div.remove();\n",
              "    }\n",
              "  "
            ],
            "text/plain": [
              "<IPython.core.display.Javascript object>"
            ]
          },
          "metadata": {
            "tags": []
          }
        },
        {
          "output_type": "display_data",
          "data": {
            "application/javascript": [
              "download(\"download_5af3fecf-aceb-47b2-b691-c2e9a0e16f37\", \"ECML.csv\", 12848340)"
            ],
            "text/plain": [
              "<IPython.core.display.Javascript object>"
            ]
          },
          "metadata": {
            "tags": []
          }
        }
      ]
    },
    {
      "cell_type": "code",
      "metadata": {
        "id": "0FieFh2WAA4X"
      },
      "source": [
        "c1 = c1[['type','path','query','body']]"
      ],
      "execution_count": 16,
      "outputs": []
    },
    {
      "cell_type": "code",
      "metadata": {
        "id": "8n_omEBxAEY-"
      },
      "source": [
        "c1['result'] = c1['query'].fillna('') + c1['body'].fillna('')"
      ],
      "execution_count": 17,
      "outputs": []
    },
    {
      "cell_type": "code",
      "metadata": {
        "id": "xg6rcCv7ANfA"
      },
      "source": [
        "c1 = c1[['type','path','result']]"
      ],
      "execution_count": 18,
      "outputs": []
    },
    {
      "cell_type": "code",
      "metadata": {
        "id": "7cWTCoXxAPuV"
      },
      "source": [
        "c1.rename(columns = {'result':'query'}, inplace = True)"
      ],
      "execution_count": 19,
      "outputs": []
    },
    {
      "cell_type": "code",
      "metadata": {
        "id": "zaw4Gl3eASmp"
      },
      "source": [
        "df = pd.concat([d1,c1]).reset_index(drop = True)"
      ],
      "execution_count": 20,
      "outputs": []
    },
    {
      "cell_type": "code",
      "metadata": {
        "id": "3Fpmzv2UAWm_"
      },
      "source": [
        "c2 = c2[['type','path','body']]"
      ],
      "execution_count": 21,
      "outputs": []
    },
    {
      "cell_type": "code",
      "metadata": {
        "id": "KHmWWPcEAZoT"
      },
      "source": [
        "c2.rename(columns = {'body':'query'}, inplace = True)"
      ],
      "execution_count": 22,
      "outputs": []
    },
    {
      "cell_type": "code",
      "metadata": {
        "id": "adcaXl7hAbmK"
      },
      "source": [
        "df = pd.concat([df,c2]).reset_index(drop = True)"
      ],
      "execution_count": 23,
      "outputs": []
    },
    {
      "cell_type": "code",
      "metadata": {
        "id": "i4IyZrwYAfNM"
      },
      "source": [
        "c3 = c3[['attack','path','body']]"
      ],
      "execution_count": 24,
      "outputs": []
    },
    {
      "cell_type": "code",
      "metadata": {
        "id": "ASrarMUKAmhb"
      },
      "source": [
        "c3['attack'] = 'SqlInjection'"
      ],
      "execution_count": 25,
      "outputs": []
    },
    {
      "cell_type": "code",
      "metadata": {
        "id": "Rj3-bsfDAoa7"
      },
      "source": [
        "c3.rename(columns = {'attack':'type','body':'query'}, inplace = True)"
      ],
      "execution_count": 26,
      "outputs": []
    },
    {
      "cell_type": "code",
      "metadata": {
        "id": "2uMWq_GpAqx5"
      },
      "source": [
        "df = pd.concat([df,c3]).reset_index(drop = True)"
      ],
      "execution_count": 27,
      "outputs": []
    },
    {
      "cell_type": "code",
      "metadata": {
        "id": "hZqapUD2AszF"
      },
      "source": [
        "c4 = c4[['attack','path','body']]\n",
        "c4['attack'] = 'SqlInjection'\n",
        "c4.rename(columns = {'attack':'type','body':'query'}, inplace = True)"
      ],
      "execution_count": 28,
      "outputs": []
    },
    {
      "cell_type": "code",
      "metadata": {
        "id": "bQETR0NkAxjP"
      },
      "source": [
        "df = pd.concat([df,c4]).reset_index(drop = True)"
      ],
      "execution_count": 29,
      "outputs": []
    },
    {
      "cell_type": "code",
      "metadata": {
        "id": "29u7SMueA2nX"
      },
      "source": [
        "c5 = c5[['attack','path','body']]\n",
        "c5['attack'] = 'SqlInjection'\n",
        "c5.rename(columns = {'attack':'type','body':'query'}, inplace = True)\n",
        "df = pd.concat([df,c5]).reset_index(drop = True)"
      ],
      "execution_count": 30,
      "outputs": []
    },
    {
      "cell_type": "code",
      "metadata": {
        "id": "MyTmQDNxA5mQ"
      },
      "source": [
        "c6['attack'] = 'SqlInjection'\n",
        "c6 = c6[['attack','path','query','body']]\n",
        "#c6['result'] = c6['query'].fillna('') + c6['body'].fillna('')"
      ],
      "execution_count": 31,
      "outputs": []
    },
    {
      "cell_type": "code",
      "metadata": {
        "id": "jg8MIr4qBKEj"
      },
      "source": [
        "c6['result'] = c6['query'].fillna('') + c6['body'].fillna('')"
      ],
      "execution_count": 32,
      "outputs": []
    },
    {
      "cell_type": "code",
      "metadata": {
        "id": "UQmr7PiQBOJM"
      },
      "source": [
        "c6 = c6[['attack','path','result']]"
      ],
      "execution_count": 33,
      "outputs": []
    },
    {
      "cell_type": "code",
      "metadata": {
        "id": "6tuTbvDBBRFM"
      },
      "source": [
        "c6.rename(columns = {'attack':'type','result':'query'}, inplace = True)"
      ],
      "execution_count": 34,
      "outputs": []
    },
    {
      "cell_type": "code",
      "metadata": {
        "id": "xuiqP4yqBVLm"
      },
      "source": [
        "df = pd.concat([df,c6]).reset_index(drop = True)"
      ],
      "execution_count": 35,
      "outputs": []
    },
    {
      "cell_type": "code",
      "metadata": {
        "id": "8EBcSYv9BXRg"
      },
      "source": [
        "c7.loc[c7['attack']=='SQLi','attack'] = 'SqlInjection'"
      ],
      "execution_count": 36,
      "outputs": []
    },
    {
      "cell_type": "code",
      "metadata": {
        "id": "cyIgJArWBbv5"
      },
      "source": [
        "c7.loc[c7['attack']=='XPath','attack'] = 'XPathInjection'\n",
        "c7.loc[c7['attack']=='LDAPi','attack'] = 'LdapInjection'"
      ],
      "execution_count": 37,
      "outputs": []
    },
    {
      "cell_type": "code",
      "metadata": {
        "colab": {
          "base_uri": "https://localhost:8080/",
          "height": 402
        },
        "id": "8CKvzoM5Bolf",
        "outputId": "33608f13-877b-4d42-fb3a-f7b4111a242f"
      },
      "source": [
        "c7['result'] = c7['query'].fillna('') + c7['body'].fillna('')\n",
        "c7 = c7[['attack','path','result']]\n",
        "c7.rename(columns = {'attack':'type','result':'query'}, inplace = True)\n",
        "c7"
      ],
      "execution_count": 38,
      "outputs": [
        {
          "output_type": "execute_result",
          "data": {
            "text/html": [
              "<div>\n",
              "<style scoped>\n",
              "    .dataframe tbody tr th:only-of-type {\n",
              "        vertical-align: middle;\n",
              "    }\n",
              "\n",
              "    .dataframe tbody tr th {\n",
              "        vertical-align: top;\n",
              "    }\n",
              "\n",
              "    .dataframe thead th {\n",
              "        text-align: right;\n",
              "    }\n",
              "</style>\n",
              "<table border=\"1\" class=\"dataframe\">\n",
              "  <thead>\n",
              "    <tr style=\"text-align: right;\">\n",
              "      <th></th>\n",
              "      <th>type</th>\n",
              "      <th>path</th>\n",
              "      <th>query</th>\n",
              "    </tr>\n",
              "  </thead>\n",
              "  <tbody>\n",
              "    <tr>\n",
              "      <th>0</th>\n",
              "      <td>SqlInjection</td>\n",
              "      <td>/tienda1/publico/caracteristicas.jsp</td>\n",
              "      <td>id=d%27z%220</td>\n",
              "    </tr>\n",
              "    <tr>\n",
              "      <th>1</th>\n",
              "      <td>SqlInjection</td>\n",
              "      <td>/tienda1/publico/caracteristicas.jsp</td>\n",
              "      <td>id=d%27z%220</td>\n",
              "    </tr>\n",
              "    <tr>\n",
              "      <th>2</th>\n",
              "      <td>SqlInjection</td>\n",
              "      <td>/tienda1/publico/caracteristicas.jsp</td>\n",
              "      <td>id=d%27z%220</td>\n",
              "    </tr>\n",
              "    <tr>\n",
              "      <th>3</th>\n",
              "      <td>SqlInjection</td>\n",
              "      <td>/tienda1/publico/caracteristicas.jsp</td>\n",
              "      <td>id=d%27z%220</td>\n",
              "    </tr>\n",
              "    <tr>\n",
              "      <th>4</th>\n",
              "      <td>SqlInjection</td>\n",
              "      <td>/tienda1/publico/caracteristicas.jsp</td>\n",
              "      <td>id=d%27z%220</td>\n",
              "    </tr>\n",
              "    <tr>\n",
              "      <th>...</th>\n",
              "      <td>...</td>\n",
              "      <td>...</td>\n",
              "      <td>...</td>\n",
              "    </tr>\n",
              "    <tr>\n",
              "      <th>9306</th>\n",
              "      <td>XSS</td>\n",
              "      <td>/tienda1/publico/registro.jsp</td>\n",
              "      <td>modo=registro&amp;login=pepe&amp;password=pepe&amp;nombre=...</td>\n",
              "    </tr>\n",
              "    <tr>\n",
              "      <th>9307</th>\n",
              "      <td>XSS</td>\n",
              "      <td>/tienda1/publico/registro.jsp</td>\n",
              "      <td>modo=registro&amp;login=pepe&amp;password=pepe&amp;nombre=...</td>\n",
              "    </tr>\n",
              "    <tr>\n",
              "      <th>9308</th>\n",
              "      <td>XSS</td>\n",
              "      <td>/tienda1/publico/registro.jsp</td>\n",
              "      <td>modo=registro&amp;login=pepe&amp;password=pepe&amp;nombre=...</td>\n",
              "    </tr>\n",
              "    <tr>\n",
              "      <th>9309</th>\n",
              "      <td>XSS</td>\n",
              "      <td>/tienda1/publico/registro.jsp</td>\n",
              "      <td>modo=registro&amp;login=pepe&amp;password=pepe&amp;nombre=...</td>\n",
              "    </tr>\n",
              "    <tr>\n",
              "      <th>9310</th>\n",
              "      <td>XSS</td>\n",
              "      <td>/tienda1/publico/registro.jsp</td>\n",
              "      <td>modo=registro&amp;login=pepe&amp;password=pepe&amp;nombre=...</td>\n",
              "    </tr>\n",
              "  </tbody>\n",
              "</table>\n",
              "<p>9311 rows × 3 columns</p>\n",
              "</div>"
            ],
            "text/plain": [
              "              type  ...                                              query\n",
              "0     SqlInjection  ...                                       id=d%27z%220\n",
              "1     SqlInjection  ...                                       id=d%27z%220\n",
              "2     SqlInjection  ...                                       id=d%27z%220\n",
              "3     SqlInjection  ...                                       id=d%27z%220\n",
              "4     SqlInjection  ...                                       id=d%27z%220\n",
              "...            ...  ...                                                ...\n",
              "9306           XSS  ...  modo=registro&login=pepe&password=pepe&nombre=...\n",
              "9307           XSS  ...  modo=registro&login=pepe&password=pepe&nombre=...\n",
              "9308           XSS  ...  modo=registro&login=pepe&password=pepe&nombre=...\n",
              "9309           XSS  ...  modo=registro&login=pepe&password=pepe&nombre=...\n",
              "9310           XSS  ...  modo=registro&login=pepe&password=pepe&nombre=...\n",
              "\n",
              "[9311 rows x 3 columns]"
            ]
          },
          "metadata": {
            "tags": []
          },
          "execution_count": 38
        }
      ]
    },
    {
      "cell_type": "code",
      "metadata": {
        "id": "50JReU7UBwve"
      },
      "source": [
        "df = pd.concat([df,c7]).reset_index(drop = True)"
      ],
      "execution_count": 39,
      "outputs": []
    },
    {
      "cell_type": "code",
      "metadata": {
        "colab": {
          "base_uri": "https://localhost:8080/",
          "height": 402
        },
        "id": "8_Gvd7J0B1sp",
        "outputId": "ee21d15e-6089-4122-c18a-9e9ad604e4e8"
      },
      "source": [
        "c8['type'] = 'Valid'\n",
        "c8['result'] = c8['query'].fillna('') + c8['body'].fillna('')\n",
        "c8 = c8[['type','path','result']]\n",
        "c8.rename(columns = {'result':'query'}, inplace = True)\n",
        "c8"
      ],
      "execution_count": 40,
      "outputs": [
        {
          "output_type": "execute_result",
          "data": {
            "text/html": [
              "<div>\n",
              "<style scoped>\n",
              "    .dataframe tbody tr th:only-of-type {\n",
              "        vertical-align: middle;\n",
              "    }\n",
              "\n",
              "    .dataframe tbody tr th {\n",
              "        vertical-align: top;\n",
              "    }\n",
              "\n",
              "    .dataframe thead th {\n",
              "        text-align: right;\n",
              "    }\n",
              "</style>\n",
              "<table border=\"1\" class=\"dataframe\">\n",
              "  <thead>\n",
              "    <tr style=\"text-align: right;\">\n",
              "      <th></th>\n",
              "      <th>type</th>\n",
              "      <th>path</th>\n",
              "      <th>query</th>\n",
              "    </tr>\n",
              "  </thead>\n",
              "  <tbody>\n",
              "    <tr>\n",
              "      <th>0</th>\n",
              "      <td>Valid</td>\n",
              "      <td>/tienda1/</td>\n",
              "      <td></td>\n",
              "    </tr>\n",
              "    <tr>\n",
              "      <th>1</th>\n",
              "      <td>Valid</td>\n",
              "      <td>/tienda1/publico/productos.jsp</td>\n",
              "      <td></td>\n",
              "    </tr>\n",
              "    <tr>\n",
              "      <th>2</th>\n",
              "      <td>Valid</td>\n",
              "      <td>/tienda1/publico/caracteristicas.jsp</td>\n",
              "      <td>id=3</td>\n",
              "    </tr>\n",
              "    <tr>\n",
              "      <th>3</th>\n",
              "      <td>Valid</td>\n",
              "      <td>/tienda1/imagenes/3.gif</td>\n",
              "      <td></td>\n",
              "    </tr>\n",
              "    <tr>\n",
              "      <th>4</th>\n",
              "      <td>Valid</td>\n",
              "      <td>/tienda1/publico/caracteristicas.jsp</td>\n",
              "      <td>id=2</td>\n",
              "    </tr>\n",
              "    <tr>\n",
              "      <th>...</th>\n",
              "      <td>...</td>\n",
              "      <td>...</td>\n",
              "      <td>...</td>\n",
              "    </tr>\n",
              "    <tr>\n",
              "      <th>8358</th>\n",
              "      <td>Valid</td>\n",
              "      <td>/tienda1/publico/registro.jsp</td>\n",
              "      <td>modo=registro&amp;login=m4&amp;password=8CA63951&amp;nombr...</td>\n",
              "    </tr>\n",
              "    <tr>\n",
              "      <th>8359</th>\n",
              "      <td>Valid</td>\n",
              "      <td>/tienda1/publico/registro.jsp</td>\n",
              "      <td>modo=registro&amp;login=m4&amp;password=acalugar&amp;nombr...</td>\n",
              "    </tr>\n",
              "    <tr>\n",
              "      <th>8360</th>\n",
              "      <td>Valid</td>\n",
              "      <td>/tienda1/publico/registro.jsp</td>\n",
              "      <td>modo=registro&amp;login=m4&amp;password=ACalUMNIadoR&amp;n...</td>\n",
              "    </tr>\n",
              "    <tr>\n",
              "      <th>8361</th>\n",
              "      <td>Valid</td>\n",
              "      <td>/tienda1/publico/registro.jsp</td>\n",
              "      <td>modo=registro&amp;login=m4&amp;password=acalumniadora&amp;...</td>\n",
              "    </tr>\n",
              "    <tr>\n",
              "      <th>8362</th>\n",
              "      <td>Valid</td>\n",
              "      <td>/tienda1/publico/registro.jsp</td>\n",
              "      <td>modo=registro&amp;login=m4&amp;password=a95m43l8da&amp;nom...</td>\n",
              "    </tr>\n",
              "  </tbody>\n",
              "</table>\n",
              "<p>8363 rows × 3 columns</p>\n",
              "</div>"
            ],
            "text/plain": [
              "       type  ...                                              query\n",
              "0     Valid  ...                                                   \n",
              "1     Valid  ...                                                   \n",
              "2     Valid  ...                                               id=3\n",
              "3     Valid  ...                                                   \n",
              "4     Valid  ...                                               id=2\n",
              "...     ...  ...                                                ...\n",
              "8358  Valid  ...  modo=registro&login=m4&password=8CA63951&nombr...\n",
              "8359  Valid  ...  modo=registro&login=m4&password=acalugar&nombr...\n",
              "8360  Valid  ...  modo=registro&login=m4&password=ACalUMNIadoR&n...\n",
              "8361  Valid  ...  modo=registro&login=m4&password=acalumniadora&...\n",
              "8362  Valid  ...  modo=registro&login=m4&password=a95m43l8da&nom...\n",
              "\n",
              "[8363 rows x 3 columns]"
            ]
          },
          "metadata": {
            "tags": []
          },
          "execution_count": 40
        }
      ]
    },
    {
      "cell_type": "code",
      "metadata": {
        "id": "6a5SUEKNB-fF"
      },
      "source": [
        "df = pd.concat([df,c8]).reset_index(drop = True)"
      ],
      "execution_count": 41,
      "outputs": []
    },
    {
      "cell_type": "code",
      "metadata": {
        "colab": {
          "base_uri": "https://localhost:8080/"
        },
        "id": "oNS0t8O_CBZA",
        "outputId": "3e8fea3c-efec-4c7d-987e-b3d6dc6c288f"
      },
      "source": [
        "df.info()"
      ],
      "execution_count": 42,
      "outputs": [
        {
          "output_type": "stream",
          "text": [
            "<class 'pandas.core.frame.DataFrame'>\n",
            "RangeIndex: 126429 entries, 0 to 126428\n",
            "Data columns (total 3 columns):\n",
            " #   Column  Non-Null Count   Dtype \n",
            "---  ------  --------------   ----- \n",
            " 0   type    126429 non-null  object\n",
            " 1   path    126429 non-null  object\n",
            " 2   query   126429 non-null  object\n",
            "dtypes: object(3)\n",
            "memory usage: 2.9+ MB\n"
          ],
          "name": "stdout"
        }
      ]
    },
    {
      "cell_type": "code",
      "metadata": {
        "colab": {
          "base_uri": "https://localhost:8080/",
          "height": 432
        },
        "id": "LOnW_yUgCEHQ",
        "outputId": "0995d358-f501-4026-c929-2fb8f0d6da46"
      },
      "source": [
        "df.groupby(['type']).count()"
      ],
      "execution_count": 43,
      "outputs": [
        {
          "output_type": "execute_result",
          "data": {
            "text/html": [
              "<div>\n",
              "<style scoped>\n",
              "    .dataframe tbody tr th:only-of-type {\n",
              "        vertical-align: middle;\n",
              "    }\n",
              "\n",
              "    .dataframe tbody tr th {\n",
              "        vertical-align: top;\n",
              "    }\n",
              "\n",
              "    .dataframe thead th {\n",
              "        text-align: right;\n",
              "    }\n",
              "</style>\n",
              "<table border=\"1\" class=\"dataframe\">\n",
              "  <thead>\n",
              "    <tr style=\"text-align: right;\">\n",
              "      <th></th>\n",
              "      <th>path</th>\n",
              "      <th>query</th>\n",
              "    </tr>\n",
              "    <tr>\n",
              "      <th>type</th>\n",
              "      <th></th>\n",
              "      <th></th>\n",
              "    </tr>\n",
              "  </thead>\n",
              "  <tbody>\n",
              "    <tr>\n",
              "      <th>BufferOverflow</th>\n",
              "      <td>412</td>\n",
              "      <td>412</td>\n",
              "    </tr>\n",
              "    <tr>\n",
              "      <th>CRLFi</th>\n",
              "      <td>327</td>\n",
              "      <td>327</td>\n",
              "    </tr>\n",
              "    <tr>\n",
              "      <th>FormatString</th>\n",
              "      <td>41</td>\n",
              "      <td>41</td>\n",
              "    </tr>\n",
              "    <tr>\n",
              "      <th>LdapInjection</th>\n",
              "      <td>2353</td>\n",
              "      <td>2353</td>\n",
              "    </tr>\n",
              "    <tr>\n",
              "      <th>OsCommanding</th>\n",
              "      <td>3420</td>\n",
              "      <td>3420</td>\n",
              "    </tr>\n",
              "    <tr>\n",
              "      <th>PathTransversal</th>\n",
              "      <td>3029</td>\n",
              "      <td>3029</td>\n",
              "    </tr>\n",
              "    <tr>\n",
              "      <th>SSI</th>\n",
              "      <td>2349</td>\n",
              "      <td>2349</td>\n",
              "    </tr>\n",
              "    <tr>\n",
              "      <th>SqlInjection</th>\n",
              "      <td>45573</td>\n",
              "      <td>45573</td>\n",
              "    </tr>\n",
              "    <tr>\n",
              "      <th>Valid</th>\n",
              "      <td>43369</td>\n",
              "      <td>43369</td>\n",
              "    </tr>\n",
              "    <tr>\n",
              "      <th>XPathInjection</th>\n",
              "      <td>2454</td>\n",
              "      <td>2454</td>\n",
              "    </tr>\n",
              "    <tr>\n",
              "      <th>XSS</th>\n",
              "      <td>6643</td>\n",
              "      <td>6643</td>\n",
              "    </tr>\n",
              "    <tr>\n",
              "      <th>anomalous</th>\n",
              "      <td>16459</td>\n",
              "      <td>16459</td>\n",
              "    </tr>\n",
              "  </tbody>\n",
              "</table>\n",
              "</div>"
            ],
            "text/plain": [
              "                  path  query\n",
              "type                         \n",
              "BufferOverflow     412    412\n",
              "CRLFi              327    327\n",
              "FormatString        41     41\n",
              "LdapInjection     2353   2353\n",
              "OsCommanding      3420   3420\n",
              "PathTransversal   3029   3029\n",
              "SSI               2349   2349\n",
              "SqlInjection     45573  45573\n",
              "Valid            43369  43369\n",
              "XPathInjection    2454   2454\n",
              "XSS               6643   6643\n",
              "anomalous        16459  16459"
            ]
          },
          "metadata": {
            "tags": []
          },
          "execution_count": 43
        }
      ]
    },
    {
      "cell_type": "code",
      "metadata": {
        "id": "AupWR275CG61"
      },
      "source": [
        "r_df = df"
      ],
      "execution_count": 44,
      "outputs": []
    },
    {
      "cell_type": "code",
      "metadata": {
        "colab": {
          "base_uri": "https://localhost:8080/",
          "height": 432
        },
        "id": "mgkkqtgEDDe_",
        "outputId": "06d32a62-0cf8-4b28-9a4f-2385608b8222"
      },
      "source": [
        "r_df.groupby(['type']).count()"
      ],
      "execution_count": 45,
      "outputs": [
        {
          "output_type": "execute_result",
          "data": {
            "text/html": [
              "<div>\n",
              "<style scoped>\n",
              "    .dataframe tbody tr th:only-of-type {\n",
              "        vertical-align: middle;\n",
              "    }\n",
              "\n",
              "    .dataframe tbody tr th {\n",
              "        vertical-align: top;\n",
              "    }\n",
              "\n",
              "    .dataframe thead th {\n",
              "        text-align: right;\n",
              "    }\n",
              "</style>\n",
              "<table border=\"1\" class=\"dataframe\">\n",
              "  <thead>\n",
              "    <tr style=\"text-align: right;\">\n",
              "      <th></th>\n",
              "      <th>path</th>\n",
              "      <th>query</th>\n",
              "    </tr>\n",
              "    <tr>\n",
              "      <th>type</th>\n",
              "      <th></th>\n",
              "      <th></th>\n",
              "    </tr>\n",
              "  </thead>\n",
              "  <tbody>\n",
              "    <tr>\n",
              "      <th>BufferOverflow</th>\n",
              "      <td>412</td>\n",
              "      <td>412</td>\n",
              "    </tr>\n",
              "    <tr>\n",
              "      <th>CRLFi</th>\n",
              "      <td>327</td>\n",
              "      <td>327</td>\n",
              "    </tr>\n",
              "    <tr>\n",
              "      <th>FormatString</th>\n",
              "      <td>41</td>\n",
              "      <td>41</td>\n",
              "    </tr>\n",
              "    <tr>\n",
              "      <th>LdapInjection</th>\n",
              "      <td>2353</td>\n",
              "      <td>2353</td>\n",
              "    </tr>\n",
              "    <tr>\n",
              "      <th>OsCommanding</th>\n",
              "      <td>3420</td>\n",
              "      <td>3420</td>\n",
              "    </tr>\n",
              "    <tr>\n",
              "      <th>PathTransversal</th>\n",
              "      <td>3029</td>\n",
              "      <td>3029</td>\n",
              "    </tr>\n",
              "    <tr>\n",
              "      <th>SSI</th>\n",
              "      <td>2349</td>\n",
              "      <td>2349</td>\n",
              "    </tr>\n",
              "    <tr>\n",
              "      <th>SqlInjection</th>\n",
              "      <td>45573</td>\n",
              "      <td>45573</td>\n",
              "    </tr>\n",
              "    <tr>\n",
              "      <th>Valid</th>\n",
              "      <td>43369</td>\n",
              "      <td>43369</td>\n",
              "    </tr>\n",
              "    <tr>\n",
              "      <th>XPathInjection</th>\n",
              "      <td>2454</td>\n",
              "      <td>2454</td>\n",
              "    </tr>\n",
              "    <tr>\n",
              "      <th>XSS</th>\n",
              "      <td>6643</td>\n",
              "      <td>6643</td>\n",
              "    </tr>\n",
              "    <tr>\n",
              "      <th>anomalous</th>\n",
              "      <td>16459</td>\n",
              "      <td>16459</td>\n",
              "    </tr>\n",
              "  </tbody>\n",
              "</table>\n",
              "</div>"
            ],
            "text/plain": [
              "                  path  query\n",
              "type                         \n",
              "BufferOverflow     412    412\n",
              "CRLFi              327    327\n",
              "FormatString        41     41\n",
              "LdapInjection     2353   2353\n",
              "OsCommanding      3420   3420\n",
              "PathTransversal   3029   3029\n",
              "SSI               2349   2349\n",
              "SqlInjection     45573  45573\n",
              "Valid            43369  43369\n",
              "XPathInjection    2454   2454\n",
              "XSS               6643   6643\n",
              "anomalous        16459  16459"
            ]
          },
          "metadata": {
            "tags": []
          },
          "execution_count": 45
        }
      ]
    },
    {
      "cell_type": "code",
      "metadata": {
        "id": "WJzsw4YBDL6a"
      },
      "source": [
        "r_df.loc[r_df['type']=='OsCommanding','type'] = 'OS'\n",
        "r_df.loc[r_df['type']=='LdapInjection','type'] = 'LDAPi'\n",
        "r_df.loc[r_df['type']=='SqlInjection','type'] = 'SQLi'\n",
        "r_df.loc[r_df['type']=='PathTransversal','type'] = 'PT'\n",
        "r_df.loc[r_df['type']=='XPathInjection','type'] = 'XPath'\n",
        "r_df.loc[r_df['type']=='FormatString','type'] = 'FS'\n",
        "r_df.loc[r_df['type']=='BufferOverflow','type'] = 'BO'"
      ],
      "execution_count": 46,
      "outputs": []
    },
    {
      "cell_type": "code",
      "metadata": {
        "colab": {
          "base_uri": "https://localhost:8080/",
          "height": 432
        },
        "id": "_-ijThJ4D700",
        "outputId": "b494696d-db60-43e5-ce89-2bcf5e139608"
      },
      "source": [
        "r_df.groupby(['type']).count()"
      ],
      "execution_count": 47,
      "outputs": [
        {
          "output_type": "execute_result",
          "data": {
            "text/html": [
              "<div>\n",
              "<style scoped>\n",
              "    .dataframe tbody tr th:only-of-type {\n",
              "        vertical-align: middle;\n",
              "    }\n",
              "\n",
              "    .dataframe tbody tr th {\n",
              "        vertical-align: top;\n",
              "    }\n",
              "\n",
              "    .dataframe thead th {\n",
              "        text-align: right;\n",
              "    }\n",
              "</style>\n",
              "<table border=\"1\" class=\"dataframe\">\n",
              "  <thead>\n",
              "    <tr style=\"text-align: right;\">\n",
              "      <th></th>\n",
              "      <th>path</th>\n",
              "      <th>query</th>\n",
              "    </tr>\n",
              "    <tr>\n",
              "      <th>type</th>\n",
              "      <th></th>\n",
              "      <th></th>\n",
              "    </tr>\n",
              "  </thead>\n",
              "  <tbody>\n",
              "    <tr>\n",
              "      <th>BO</th>\n",
              "      <td>412</td>\n",
              "      <td>412</td>\n",
              "    </tr>\n",
              "    <tr>\n",
              "      <th>CRLFi</th>\n",
              "      <td>327</td>\n",
              "      <td>327</td>\n",
              "    </tr>\n",
              "    <tr>\n",
              "      <th>FS</th>\n",
              "      <td>41</td>\n",
              "      <td>41</td>\n",
              "    </tr>\n",
              "    <tr>\n",
              "      <th>LDAPi</th>\n",
              "      <td>2353</td>\n",
              "      <td>2353</td>\n",
              "    </tr>\n",
              "    <tr>\n",
              "      <th>OS</th>\n",
              "      <td>3420</td>\n",
              "      <td>3420</td>\n",
              "    </tr>\n",
              "    <tr>\n",
              "      <th>PT</th>\n",
              "      <td>3029</td>\n",
              "      <td>3029</td>\n",
              "    </tr>\n",
              "    <tr>\n",
              "      <th>SQLi</th>\n",
              "      <td>45573</td>\n",
              "      <td>45573</td>\n",
              "    </tr>\n",
              "    <tr>\n",
              "      <th>SSI</th>\n",
              "      <td>2349</td>\n",
              "      <td>2349</td>\n",
              "    </tr>\n",
              "    <tr>\n",
              "      <th>Valid</th>\n",
              "      <td>43369</td>\n",
              "      <td>43369</td>\n",
              "    </tr>\n",
              "    <tr>\n",
              "      <th>XPath</th>\n",
              "      <td>2454</td>\n",
              "      <td>2454</td>\n",
              "    </tr>\n",
              "    <tr>\n",
              "      <th>XSS</th>\n",
              "      <td>6643</td>\n",
              "      <td>6643</td>\n",
              "    </tr>\n",
              "    <tr>\n",
              "      <th>anomalous</th>\n",
              "      <td>16459</td>\n",
              "      <td>16459</td>\n",
              "    </tr>\n",
              "  </tbody>\n",
              "</table>\n",
              "</div>"
            ],
            "text/plain": [
              "            path  query\n",
              "type                   \n",
              "BO           412    412\n",
              "CRLFi        327    327\n",
              "FS            41     41\n",
              "LDAPi       2353   2353\n",
              "OS          3420   3420\n",
              "PT          3029   3029\n",
              "SQLi       45573  45573\n",
              "SSI         2349   2349\n",
              "Valid      43369  43369\n",
              "XPath       2454   2454\n",
              "XSS         6643   6643\n",
              "anomalous  16459  16459"
            ]
          },
          "metadata": {
            "tags": []
          },
          "execution_count": 47
        }
      ]
    },
    {
      "cell_type": "code",
      "metadata": {
        "id": "XCrcVFWSEJvH"
      },
      "source": [
        "r_df.to_csv('final_dataset.csv')"
      ],
      "execution_count": 48,
      "outputs": []
    },
    {
      "cell_type": "code",
      "metadata": {
        "colab": {
          "base_uri": "https://localhost:8080/"
        },
        "id": "Rb1eSlWHEQFH",
        "outputId": "104a84f9-f439-4330-fb87-f3b456f50182"
      },
      "source": [
        "! ls"
      ],
      "execution_count": 49,
      "outputs": [
        {
          "output_type": "stream",
          "text": [
            "drive  ECML.csv  final_dataset.csv  sample_data\n"
          ],
          "name": "stdout"
        }
      ]
    },
    {
      "cell_type": "code",
      "metadata": {
        "id": "jvQjt9I_ESnu"
      },
      "source": [
        "!cp final_dataset.csv \"drive/My Drive/\""
      ],
      "execution_count": 50,
      "outputs": []
    },
    {
      "cell_type": "code",
      "metadata": {
        "colab": {
          "base_uri": "https://localhost:8080/",
          "height": 402
        },
        "id": "Igt1nOOwEVAA",
        "outputId": "43941362-7894-4b41-bb78-b3019fe5b12f"
      },
      "source": [
        "r_df"
      ],
      "execution_count": 51,
      "outputs": [
        {
          "output_type": "execute_result",
          "data": {
            "text/html": [
              "<div>\n",
              "<style scoped>\n",
              "    .dataframe tbody tr th:only-of-type {\n",
              "        vertical-align: middle;\n",
              "    }\n",
              "\n",
              "    .dataframe tbody tr th {\n",
              "        vertical-align: top;\n",
              "    }\n",
              "\n",
              "    .dataframe thead th {\n",
              "        text-align: right;\n",
              "    }\n",
              "</style>\n",
              "<table border=\"1\" class=\"dataframe\">\n",
              "  <thead>\n",
              "    <tr style=\"text-align: right;\">\n",
              "      <th></th>\n",
              "      <th>type</th>\n",
              "      <th>path</th>\n",
              "      <th>query</th>\n",
              "    </tr>\n",
              "  </thead>\n",
              "  <tbody>\n",
              "    <tr>\n",
              "      <th>0</th>\n",
              "      <td>Valid</td>\n",
              "      <td>/l_t@/_Feu1wvhtpass2/1nieQnnrvnzktuasain/tg1AR...</td>\n",
              "      <td>crTeYreti=wsn&amp;et3tf6shoV=tdsviee+y+fum%24oh3%3...</td>\n",
              "    </tr>\n",
              "    <tr>\n",
              "      <th>1</th>\n",
              "      <td>Valid</td>\n",
              "      <td>/inssgtz7ieltdSstbw7e/neQhmsdwu7imdb0etet/eT/h...</td>\n",
              "      <td>Settotzeertnl=%27pn+&amp;8nafitm=74LuKUC5t0J&amp;4ttNe...</td>\n",
              "    </tr>\n",
              "    <tr>\n",
              "      <th>2</th>\n",
              "      <td>Valid</td>\n",
              "      <td>/fonRnt/7N.D-4BRSsXb@TU/qgheW.cfm</td>\n",
              "      <td></td>\n",
              "    </tr>\n",
              "    <tr>\n",
              "      <th>3</th>\n",
              "      <td>Valid</td>\n",
              "      <td>/dyylkL.XD9cPu/4Ot0ta/ts6xNrP1/hssh/a2cuerht/s...</td>\n",
              "      <td>DFDi7ftp=37redocumentilN&amp;l4setbemmo=oe_RDzQ&amp;rt...</td>\n",
              "    </tr>\n",
              "    <tr>\n",
              "      <th>4</th>\n",
              "      <td>Valid</td>\n",
              "      <td>/2m6VLb1r37jSPC/cWVv/Mbar/oqrd0/msc/etceebwgi/...</td>\n",
              "      <td>upcthyrsrtztir=90&amp;o@gCv=uy&amp;l6=S4&amp;nrtrzevjgah=3...</td>\n",
              "    </tr>\n",
              "    <tr>\n",
              "      <th>...</th>\n",
              "      <td>...</td>\n",
              "      <td>...</td>\n",
              "      <td>...</td>\n",
              "    </tr>\n",
              "    <tr>\n",
              "      <th>126424</th>\n",
              "      <td>Valid</td>\n",
              "      <td>/tienda1/publico/registro.jsp</td>\n",
              "      <td>modo=registro&amp;login=m4&amp;password=8CA63951&amp;nombr...</td>\n",
              "    </tr>\n",
              "    <tr>\n",
              "      <th>126425</th>\n",
              "      <td>Valid</td>\n",
              "      <td>/tienda1/publico/registro.jsp</td>\n",
              "      <td>modo=registro&amp;login=m4&amp;password=acalugar&amp;nombr...</td>\n",
              "    </tr>\n",
              "    <tr>\n",
              "      <th>126426</th>\n",
              "      <td>Valid</td>\n",
              "      <td>/tienda1/publico/registro.jsp</td>\n",
              "      <td>modo=registro&amp;login=m4&amp;password=ACalUMNIadoR&amp;n...</td>\n",
              "    </tr>\n",
              "    <tr>\n",
              "      <th>126427</th>\n",
              "      <td>Valid</td>\n",
              "      <td>/tienda1/publico/registro.jsp</td>\n",
              "      <td>modo=registro&amp;login=m4&amp;password=acalumniadora&amp;...</td>\n",
              "    </tr>\n",
              "    <tr>\n",
              "      <th>126428</th>\n",
              "      <td>Valid</td>\n",
              "      <td>/tienda1/publico/registro.jsp</td>\n",
              "      <td>modo=registro&amp;login=m4&amp;password=a95m43l8da&amp;nom...</td>\n",
              "    </tr>\n",
              "  </tbody>\n",
              "</table>\n",
              "<p>126429 rows × 3 columns</p>\n",
              "</div>"
            ],
            "text/plain": [
              "         type  ...                                              query\n",
              "0       Valid  ...  crTeYreti=wsn&et3tf6shoV=tdsviee+y+fum%24oh3%3...\n",
              "1       Valid  ...  Settotzeertnl=%27pn+&8nafitm=74LuKUC5t0J&4ttNe...\n",
              "2       Valid  ...                                                   \n",
              "3       Valid  ...  DFDi7ftp=37redocumentilN&l4setbemmo=oe_RDzQ&rt...\n",
              "4       Valid  ...  upcthyrsrtztir=90&o@gCv=uy&l6=S4&nrtrzevjgah=3...\n",
              "...       ...  ...                                                ...\n",
              "126424  Valid  ...  modo=registro&login=m4&password=8CA63951&nombr...\n",
              "126425  Valid  ...  modo=registro&login=m4&password=acalugar&nombr...\n",
              "126426  Valid  ...  modo=registro&login=m4&password=ACalUMNIadoR&n...\n",
              "126427  Valid  ...  modo=registro&login=m4&password=acalumniadora&...\n",
              "126428  Valid  ...  modo=registro&login=m4&password=a95m43l8da&nom...\n",
              "\n",
              "[126429 rows x 3 columns]"
            ]
          },
          "metadata": {
            "tags": []
          },
          "execution_count": 51
        }
      ]
    },
    {
      "cell_type": "code",
      "metadata": {
        "id": "ohBSq7MYEXcI"
      },
      "source": [
        "df = pd.read_csv(\"drive/MyDrive/final_dataset.csv\")"
      ],
      "execution_count": 52,
      "outputs": []
    },
    {
      "cell_type": "code",
      "metadata": {
        "id": "Uam8DntrEiMb"
      },
      "source": [
        "df = df[['type','path','query']]"
      ],
      "execution_count": 53,
      "outputs": []
    },
    {
      "cell_type": "code",
      "metadata": {
        "id": "tH_tlfU9EleH"
      },
      "source": [
        "df.loc[~df['query'].isnull(),'result'] = df.loc[~df['query'].isnull(),'path'].fillna('') + '?' + df.loc[~df['query'].isnull(),'query'].fillna('')"
      ],
      "execution_count": 54,
      "outputs": []
    },
    {
      "cell_type": "code",
      "metadata": {
        "id": "vVPhDnumEu47"
      },
      "source": [
        "df.loc[df['query'].isnull(),'result'] = df.loc[df['query'].isnull(),'path'].fillna('')# + '?' + df.loc[~df['query'].isnull(),'query'].fillna('')"
      ],
      "execution_count": 55,
      "outputs": []
    },
    {
      "cell_type": "code",
      "metadata": {
        "id": "qiY_CyoCFIHA"
      },
      "source": [
        "df = df[['type','result']]"
      ],
      "execution_count": 56,
      "outputs": []
    },
    {
      "cell_type": "code",
      "metadata": {
        "id": "zwQINzSEFN2c"
      },
      "source": [
        "df.rename(columns = {'result':'url'}, inplace = True)"
      ],
      "execution_count": 57,
      "outputs": []
    },
    {
      "cell_type": "code",
      "metadata": {
        "colab": {
          "base_uri": "https://localhost:8080/"
        },
        "id": "nXxciYm9FRg9",
        "outputId": "3b70177d-be06-43b7-90f6-1f0dba44bf29"
      },
      "source": [
        "df.isnull().sum()"
      ],
      "execution_count": 58,
      "outputs": [
        {
          "output_type": "execute_result",
          "data": {
            "text/plain": [
              "type    0\n",
              "url     0\n",
              "dtype: int64"
            ]
          },
          "metadata": {
            "tags": []
          },
          "execution_count": 58
        }
      ]
    },
    {
      "cell_type": "code",
      "metadata": {
        "id": "myHma9TgFWzp"
      },
      "source": [
        "df.to_csv('stage.csv')"
      ],
      "execution_count": 59,
      "outputs": []
    },
    {
      "cell_type": "code",
      "metadata": {
        "id": "scEf9KSAFaRB"
      },
      "source": [
        "!cp stage.csv \"drive/My Drive/\""
      ],
      "execution_count": 60,
      "outputs": []
    },
    {
      "cell_type": "code",
      "metadata": {
        "id": "EFaCRK5CFeLN"
      },
      "source": [
        "df = pd.read_csv(\"drive/MyDrive/stage.csv\")"
      ],
      "execution_count": 61,
      "outputs": []
    },
    {
      "cell_type": "code",
      "metadata": {
        "id": "xh6lJBYXF8i0"
      },
      "source": [
        "df = df[['type','url']]"
      ],
      "execution_count": 62,
      "outputs": []
    },
    {
      "cell_type": "code",
      "metadata": {
        "id": "6ZvvyVSZGEuO"
      },
      "source": [
        "df['label'] = 0"
      ],
      "execution_count": 63,
      "outputs": []
    },
    {
      "cell_type": "code",
      "metadata": {
        "id": "tXHoW9gdGHW3"
      },
      "source": [
        "df.loc[df['type']=='FS','label'] = 1"
      ],
      "execution_count": 64,
      "outputs": []
    },
    {
      "cell_type": "code",
      "metadata": {
        "id": "lsGWr8ZdGK5M"
      },
      "source": [
        "df = df.fillna('NULL')"
      ],
      "execution_count": 65,
      "outputs": []
    },
    {
      "cell_type": "code",
      "metadata": {
        "id": "SfpL0LoCGOGh"
      },
      "source": [
        "from urllib.parse import unquote"
      ],
      "execution_count": 66,
      "outputs": []
    },
    {
      "cell_type": "code",
      "metadata": {
        "id": "-1ryI5VjGuE-"
      },
      "source": [
        "def url_parse(query):\n",
        "    query = unquote(query)\n",
        "    return query"
      ],
      "execution_count": 67,
      "outputs": []
    },
    {
      "cell_type": "code",
      "metadata": {
        "id": "pVUmD8YiGxQC"
      },
      "source": [
        "def newremove(statement):\n",
        "  return statement.replace('\\n','')"
      ],
      "execution_count": 68,
      "outputs": []
    },
    {
      "cell_type": "code",
      "metadata": {
        "id": "ne5PDhYAG0BB"
      },
      "source": [
        "df['url'] = df['url'].apply(url_parse)\n",
        "df['url'] = df['url'].apply(url_parse)\n",
        "df['url'] = df['url'].apply(newremove)"
      ],
      "execution_count": 70,
      "outputs": []
    },
    {
      "cell_type": "code",
      "metadata": {
        "id": "n9qdTkixG2PC"
      },
      "source": [
        "df['url'] = df['url'].str.lower()"
      ],
      "execution_count": 71,
      "outputs": []
    },
    {
      "cell_type": "code",
      "metadata": {
        "id": "8kRvbMTwIu80"
      },
      "source": [
        "mylist = list()"
      ],
      "execution_count": 72,
      "outputs": []
    },
    {
      "cell_type": "code",
      "metadata": {
        "colab": {
          "base_uri": "https://localhost:8080/"
        },
        "id": "1BFUZtwSIyQG",
        "outputId": "e50f6b75-00de-45db-acc8-9361cbcf67a4"
      },
      "source": [
        "ch = input()\n",
        "while(ch != '@@@@@'):\n",
        "    mylist.append(ch)\n",
        "    ch = input()"
      ],
      "execution_count": 73,
      "outputs": [
        {
          "output_type": "stream",
          "text": [
            "%%\n",
            "%p\n",
            "%d\n",
            "%c\n",
            "%u\n",
            "%x\n",
            "%s\n",
            "%n\n",
            "@@@@@\n"
          ],
          "name": "stdout"
        }
      ]
    },
    {
      "cell_type": "code",
      "metadata": {
        "colab": {
          "base_uri": "https://localhost:8080/"
        },
        "id": "_Sd4wANARD23",
        "outputId": "32a26309-61c0-49b1-cd16-9025098453f8"
      },
      "source": [
        "mylist"
      ],
      "execution_count": 99,
      "outputs": [
        {
          "output_type": "execute_result",
          "data": {
            "text/plain": [
              "['%%', '%p', '%d', '%c', '%u', '%x', '%s', '%n']"
            ]
          },
          "metadata": {
            "tags": []
          },
          "execution_count": 99
        }
      ]
    },
    {
      "cell_type": "code",
      "metadata": {
        "id": "4KDuwVNUJj3K"
      },
      "source": [
        "L = set(mylist)"
      ],
      "execution_count": 75,
      "outputs": []
    },
    {
      "cell_type": "code",
      "metadata": {
        "id": "YR3Tla24I1y9"
      },
      "source": [
        "for l in L:\n",
        "  df[l] = 0"
      ],
      "execution_count": 76,
      "outputs": []
    },
    {
      "cell_type": "code",
      "metadata": {
        "id": "VR_eOrmmJgtV"
      },
      "source": [
        "def generate(statement,col):\n",
        "    text = str(statement)\n",
        "    return text.count(col)"
      ],
      "execution_count": 79,
      "outputs": []
    },
    {
      "cell_type": "code",
      "metadata": {
        "id": "zG4tZfK7Kddl"
      },
      "source": [
        "for col in L:\n",
        "  df[col] = df['url'].apply(generate, col=col)"
      ],
      "execution_count": 80,
      "outputs": []
    },
    {
      "cell_type": "code",
      "metadata": {
        "id": "B4LfhuDjMSA2"
      },
      "source": [
        "df.to_csv('final_FS.csv')\n",
        "!cp final_FS.csv \"drive/My Drive/\""
      ],
      "execution_count": 86,
      "outputs": []
    },
    {
      "cell_type": "code",
      "metadata": {
        "id": "xHHfeRfOMZD4"
      },
      "source": [
        "df = pd.read_csv(\"drive/MyDrive/final_FS.csv\")\n",
        "df = df.dropna()\n",
        "del df['Unnamed: 0']"
      ],
      "execution_count": 88,
      "outputs": []
    },
    {
      "cell_type": "code",
      "metadata": {
        "colab": {
          "base_uri": "https://localhost:8080/",
          "height": 402
        },
        "id": "luTFUWfmM7m7",
        "outputId": "ced8437f-5140-478c-ed59-91611fe2c222"
      },
      "source": [
        "df"
      ],
      "execution_count": 89,
      "outputs": [
        {
          "output_type": "execute_result",
          "data": {
            "text/html": [
              "<div>\n",
              "<style scoped>\n",
              "    .dataframe tbody tr th:only-of-type {\n",
              "        vertical-align: middle;\n",
              "    }\n",
              "\n",
              "    .dataframe tbody tr th {\n",
              "        vertical-align: top;\n",
              "    }\n",
              "\n",
              "    .dataframe thead th {\n",
              "        text-align: right;\n",
              "    }\n",
              "</style>\n",
              "<table border=\"1\" class=\"dataframe\">\n",
              "  <thead>\n",
              "    <tr style=\"text-align: right;\">\n",
              "      <th></th>\n",
              "      <th>type</th>\n",
              "      <th>url</th>\n",
              "      <th>label</th>\n",
              "      <th>%d</th>\n",
              "      <th>%s</th>\n",
              "      <th>%x</th>\n",
              "      <th>%p</th>\n",
              "      <th>%c</th>\n",
              "      <th>%%</th>\n",
              "      <th>%u</th>\n",
              "      <th>%n</th>\n",
              "    </tr>\n",
              "  </thead>\n",
              "  <tbody>\n",
              "    <tr>\n",
              "      <th>0</th>\n",
              "      <td>Valid</td>\n",
              "      <td>/l_t@/_feu1wvhtpass2/1nieqnnrvnzktuasain/tg1ar...</td>\n",
              "      <td>0.0</td>\n",
              "      <td>0.0</td>\n",
              "      <td>0.0</td>\n",
              "      <td>0.0</td>\n",
              "      <td>0.0</td>\n",
              "      <td>0.0</td>\n",
              "      <td>0.0</td>\n",
              "      <td>0.0</td>\n",
              "      <td>0.0</td>\n",
              "    </tr>\n",
              "    <tr>\n",
              "      <th>1</th>\n",
              "      <td>Valid</td>\n",
              "      <td>/inssgtz7ieltdsstbw7e/neqhmsdwu7imdb0etet/et/h...</td>\n",
              "      <td>0.0</td>\n",
              "      <td>0.0</td>\n",
              "      <td>0.0</td>\n",
              "      <td>0.0</td>\n",
              "      <td>0.0</td>\n",
              "      <td>0.0</td>\n",
              "      <td>0.0</td>\n",
              "      <td>0.0</td>\n",
              "      <td>0.0</td>\n",
              "    </tr>\n",
              "    <tr>\n",
              "      <th>2</th>\n",
              "      <td>Valid</td>\n",
              "      <td>/fonrnt/7n.d-4brssxb@tu/qghew.cfm</td>\n",
              "      <td>0.0</td>\n",
              "      <td>0.0</td>\n",
              "      <td>0.0</td>\n",
              "      <td>0.0</td>\n",
              "      <td>0.0</td>\n",
              "      <td>0.0</td>\n",
              "      <td>0.0</td>\n",
              "      <td>0.0</td>\n",
              "      <td>0.0</td>\n",
              "    </tr>\n",
              "    <tr>\n",
              "      <th>3</th>\n",
              "      <td>Valid</td>\n",
              "      <td>/dyylkl.xd9cpu/4ot0ta/ts6xnrp1/hssh/a2cuerht/s...</td>\n",
              "      <td>0.0</td>\n",
              "      <td>0.0</td>\n",
              "      <td>0.0</td>\n",
              "      <td>0.0</td>\n",
              "      <td>0.0</td>\n",
              "      <td>0.0</td>\n",
              "      <td>0.0</td>\n",
              "      <td>1.0</td>\n",
              "      <td>0.0</td>\n",
              "    </tr>\n",
              "    <tr>\n",
              "      <th>4</th>\n",
              "      <td>Valid</td>\n",
              "      <td>/2m6vlb1r37jspc/cwvv/mbar/oqrd0/msc/etceebwgi/...</td>\n",
              "      <td>0.0</td>\n",
              "      <td>0.0</td>\n",
              "      <td>0.0</td>\n",
              "      <td>0.0</td>\n",
              "      <td>0.0</td>\n",
              "      <td>1.0</td>\n",
              "      <td>0.0</td>\n",
              "      <td>0.0</td>\n",
              "      <td>0.0</td>\n",
              "    </tr>\n",
              "    <tr>\n",
              "      <th>...</th>\n",
              "      <td>...</td>\n",
              "      <td>...</td>\n",
              "      <td>...</td>\n",
              "      <td>...</td>\n",
              "      <td>...</td>\n",
              "      <td>...</td>\n",
              "      <td>...</td>\n",
              "      <td>...</td>\n",
              "      <td>...</td>\n",
              "      <td>...</td>\n",
              "      <td>...</td>\n",
              "    </tr>\n",
              "    <tr>\n",
              "      <th>126599</th>\n",
              "      <td>Valid</td>\n",
              "      <td>/tienda1/publico/registro.jsp?modo=registro&amp;lo...</td>\n",
              "      <td>0.0</td>\n",
              "      <td>0.0</td>\n",
              "      <td>0.0</td>\n",
              "      <td>0.0</td>\n",
              "      <td>0.0</td>\n",
              "      <td>0.0</td>\n",
              "      <td>0.0</td>\n",
              "      <td>0.0</td>\n",
              "      <td>0.0</td>\n",
              "    </tr>\n",
              "    <tr>\n",
              "      <th>126600</th>\n",
              "      <td>Valid</td>\n",
              "      <td>/tienda1/publico/registro.jsp?modo=registro&amp;lo...</td>\n",
              "      <td>0.0</td>\n",
              "      <td>0.0</td>\n",
              "      <td>0.0</td>\n",
              "      <td>0.0</td>\n",
              "      <td>0.0</td>\n",
              "      <td>0.0</td>\n",
              "      <td>0.0</td>\n",
              "      <td>0.0</td>\n",
              "      <td>0.0</td>\n",
              "    </tr>\n",
              "    <tr>\n",
              "      <th>126601</th>\n",
              "      <td>Valid</td>\n",
              "      <td>/tienda1/publico/registro.jsp?modo=registro&amp;lo...</td>\n",
              "      <td>0.0</td>\n",
              "      <td>0.0</td>\n",
              "      <td>0.0</td>\n",
              "      <td>0.0</td>\n",
              "      <td>0.0</td>\n",
              "      <td>0.0</td>\n",
              "      <td>0.0</td>\n",
              "      <td>0.0</td>\n",
              "      <td>0.0</td>\n",
              "    </tr>\n",
              "    <tr>\n",
              "      <th>126602</th>\n",
              "      <td>Valid</td>\n",
              "      <td>/tienda1/publico/registro.jsp?modo=registro&amp;lo...</td>\n",
              "      <td>0.0</td>\n",
              "      <td>0.0</td>\n",
              "      <td>0.0</td>\n",
              "      <td>0.0</td>\n",
              "      <td>0.0</td>\n",
              "      <td>0.0</td>\n",
              "      <td>0.0</td>\n",
              "      <td>0.0</td>\n",
              "      <td>0.0</td>\n",
              "    </tr>\n",
              "    <tr>\n",
              "      <th>126603</th>\n",
              "      <td>Valid</td>\n",
              "      <td>/tienda1/publico/registro.jsp?modo=registro&amp;lo...</td>\n",
              "      <td>0.0</td>\n",
              "      <td>0.0</td>\n",
              "      <td>0.0</td>\n",
              "      <td>0.0</td>\n",
              "      <td>0.0</td>\n",
              "      <td>0.0</td>\n",
              "      <td>0.0</td>\n",
              "      <td>0.0</td>\n",
              "      <td>0.0</td>\n",
              "    </tr>\n",
              "  </tbody>\n",
              "</table>\n",
              "<p>126322 rows × 11 columns</p>\n",
              "</div>"
            ],
            "text/plain": [
              "         type                                                url  ...   %u   %n\n",
              "0       Valid  /l_t@/_feu1wvhtpass2/1nieqnnrvnzktuasain/tg1ar...  ...  0.0  0.0\n",
              "1       Valid  /inssgtz7ieltdsstbw7e/neqhmsdwu7imdb0etet/et/h...  ...  0.0  0.0\n",
              "2       Valid                  /fonrnt/7n.d-4brssxb@tu/qghew.cfm  ...  0.0  0.0\n",
              "3       Valid  /dyylkl.xd9cpu/4ot0ta/ts6xnrp1/hssh/a2cuerht/s...  ...  1.0  0.0\n",
              "4       Valid  /2m6vlb1r37jspc/cwvv/mbar/oqrd0/msc/etceebwgi/...  ...  0.0  0.0\n",
              "...       ...                                                ...  ...  ...  ...\n",
              "126599  Valid  /tienda1/publico/registro.jsp?modo=registro&lo...  ...  0.0  0.0\n",
              "126600  Valid  /tienda1/publico/registro.jsp?modo=registro&lo...  ...  0.0  0.0\n",
              "126601  Valid  /tienda1/publico/registro.jsp?modo=registro&lo...  ...  0.0  0.0\n",
              "126602  Valid  /tienda1/publico/registro.jsp?modo=registro&lo...  ...  0.0  0.0\n",
              "126603  Valid  /tienda1/publico/registro.jsp?modo=registro&lo...  ...  0.0  0.0\n",
              "\n",
              "[126322 rows x 11 columns]"
            ]
          },
          "metadata": {
            "tags": []
          },
          "execution_count": 89
        }
      ]
    },
    {
      "cell_type": "code",
      "metadata": {
        "id": "yC8Q6eDuM_o4"
      },
      "source": [
        "from sklearn.model_selection import train_test_split\n",
        "from sklearn.metrics import confusion_matrix\n",
        "from sklearn import metrics\n",
        "\n",
        "X = list(df.columns[3:])\n",
        "X_df = df[X]\n",
        "Y_df = df['label']\n",
        "X_train, X_test, Y_train, Y_test = train_test_split(X_df, Y_df, test_size=0.2, random_state=0)"
      ],
      "execution_count": 90,
      "outputs": []
    },
    {
      "cell_type": "code",
      "metadata": {
        "colab": {
          "base_uri": "https://localhost:8080/"
        },
        "id": "FV5d0ArWNN17",
        "outputId": "34223f6b-04cb-4dd2-c528-32bba3e90bbf"
      },
      "source": [
        "from sklearn.linear_model import LogisticRegression\n",
        "\n",
        "LR = LogisticRegression()\n",
        "LR.fit(X_train,Y_train)\n",
        "\n",
        "print('Accuracy of Logistic Regression classifier on training set: {:.2f}'\n",
        "     .format(LR.score(X_train, Y_train)))\n",
        "print('Accuracy of Logistic Regression classifier on test set: {:.2f}'\n",
        "     .format(LR.score(X_test, Y_test)))\n",
        "\n",
        "print()\n",
        "Y_pred = LR.predict(X_test)\n",
        "print(confusion_matrix(Y_test, Y_pred))\n",
        "print()\n",
        "metrics.accuracy_score(Y_test, Y_pred)"
      ],
      "execution_count": 91,
      "outputs": [
        {
          "output_type": "stream",
          "text": [
            "Accuracy of Logistic Regression classifier on training set: 1.00\n",
            "Accuracy of Logistic Regression classifier on test set: 1.00\n",
            "\n",
            "[[25256     0]\n",
            " [    4     5]]\n",
            "\n"
          ],
          "name": "stdout"
        },
        {
          "output_type": "execute_result",
          "data": {
            "text/plain": [
              "0.9998416782109638"
            ]
          },
          "metadata": {
            "tags": []
          },
          "execution_count": 91
        }
      ]
    },
    {
      "cell_type": "code",
      "metadata": {
        "colab": {
          "base_uri": "https://localhost:8080/"
        },
        "id": "XGstidiKNXx6",
        "outputId": "159c6ea0-cbfd-45ff-b63b-90582be6c4ef"
      },
      "source": [
        "from sklearn import svm\n",
        "\n",
        "SVM = svm.LinearSVC()\n",
        "SVM.fit(X_train,Y_train)\n",
        "\n",
        "print('Accuracy of Linear SVM classifier on training set: {:.2f}'.format(SVM.score(X_train, Y_train)))\n",
        "print('Accuracy of Linear SVM classifier on test set: {:.2f}'.format(SVM.score(X_test, Y_test)))\n",
        " \n",
        "print()\n",
        "Y_pred = SVM.predict(X_test)\n",
        "print(confusion_matrix(Y_test, Y_pred))\n",
        "print()\n",
        "metrics.accuracy_score(Y_test, Y_pred)"
      ],
      "execution_count": 93,
      "outputs": [
        {
          "output_type": "stream",
          "text": [
            "Accuracy of Linear SVM classifier on training set: 1.00\n",
            "Accuracy of Linear SVM classifier on test set: 1.00\n",
            "\n",
            "[[25256     0]\n",
            " [    4     5]]\n",
            "\n"
          ],
          "name": "stdout"
        },
        {
          "output_type": "execute_result",
          "data": {
            "text/plain": [
              "0.9998416782109638"
            ]
          },
          "metadata": {
            "tags": []
          },
          "execution_count": 93
        }
      ]
    },
    {
      "cell_type": "code",
      "metadata": {
        "colab": {
          "base_uri": "https://localhost:8080/"
        },
        "id": "Dq7jnj7rNdBs",
        "outputId": "5367e9e7-7581-43f2-9677-413ec1bb938e"
      },
      "source": [
        "from sklearn.ensemble import GradientBoostingClassifier\n",
        "\n",
        "GB = GradientBoostingClassifier(random_state=0)\n",
        "GB.fit(X_train, Y_train)\n",
        "\n",
        "print('Accuracy of Gradient Boosting classifier on training set: {:.2f}'\n",
        "     .format(GB.score(X_train, Y_train)))\n",
        "print('Accuracy of Gradient Boosting classifier on test set: {:.2f}'\n",
        "     .format(GB.score(X_test, Y_test)))\n",
        "\n",
        "print()\n",
        "Y_pred = GB.predict(X_test)\n",
        "print(confusion_matrix(Y_test, Y_pred))\n",
        "print()\n",
        "metrics.accuracy_score(Y_test, Y_pred)"
      ],
      "execution_count": 94,
      "outputs": [
        {
          "output_type": "stream",
          "text": [
            "Accuracy of Gradient Boosting classifier on training set: 1.00\n",
            "Accuracy of Gradient Boosting classifier on test set: 1.00\n",
            "\n",
            "[[25256     0]\n",
            " [    4     5]]\n",
            "\n"
          ],
          "name": "stdout"
        },
        {
          "output_type": "execute_result",
          "data": {
            "text/plain": [
              "0.9998416782109638"
            ]
          },
          "metadata": {
            "tags": []
          },
          "execution_count": 94
        }
      ]
    },
    {
      "cell_type": "code",
      "metadata": {
        "colab": {
          "base_uri": "https://localhost:8080/"
        },
        "id": "2rvqiEh0NwFf",
        "outputId": "ba9a18ed-5099-4e22-cc78-2978baf44c91"
      },
      "source": [
        "from sklearn.tree import DecisionTreeClassifier\n",
        "\n",
        "DT = DecisionTreeClassifier()\n",
        "DT.fit(X_train,Y_train)\n",
        "\n",
        "print('Accuracy of Decision Tree classifier on training set: {:.2f}'\n",
        "     .format(DT.score(X_train, Y_train)))\n",
        "print('Accuracy of Decision Tree classifier on test set: {:.2f}'\n",
        "     .format(DT.score(X_test, Y_test)))\n",
        "\n",
        "print()\n",
        "Y_pred = DT.predict(X_test)\n",
        "print(confusion_matrix(Y_test, Y_pred))\n",
        "print()\n",
        "metrics.accuracy_score(Y_test, Y_pred)"
      ],
      "execution_count": 95,
      "outputs": [
        {
          "output_type": "stream",
          "text": [
            "Accuracy of Decision Tree classifier on training set: 1.00\n",
            "Accuracy of Decision Tree classifier on test set: 1.00\n",
            "\n",
            "[[25256     0]\n",
            " [    4     5]]\n",
            "\n"
          ],
          "name": "stdout"
        },
        {
          "output_type": "execute_result",
          "data": {
            "text/plain": [
              "0.9998416782109638"
            ]
          },
          "metadata": {
            "tags": []
          },
          "execution_count": 95
        }
      ]
    },
    {
      "cell_type": "code",
      "metadata": {
        "colab": {
          "base_uri": "https://localhost:8080/"
        },
        "id": "N17d4AEVNzBd",
        "outputId": "cb55fc30-c7d2-401f-d7a2-4704d609ff6f"
      },
      "source": [
        "from sklearn.neighbors import KNeighborsClassifier\n",
        "\n",
        "KNN = KNeighborsClassifier(n_neighbors = 5)\n",
        "KNN.fit(X_train, Y_train)\n",
        "\n",
        "print('Accuracy of K-NN classifier on training set: {:.2f}'\n",
        "     .format(KNN.score(X_train, Y_train)))\n",
        "print('Accuracy of K-NN classifier on test set: {:.2f}'\n",
        "     .format(KNN.score(X_test, Y_test)))\n",
        "\n",
        "print()\n",
        "Y_pred = KNN.predict(X_test)\n",
        "print(confusion_matrix(Y_test, Y_pred))\n",
        "print()\n",
        "metrics.accuracy_score(Y_test, Y_pred)"
      ],
      "execution_count": 96,
      "outputs": [
        {
          "output_type": "stream",
          "text": [
            "Accuracy of K-NN classifier on training set: 1.00\n",
            "Accuracy of K-NN classifier on test set: 1.00\n",
            "\n",
            "[[25256     0]\n",
            " [    4     5]]\n",
            "\n"
          ],
          "name": "stdout"
        },
        {
          "output_type": "execute_result",
          "data": {
            "text/plain": [
              "0.9998416782109638"
            ]
          },
          "metadata": {
            "tags": []
          },
          "execution_count": 96
        }
      ]
    },
    {
      "cell_type": "code",
      "metadata": {
        "colab": {
          "base_uri": "https://localhost:8080/"
        },
        "id": "IGwCQqiHN2KY",
        "outputId": "e694478a-2a63-42e6-bd0c-49f12ea3ee6b"
      },
      "source": [
        "\n",
        "from sklearn.ensemble import RandomForestClassifier\n",
        "\n",
        "RF = RandomForestClassifier()\n",
        "RF.fit(X_train,Y_train)\n",
        "\n",
        "print('Accuracy of Random Forest classifier on training set: {:.2f}'\n",
        "     .format(RF.score(X_train, Y_train)))\n",
        "print('Accuracy of Random Forest classifier on test set: {:.2f}'\n",
        "     .format(RF.score(X_test, Y_test)))\n",
        "\n",
        "print()\n",
        "Y_pred = RF.predict(X_test)\n",
        "print(confusion_matrix(Y_test, Y_pred))\n",
        "print()\n",
        "metrics.accuracy_score(Y_test, Y_pred)"
      ],
      "execution_count": 97,
      "outputs": [
        {
          "output_type": "stream",
          "text": [
            "Accuracy of Random Forest classifier on training set: 1.00\n",
            "Accuracy of Random Forest classifier on test set: 1.00\n",
            "\n",
            "[[25256     0]\n",
            " [    4     5]]\n",
            "\n"
          ],
          "name": "stdout"
        },
        {
          "output_type": "execute_result",
          "data": {
            "text/plain": [
              "0.9998416782109638"
            ]
          },
          "metadata": {
            "tags": []
          },
          "execution_count": 97
        }
      ]
    },
    {
      "cell_type": "code",
      "metadata": {
        "id": "N8TNdfeGN5Ml"
      },
      "source": [
        "import pickle\n",
        "filename = 'FS.sav'                                           #Edit this\n",
        "pickle.dump(LR, open(filename, 'wb'))                         #Change GB if needed\n",
        "#loaded_model = pickle.load(open(filename, 'rb'))\n",
        "#result = loaded_model.score(X_test, Y_test)\n",
        "#print(result)\n",
        "!cp FS.sav \"drive/My Drive/MODEL\"                             # replace OS.sav with file name"
      ],
      "execution_count": 98,
      "outputs": []
    },
    {
      "cell_type": "code",
      "metadata": {
        "id": "LIsuf1XcTdRI"
      },
      "source": [
        "temp = df[df['type'] == 'FS']"
      ],
      "execution_count": 102,
      "outputs": []
    },
    {
      "cell_type": "code",
      "metadata": {
        "colab": {
          "base_uri": "https://localhost:8080/",
          "height": 35
        },
        "id": "wryt6bjGThR6",
        "outputId": "98e92c3a-f3cc-4860-b874-a77502b2e501"
      },
      "source": [
        "temp['url'][110232]"
      ],
      "execution_count": 106,
      "outputs": [
        {
          "output_type": "execute_result",
          "data": {
            "application/vnd.google.colaboratory.intrinsic+json": {
              "type": "string"
            },
            "text/plain": [
              "'/tienda1/publico/pagar.jsp?precio=%n%n%n%n%n%n%n%n%n%n%n%n%n%n%n%n%n%n%n%n%n%n%n%n%n'"
            ]
          },
          "metadata": {
            "tags": []
          },
          "execution_count": 106
        }
      ]
    },
    {
      "cell_type": "code",
      "metadata": {
        "id": "v9dYRVotTzwL"
      },
      "source": [
        ""
      ],
      "execution_count": null,
      "outputs": []
    }
  ]
}
