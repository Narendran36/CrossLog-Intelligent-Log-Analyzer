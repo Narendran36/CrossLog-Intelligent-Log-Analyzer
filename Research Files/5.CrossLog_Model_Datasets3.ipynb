{
  "nbformat": 4,
  "nbformat_minor": 0,
  "metadata": {
    "colab": {
      "name": "CrossLog_Model_Datasets3.ipynb",
      "provenance": [],
      "authorship_tag": "ABX9TyMccjH62zMsLM8w9Xqr3u4J",
      "include_colab_link": true
    },
    "kernelspec": {
      "name": "python3",
      "display_name": "Python 3"
    }
  },
  "cells": [
    {
      "cell_type": "markdown",
      "metadata": {
        "id": "view-in-github",
        "colab_type": "text"
      },
      "source": [
        "<a href=\"https://colab.research.google.com/github/Narendran36/CrossLog-Intelligent-Log-Analyzer/blob/main/Research%20Files/CrossLog_Model_Datasets3.ipynb\" target=\"_parent\"><img src=\"https://colab.research.google.com/assets/colab-badge.svg\" alt=\"Open In Colab\"/></a>"
      ]
    },
    {
      "cell_type": "code",
      "metadata": {
        "colab": {
          "base_uri": "https://localhost:8080/"
        },
        "id": "7JsmPeuyG295",
        "outputId": "cc815aed-1d52-4f27-f7ae-aa9eaadf06b1"
      },
      "source": [
        "from google.colab import drive \n",
        "drive.mount('/content/drive', force_remount=True)"
      ],
      "execution_count": null,
      "outputs": [
        {
          "output_type": "stream",
          "text": [
            "Mounted at /content/drive\n"
          ],
          "name": "stdout"
        }
      ]
    },
    {
      "cell_type": "code",
      "metadata": {
        "id": "kufYY7uJHKhZ"
      },
      "source": [
        "import pandas as pd"
      ],
      "execution_count": null,
      "outputs": []
    },
    {
      "cell_type": "code",
      "metadata": {
        "id": "wkeLyJ5JHMr1"
      },
      "source": [
        "df = pd.read_csv(\"drive/MyDrive/stage.csv\")"
      ],
      "execution_count": null,
      "outputs": []
    },
    {
      "cell_type": "code",
      "metadata": {
        "id": "ASQ5RoA3HO7g"
      },
      "source": [
        "df = df[['type','url']]"
      ],
      "execution_count": null,
      "outputs": []
    },
    {
      "cell_type": "code",
      "metadata": {
        "id": "Icg6E0zDHRhp"
      },
      "source": [
        "df['label'] = 0"
      ],
      "execution_count": null,
      "outputs": []
    },
    {
      "cell_type": "code",
      "metadata": {
        "colab": {
          "base_uri": "https://localhost:8080/",
          "height": 373
        },
        "id": "TW_xpzrYHVM3",
        "outputId": "fc117f99-62ac-4fb5-82b4-5f018e443583"
      },
      "source": [
        "df.groupby(['type']).count()"
      ],
      "execution_count": null,
      "outputs": [
        {
          "output_type": "execute_result",
          "data": {
            "text/html": [
              "<div>\n",
              "<style scoped>\n",
              "    .dataframe tbody tr th:only-of-type {\n",
              "        vertical-align: middle;\n",
              "    }\n",
              "\n",
              "    .dataframe tbody tr th {\n",
              "        vertical-align: top;\n",
              "    }\n",
              "\n",
              "    .dataframe thead th {\n",
              "        text-align: right;\n",
              "    }\n",
              "</style>\n",
              "<table border=\"1\" class=\"dataframe\">\n",
              "  <thead>\n",
              "    <tr style=\"text-align: right;\">\n",
              "      <th></th>\n",
              "      <th>url</th>\n",
              "      <th>label</th>\n",
              "    </tr>\n",
              "    <tr>\n",
              "      <th>type</th>\n",
              "      <th></th>\n",
              "      <th></th>\n",
              "    </tr>\n",
              "  </thead>\n",
              "  <tbody>\n",
              "    <tr>\n",
              "      <th>CRLFi</th>\n",
              "      <td>327</td>\n",
              "      <td>327</td>\n",
              "    </tr>\n",
              "    <tr>\n",
              "      <th>LDAPi</th>\n",
              "      <td>2353</td>\n",
              "      <td>2353</td>\n",
              "    </tr>\n",
              "    <tr>\n",
              "      <th>OS</th>\n",
              "      <td>3420</td>\n",
              "      <td>3420</td>\n",
              "    </tr>\n",
              "    <tr>\n",
              "      <th>PT</th>\n",
              "      <td>3029</td>\n",
              "      <td>3029</td>\n",
              "    </tr>\n",
              "    <tr>\n",
              "      <th>SQLi</th>\n",
              "      <td>45573</td>\n",
              "      <td>45573</td>\n",
              "    </tr>\n",
              "    <tr>\n",
              "      <th>SSI</th>\n",
              "      <td>2349</td>\n",
              "      <td>2349</td>\n",
              "    </tr>\n",
              "    <tr>\n",
              "      <th>Valid</th>\n",
              "      <td>43369</td>\n",
              "      <td>43369</td>\n",
              "    </tr>\n",
              "    <tr>\n",
              "      <th>XPath</th>\n",
              "      <td>2454</td>\n",
              "      <td>2454</td>\n",
              "    </tr>\n",
              "    <tr>\n",
              "      <th>XSS</th>\n",
              "      <td>6643</td>\n",
              "      <td>6643</td>\n",
              "    </tr>\n",
              "    <tr>\n",
              "      <th>anomalous</th>\n",
              "      <td>16459</td>\n",
              "      <td>16459</td>\n",
              "    </tr>\n",
              "  </tbody>\n",
              "</table>\n",
              "</div>"
            ],
            "text/plain": [
              "             url  label\n",
              "type                   \n",
              "CRLFi        327    327\n",
              "LDAPi       2353   2353\n",
              "OS          3420   3420\n",
              "PT          3029   3029\n",
              "SQLi       45573  45573\n",
              "SSI         2349   2349\n",
              "Valid      43369  43369\n",
              "XPath       2454   2454\n",
              "XSS         6643   6643\n",
              "anomalous  16459  16459"
            ]
          },
          "metadata": {
            "tags": []
          },
          "execution_count": 6
        }
      ]
    },
    {
      "cell_type": "code",
      "metadata": {
        "id": "uzLEaI9wJEIA"
      },
      "source": [
        "df.loc[df['type']=='PT','label'] = 1"
      ],
      "execution_count": null,
      "outputs": []
    },
    {
      "cell_type": "code",
      "metadata": {
        "colab": {
          "base_uri": "https://localhost:8080/",
          "height": 402
        },
        "id": "AiSwQAxJJKDv",
        "outputId": "2fc749b3-acd7-4d03-effe-8af9fe2d22b3"
      },
      "source": [
        "df[df['type']=='PT']"
      ],
      "execution_count": null,
      "outputs": [
        {
          "output_type": "execute_result",
          "data": {
            "text/html": [
              "<div>\n",
              "<style scoped>\n",
              "    .dataframe tbody tr th:only-of-type {\n",
              "        vertical-align: middle;\n",
              "    }\n",
              "\n",
              "    .dataframe tbody tr th {\n",
              "        vertical-align: top;\n",
              "    }\n",
              "\n",
              "    .dataframe thead th {\n",
              "        text-align: right;\n",
              "    }\n",
              "</style>\n",
              "<table border=\"1\" class=\"dataframe\">\n",
              "  <thead>\n",
              "    <tr style=\"text-align: right;\">\n",
              "      <th></th>\n",
              "      <th>type</th>\n",
              "      <th>url</th>\n",
              "      <th>label</th>\n",
              "    </tr>\n",
              "  </thead>\n",
              "  <tbody>\n",
              "    <tr>\n",
              "      <th>35972</th>\n",
              "      <td>PT</td>\n",
              "      <td>/jFlGYRSYPARBHoPbHj/4AT/b8e4ttsysw/EaweeIs/vxV...</td>\n",
              "      <td>1</td>\n",
              "    </tr>\n",
              "    <tr>\n",
              "      <th>35974</th>\n",
              "      <td>PT</td>\n",
              "      <td>/a75u/dotrgo84t/sUks6Ejsg/r.oFlP3cu6.tiff?omrr...</td>\n",
              "      <td>1</td>\n",
              "    </tr>\n",
              "    <tr>\n",
              "      <th>35976</th>\n",
              "      <td>PT</td>\n",
              "      <td>/gxtermDGurrJhYdocumentYS/x0w/sbe/chavingx3Jps...</td>\n",
              "      <td>1</td>\n",
              "    </tr>\n",
              "    <tr>\n",
              "      <th>35978</th>\n",
              "      <td>PT</td>\n",
              "      <td>/tsyOstv3eehajoquB3u/L@r/ss2oqdstI/ezeiddTeEhs...</td>\n",
              "      <td>1</td>\n",
              "    </tr>\n",
              "    <tr>\n",
              "      <th>35980</th>\n",
              "      <td>PT</td>\n",
              "      <td>/tDt/kreIQ1nTBDBCtNNI/rzd/emwar8sshtktis9/sDNm...</td>\n",
              "      <td>1</td>\n",
              "    </tr>\n",
              "    <tr>\n",
              "      <th>...</th>\n",
              "      <td>...</td>\n",
              "      <td>...</td>\n",
              "      <td>...</td>\n",
              "    </tr>\n",
              "    <tr>\n",
              "      <th>48642</th>\n",
              "      <td>PT</td>\n",
              "      <td>/lpn60gmeOE6/Q8_a4-gandnU3/ioam5nSrebreOf6o/bn...</td>\n",
              "      <td>1</td>\n",
              "    </tr>\n",
              "    <tr>\n",
              "      <th>48643</th>\n",
              "      <td>PT</td>\n",
              "      <td>/r4divI98Is0R-BT4/iupkiPiInI.BG7zZ@s/fRURZTsTM...</td>\n",
              "      <td>1</td>\n",
              "    </tr>\n",
              "    <tr>\n",
              "      <th>48644</th>\n",
              "      <td>PT</td>\n",
              "      <td>/ERAMw2z/X_mgZkTSC6Jv./t1re9niTfyfn5Rsh5hao.pl...</td>\n",
              "      <td>1</td>\n",
              "    </tr>\n",
              "    <tr>\n",
              "      <th>48645</th>\n",
              "      <td>PT</td>\n",
              "      <td>/aiw/3sjaycvd/lfMKMYphZZzJ54vV/tn4eZHFYd1MVXs/...</td>\n",
              "      <td>1</td>\n",
              "    </tr>\n",
              "    <tr>\n",
              "      <th>48646</th>\n",
              "      <td>PT</td>\n",
              "      <td>/UeAYeakestdinW0/ewRuDYrb.gif?shtaccesn1eholib...</td>\n",
              "      <td>1</td>\n",
              "    </tr>\n",
              "  </tbody>\n",
              "</table>\n",
              "<p>3029 rows × 3 columns</p>\n",
              "</div>"
            ],
            "text/plain": [
              "      type                                                url  label\n",
              "35972   PT  /jFlGYRSYPARBHoPbHj/4AT/b8e4ttsysw/EaweeIs/vxV...      1\n",
              "35974   PT  /a75u/dotrgo84t/sUks6Ejsg/r.oFlP3cu6.tiff?omrr...      1\n",
              "35976   PT  /gxtermDGurrJhYdocumentYS/x0w/sbe/chavingx3Jps...      1\n",
              "35978   PT  /tsyOstv3eehajoquB3u/L@r/ss2oqdstI/ezeiddTeEhs...      1\n",
              "35980   PT  /tDt/kreIQ1nTBDBCtNNI/rzd/emwar8sshtktis9/sDNm...      1\n",
              "...    ...                                                ...    ...\n",
              "48642   PT  /lpn60gmeOE6/Q8_a4-gandnU3/ioam5nSrebreOf6o/bn...      1\n",
              "48643   PT  /r4divI98Is0R-BT4/iupkiPiInI.BG7zZ@s/fRURZTsTM...      1\n",
              "48644   PT  /ERAMw2z/X_mgZkTSC6Jv./t1re9niTfyfn5Rsh5hao.pl...      1\n",
              "48645   PT  /aiw/3sjaycvd/lfMKMYphZZzJ54vV/tn4eZHFYd1MVXs/...      1\n",
              "48646   PT  /UeAYeakestdinW0/ewRuDYrb.gif?shtaccesn1eholib...      1\n",
              "\n",
              "[3029 rows x 3 columns]"
            ]
          },
          "metadata": {
            "tags": []
          },
          "execution_count": 8
        }
      ]
    },
    {
      "cell_type": "code",
      "metadata": {
        "id": "Kl0NGtZcJN0f"
      },
      "source": [
        "from urllib.parse import unquote"
      ],
      "execution_count": null,
      "outputs": []
    },
    {
      "cell_type": "code",
      "metadata": {
        "id": "tqRnxRB-JR34"
      },
      "source": [
        "df = df.fillna('NULL')"
      ],
      "execution_count": null,
      "outputs": []
    },
    {
      "cell_type": "code",
      "metadata": {
        "id": "CsQnxNrCJW1v"
      },
      "source": [
        "def url_parse(query):\n",
        "    query = unquote(query)\n",
        "    return query"
      ],
      "execution_count": null,
      "outputs": []
    },
    {
      "cell_type": "code",
      "metadata": {
        "id": "-NPv4G2GJhaC"
      },
      "source": [
        "def newremove(statement):\n",
        "  return statement.replace('\\n','')"
      ],
      "execution_count": null,
      "outputs": []
    },
    {
      "cell_type": "code",
      "metadata": {
        "id": "tGrKn80LJpfV"
      },
      "source": [
        "df['url'] = df['url'].apply(url_parse)\n",
        "df['url'] = df['url'].apply(url_parse)\n",
        "df['url'] = df['url'].apply(url_parse)\n",
        "df['url'] = df['url'].apply(url_parse)\n",
        "df['url'] = df['url'].apply(newremove)"
      ],
      "execution_count": null,
      "outputs": []
    },
    {
      "cell_type": "code",
      "metadata": {
        "id": "YwXHlRtWJtYP"
      },
      "source": [
        "df['url'] = df['url'].str.lower()"
      ],
      "execution_count": null,
      "outputs": []
    },
    {
      "cell_type": "code",
      "metadata": {
        "id": "FqPyPxAYJwJO"
      },
      "source": [
        "mylist = list()"
      ],
      "execution_count": null,
      "outputs": []
    },
    {
      "cell_type": "code",
      "metadata": {
        "colab": {
          "base_uri": "https://localhost:8080/"
        },
        "id": "hg0wUnx-Jzi-",
        "outputId": "1f8aa8a9-ad1d-46f3-b9be-5d697860e1c0"
      },
      "source": [
        "ch = input()\n",
        "while(ch != '@@@@@'):\n",
        "    mylist.append(ch)\n",
        "    ch = input()"
      ],
      "execution_count": null,
      "outputs": [
        {
          "output_type": "stream",
          "text": [
            "../\n",
            "..\\\\\n",
            "etc\n",
            "passwd\n",
            "\\\\.\n",
            "\\\\/\n",
            "./\n",
            "/\n",
            ":\n",
            "//\n",
            ":/\n",
            "system\n",
            "ini\n",
            "..\n",
            "exec\n",
            ":\\\\\n",
            "%00\n",
            ".bat\n",
            "file\n",
            "windows\n",
            "boot\n",
            "winnt\n",
            ".conf\n",
            "access\n",
            "log\n",
            ",,\n",
            "@@@@@\n"
          ],
          "name": "stdout"
        }
      ]
    },
    {
      "cell_type": "code",
      "metadata": {
        "colab": {
          "base_uri": "https://localhost:8080/"
        },
        "id": "w6y2Ad4hRrNe",
        "outputId": "067a104d-5a88-42a5-bb29-8efcd7d55a40"
      },
      "source": [
        "mylist"
      ],
      "execution_count": null,
      "outputs": [
        {
          "output_type": "execute_result",
          "data": {
            "text/plain": [
              "['../',\n",
              " '..\\\\\\\\',\n",
              " 'etc',\n",
              " 'passwd',\n",
              " '\\\\\\\\.',\n",
              " '\\\\\\\\/',\n",
              " './',\n",
              " '/',\n",
              " ':',\n",
              " '//',\n",
              " ':/',\n",
              " 'system',\n",
              " 'ini',\n",
              " '..',\n",
              " 'exec',\n",
              " ':\\\\\\\\',\n",
              " '%00',\n",
              " '.bat',\n",
              " 'file',\n",
              " 'windows',\n",
              " 'boot',\n",
              " 'winnt',\n",
              " '.conf',\n",
              " 'access',\n",
              " 'log',\n",
              " ',,']"
            ]
          },
          "metadata": {
            "tags": []
          },
          "execution_count": 17
        }
      ]
    },
    {
      "cell_type": "code",
      "metadata": {
        "id": "vDQZbjfWRz2i"
      },
      "source": [
        "L = set(mylist)"
      ],
      "execution_count": null,
      "outputs": []
    },
    {
      "cell_type": "code",
      "metadata": {
        "colab": {
          "base_uri": "https://localhost:8080/"
        },
        "id": "xLplt4SSR3K7",
        "outputId": "c74d6642-0839-4d6f-fb8f-50c4c6167724"
      },
      "source": [
        "len(L)"
      ],
      "execution_count": null,
      "outputs": [
        {
          "output_type": "execute_result",
          "data": {
            "text/plain": [
              "26"
            ]
          },
          "metadata": {
            "tags": []
          },
          "execution_count": 19
        }
      ]
    },
    {
      "cell_type": "code",
      "metadata": {
        "id": "jBM7SUmXR6Kr"
      },
      "source": [
        "for l in L:\n",
        "  df[l] = 0"
      ],
      "execution_count": null,
      "outputs": []
    },
    {
      "cell_type": "code",
      "metadata": {
        "id": "UmZBXo3OR9rS"
      },
      "source": [
        "def generate(statement,col):\n",
        "    if col in str(statement):\n",
        "        return 1\n",
        "    else:\n",
        "        return 0"
      ],
      "execution_count": null,
      "outputs": []
    },
    {
      "cell_type": "code",
      "metadata": {
        "id": "ks7YspEpSFtC"
      },
      "source": [
        "for col in L:\n",
        "  df[col] = df['url'].apply(generate, col=col)"
      ],
      "execution_count": null,
      "outputs": []
    },
    {
      "cell_type": "code",
      "metadata": {
        "colab": {
          "base_uri": "https://localhost:8080/",
          "height": 422
        },
        "id": "1ZVOoLhrSJlq",
        "outputId": "3a247503-742d-440a-a107-96a6850c89f6"
      },
      "source": [
        "df"
      ],
      "execution_count": null,
      "outputs": [
        {
          "output_type": "execute_result",
          "data": {
            "text/html": [
              "<div>\n",
              "<style scoped>\n",
              "    .dataframe tbody tr th:only-of-type {\n",
              "        vertical-align: middle;\n",
              "    }\n",
              "\n",
              "    .dataframe tbody tr th {\n",
              "        vertical-align: top;\n",
              "    }\n",
              "\n",
              "    .dataframe thead th {\n",
              "        text-align: right;\n",
              "    }\n",
              "</style>\n",
              "<table border=\"1\" class=\"dataframe\">\n",
              "  <thead>\n",
              "    <tr style=\"text-align: right;\">\n",
              "      <th></th>\n",
              "      <th>type</th>\n",
              "      <th>url</th>\n",
              "      <th>label</th>\n",
              "      <th>:</th>\n",
              "      <th>.bat</th>\n",
              "      <th>.conf</th>\n",
              "      <th>//</th>\n",
              "      <th>system</th>\n",
              "      <th>exec</th>\n",
              "      <th>winnt</th>\n",
              "      <th>\\\\.</th>\n",
              "      <th>../</th>\n",
              "      <th>ini</th>\n",
              "      <th>\\\\/</th>\n",
              "      <th>:/</th>\n",
              "      <th>windows</th>\n",
              "      <th>%00</th>\n",
              "      <th>/</th>\n",
              "      <th>..\\\\</th>\n",
              "      <th>passwd</th>\n",
              "      <th>log</th>\n",
              "      <th>:\\\\</th>\n",
              "      <th>./</th>\n",
              "      <th>boot</th>\n",
              "      <th>etc</th>\n",
              "      <th>..</th>\n",
              "      <th>file</th>\n",
              "      <th>access</th>\n",
              "      <th>,,</th>\n",
              "    </tr>\n",
              "  </thead>\n",
              "  <tbody>\n",
              "    <tr>\n",
              "      <th>0</th>\n",
              "      <td>Valid</td>\n",
              "      <td>/l_t@/_feu1wvhtpass2/1nieqnnrvnzktuasain/tg1ar...</td>\n",
              "      <td>0</td>\n",
              "      <td>0</td>\n",
              "      <td>0</td>\n",
              "      <td>0</td>\n",
              "      <td>0</td>\n",
              "      <td>0</td>\n",
              "      <td>0</td>\n",
              "      <td>0</td>\n",
              "      <td>0</td>\n",
              "      <td>0</td>\n",
              "      <td>0</td>\n",
              "      <td>0</td>\n",
              "      <td>0</td>\n",
              "      <td>0</td>\n",
              "      <td>0</td>\n",
              "      <td>1</td>\n",
              "      <td>0</td>\n",
              "      <td>0</td>\n",
              "      <td>0</td>\n",
              "      <td>0</td>\n",
              "      <td>0</td>\n",
              "      <td>0</td>\n",
              "      <td>0</td>\n",
              "      <td>0</td>\n",
              "      <td>0</td>\n",
              "      <td>0</td>\n",
              "      <td>0</td>\n",
              "    </tr>\n",
              "    <tr>\n",
              "      <th>1</th>\n",
              "      <td>Valid</td>\n",
              "      <td>/inssgtz7ieltdsstbw7e/neqhmsdwu7imdb0etet/et/h...</td>\n",
              "      <td>0</td>\n",
              "      <td>0</td>\n",
              "      <td>0</td>\n",
              "      <td>0</td>\n",
              "      <td>0</td>\n",
              "      <td>0</td>\n",
              "      <td>0</td>\n",
              "      <td>0</td>\n",
              "      <td>0</td>\n",
              "      <td>0</td>\n",
              "      <td>0</td>\n",
              "      <td>0</td>\n",
              "      <td>0</td>\n",
              "      <td>0</td>\n",
              "      <td>0</td>\n",
              "      <td>1</td>\n",
              "      <td>0</td>\n",
              "      <td>0</td>\n",
              "      <td>0</td>\n",
              "      <td>0</td>\n",
              "      <td>0</td>\n",
              "      <td>0</td>\n",
              "      <td>0</td>\n",
              "      <td>0</td>\n",
              "      <td>0</td>\n",
              "      <td>0</td>\n",
              "      <td>0</td>\n",
              "    </tr>\n",
              "    <tr>\n",
              "      <th>2</th>\n",
              "      <td>Valid</td>\n",
              "      <td>/fonrnt/7n.d-4brssxb@tu/qghew.cfm</td>\n",
              "      <td>0</td>\n",
              "      <td>0</td>\n",
              "      <td>0</td>\n",
              "      <td>0</td>\n",
              "      <td>0</td>\n",
              "      <td>0</td>\n",
              "      <td>0</td>\n",
              "      <td>0</td>\n",
              "      <td>0</td>\n",
              "      <td>0</td>\n",
              "      <td>0</td>\n",
              "      <td>0</td>\n",
              "      <td>0</td>\n",
              "      <td>0</td>\n",
              "      <td>0</td>\n",
              "      <td>1</td>\n",
              "      <td>0</td>\n",
              "      <td>0</td>\n",
              "      <td>0</td>\n",
              "      <td>0</td>\n",
              "      <td>0</td>\n",
              "      <td>0</td>\n",
              "      <td>0</td>\n",
              "      <td>0</td>\n",
              "      <td>0</td>\n",
              "      <td>0</td>\n",
              "      <td>0</td>\n",
              "    </tr>\n",
              "    <tr>\n",
              "      <th>3</th>\n",
              "      <td>Valid</td>\n",
              "      <td>/dyylkl.xd9cpu/4ot0ta/ts6xnrp1/hssh/a2cuerht/s...</td>\n",
              "      <td>0</td>\n",
              "      <td>0</td>\n",
              "      <td>0</td>\n",
              "      <td>0</td>\n",
              "      <td>0</td>\n",
              "      <td>0</td>\n",
              "      <td>0</td>\n",
              "      <td>0</td>\n",
              "      <td>0</td>\n",
              "      <td>0</td>\n",
              "      <td>0</td>\n",
              "      <td>0</td>\n",
              "      <td>0</td>\n",
              "      <td>0</td>\n",
              "      <td>0</td>\n",
              "      <td>1</td>\n",
              "      <td>0</td>\n",
              "      <td>0</td>\n",
              "      <td>0</td>\n",
              "      <td>0</td>\n",
              "      <td>0</td>\n",
              "      <td>0</td>\n",
              "      <td>0</td>\n",
              "      <td>0</td>\n",
              "      <td>0</td>\n",
              "      <td>0</td>\n",
              "      <td>0</td>\n",
              "    </tr>\n",
              "    <tr>\n",
              "      <th>4</th>\n",
              "      <td>Valid</td>\n",
              "      <td>/2m6vlb1r37jspc/cwvv/mbar/oqrd0/msc/etceebwgi/...</td>\n",
              "      <td>0</td>\n",
              "      <td>0</td>\n",
              "      <td>0</td>\n",
              "      <td>0</td>\n",
              "      <td>0</td>\n",
              "      <td>0</td>\n",
              "      <td>1</td>\n",
              "      <td>0</td>\n",
              "      <td>0</td>\n",
              "      <td>0</td>\n",
              "      <td>0</td>\n",
              "      <td>0</td>\n",
              "      <td>0</td>\n",
              "      <td>0</td>\n",
              "      <td>0</td>\n",
              "      <td>1</td>\n",
              "      <td>0</td>\n",
              "      <td>0</td>\n",
              "      <td>0</td>\n",
              "      <td>0</td>\n",
              "      <td>0</td>\n",
              "      <td>0</td>\n",
              "      <td>1</td>\n",
              "      <td>0</td>\n",
              "      <td>0</td>\n",
              "      <td>0</td>\n",
              "      <td>0</td>\n",
              "    </tr>\n",
              "    <tr>\n",
              "      <th>...</th>\n",
              "      <td>...</td>\n",
              "      <td>...</td>\n",
              "      <td>...</td>\n",
              "      <td>...</td>\n",
              "      <td>...</td>\n",
              "      <td>...</td>\n",
              "      <td>...</td>\n",
              "      <td>...</td>\n",
              "      <td>...</td>\n",
              "      <td>...</td>\n",
              "      <td>...</td>\n",
              "      <td>...</td>\n",
              "      <td>...</td>\n",
              "      <td>...</td>\n",
              "      <td>...</td>\n",
              "      <td>...</td>\n",
              "      <td>...</td>\n",
              "      <td>...</td>\n",
              "      <td>...</td>\n",
              "      <td>...</td>\n",
              "      <td>...</td>\n",
              "      <td>...</td>\n",
              "      <td>...</td>\n",
              "      <td>...</td>\n",
              "      <td>...</td>\n",
              "      <td>...</td>\n",
              "      <td>...</td>\n",
              "      <td>...</td>\n",
              "      <td>...</td>\n",
              "    </tr>\n",
              "    <tr>\n",
              "      <th>125971</th>\n",
              "      <td>Valid</td>\n",
              "      <td>/tienda1/publico/registro.jsp?modo=registro&amp;lo...</td>\n",
              "      <td>0</td>\n",
              "      <td>0</td>\n",
              "      <td>0</td>\n",
              "      <td>0</td>\n",
              "      <td>0</td>\n",
              "      <td>0</td>\n",
              "      <td>0</td>\n",
              "      <td>0</td>\n",
              "      <td>0</td>\n",
              "      <td>0</td>\n",
              "      <td>0</td>\n",
              "      <td>0</td>\n",
              "      <td>0</td>\n",
              "      <td>0</td>\n",
              "      <td>0</td>\n",
              "      <td>1</td>\n",
              "      <td>0</td>\n",
              "      <td>0</td>\n",
              "      <td>1</td>\n",
              "      <td>0</td>\n",
              "      <td>0</td>\n",
              "      <td>0</td>\n",
              "      <td>0</td>\n",
              "      <td>0</td>\n",
              "      <td>0</td>\n",
              "      <td>0</td>\n",
              "      <td>0</td>\n",
              "    </tr>\n",
              "    <tr>\n",
              "      <th>125972</th>\n",
              "      <td>Valid</td>\n",
              "      <td>/tienda1/publico/registro.jsp?modo=registro&amp;lo...</td>\n",
              "      <td>0</td>\n",
              "      <td>0</td>\n",
              "      <td>0</td>\n",
              "      <td>0</td>\n",
              "      <td>0</td>\n",
              "      <td>0</td>\n",
              "      <td>0</td>\n",
              "      <td>0</td>\n",
              "      <td>0</td>\n",
              "      <td>0</td>\n",
              "      <td>0</td>\n",
              "      <td>0</td>\n",
              "      <td>0</td>\n",
              "      <td>0</td>\n",
              "      <td>0</td>\n",
              "      <td>1</td>\n",
              "      <td>0</td>\n",
              "      <td>0</td>\n",
              "      <td>1</td>\n",
              "      <td>0</td>\n",
              "      <td>0</td>\n",
              "      <td>0</td>\n",
              "      <td>0</td>\n",
              "      <td>0</td>\n",
              "      <td>0</td>\n",
              "      <td>0</td>\n",
              "      <td>0</td>\n",
              "    </tr>\n",
              "    <tr>\n",
              "      <th>125973</th>\n",
              "      <td>Valid</td>\n",
              "      <td>/tienda1/publico/registro.jsp?modo=registro&amp;lo...</td>\n",
              "      <td>0</td>\n",
              "      <td>0</td>\n",
              "      <td>0</td>\n",
              "      <td>0</td>\n",
              "      <td>0</td>\n",
              "      <td>0</td>\n",
              "      <td>0</td>\n",
              "      <td>0</td>\n",
              "      <td>0</td>\n",
              "      <td>0</td>\n",
              "      <td>0</td>\n",
              "      <td>0</td>\n",
              "      <td>0</td>\n",
              "      <td>0</td>\n",
              "      <td>0</td>\n",
              "      <td>1</td>\n",
              "      <td>0</td>\n",
              "      <td>0</td>\n",
              "      <td>1</td>\n",
              "      <td>0</td>\n",
              "      <td>0</td>\n",
              "      <td>0</td>\n",
              "      <td>0</td>\n",
              "      <td>0</td>\n",
              "      <td>0</td>\n",
              "      <td>0</td>\n",
              "      <td>0</td>\n",
              "    </tr>\n",
              "    <tr>\n",
              "      <th>125974</th>\n",
              "      <td>Valid</td>\n",
              "      <td>/tienda1/publico/registro.jsp?modo=registro&amp;lo...</td>\n",
              "      <td>0</td>\n",
              "      <td>0</td>\n",
              "      <td>0</td>\n",
              "      <td>0</td>\n",
              "      <td>0</td>\n",
              "      <td>0</td>\n",
              "      <td>0</td>\n",
              "      <td>0</td>\n",
              "      <td>0</td>\n",
              "      <td>0</td>\n",
              "      <td>0</td>\n",
              "      <td>0</td>\n",
              "      <td>0</td>\n",
              "      <td>0</td>\n",
              "      <td>0</td>\n",
              "      <td>1</td>\n",
              "      <td>0</td>\n",
              "      <td>0</td>\n",
              "      <td>1</td>\n",
              "      <td>0</td>\n",
              "      <td>0</td>\n",
              "      <td>0</td>\n",
              "      <td>0</td>\n",
              "      <td>0</td>\n",
              "      <td>0</td>\n",
              "      <td>0</td>\n",
              "      <td>0</td>\n",
              "    </tr>\n",
              "    <tr>\n",
              "      <th>125975</th>\n",
              "      <td>Valid</td>\n",
              "      <td>/tienda1/publico/registro.jsp?modo=registro&amp;lo...</td>\n",
              "      <td>0</td>\n",
              "      <td>0</td>\n",
              "      <td>0</td>\n",
              "      <td>0</td>\n",
              "      <td>0</td>\n",
              "      <td>0</td>\n",
              "      <td>0</td>\n",
              "      <td>0</td>\n",
              "      <td>0</td>\n",
              "      <td>0</td>\n",
              "      <td>0</td>\n",
              "      <td>0</td>\n",
              "      <td>0</td>\n",
              "      <td>0</td>\n",
              "      <td>0</td>\n",
              "      <td>1</td>\n",
              "      <td>0</td>\n",
              "      <td>0</td>\n",
              "      <td>1</td>\n",
              "      <td>0</td>\n",
              "      <td>0</td>\n",
              "      <td>0</td>\n",
              "      <td>0</td>\n",
              "      <td>0</td>\n",
              "      <td>0</td>\n",
              "      <td>0</td>\n",
              "      <td>0</td>\n",
              "    </tr>\n",
              "  </tbody>\n",
              "</table>\n",
              "<p>125976 rows × 29 columns</p>\n",
              "</div>"
            ],
            "text/plain": [
              "         type                                                url  ...  access  ,,\n",
              "0       Valid  /l_t@/_feu1wvhtpass2/1nieqnnrvnzktuasain/tg1ar...  ...       0   0\n",
              "1       Valid  /inssgtz7ieltdsstbw7e/neqhmsdwu7imdb0etet/et/h...  ...       0   0\n",
              "2       Valid                  /fonrnt/7n.d-4brssxb@tu/qghew.cfm  ...       0   0\n",
              "3       Valid  /dyylkl.xd9cpu/4ot0ta/ts6xnrp1/hssh/a2cuerht/s...  ...       0   0\n",
              "4       Valid  /2m6vlb1r37jspc/cwvv/mbar/oqrd0/msc/etceebwgi/...  ...       0   0\n",
              "...       ...                                                ...  ...     ...  ..\n",
              "125971  Valid  /tienda1/publico/registro.jsp?modo=registro&lo...  ...       0   0\n",
              "125972  Valid  /tienda1/publico/registro.jsp?modo=registro&lo...  ...       0   0\n",
              "125973  Valid  /tienda1/publico/registro.jsp?modo=registro&lo...  ...       0   0\n",
              "125974  Valid  /tienda1/publico/registro.jsp?modo=registro&lo...  ...       0   0\n",
              "125975  Valid  /tienda1/publico/registro.jsp?modo=registro&lo...  ...       0   0\n",
              "\n",
              "[125976 rows x 29 columns]"
            ]
          },
          "metadata": {
            "tags": []
          },
          "execution_count": 23
        }
      ]
    },
    {
      "cell_type": "code",
      "metadata": {
        "id": "o-FAXLAaS06y"
      },
      "source": [
        "df.to_csv('final_PT.csv')\n",
        "!cp final_PT.csv \"drive/My Drive/\""
      ],
      "execution_count": null,
      "outputs": []
    },
    {
      "cell_type": "code",
      "metadata": {
        "id": "qfXSsxGCS4xy"
      },
      "source": [
        "mylist = list()"
      ],
      "execution_count": null,
      "outputs": []
    },
    {
      "cell_type": "code",
      "metadata": {
        "id": "xSqF5jNgS77w"
      },
      "source": [
        "df = pd.read_csv(\"drive/MyDrive/stage.csv\")"
      ],
      "execution_count": null,
      "outputs": []
    },
    {
      "cell_type": "code",
      "metadata": {
        "colab": {
          "base_uri": "https://localhost:8080/",
          "height": 402
        },
        "id": "i1fNbhXdS-Ur",
        "outputId": "30d7ccf1-eb16-4c0a-ad9a-03dfe95a49b2"
      },
      "source": [
        "df"
      ],
      "execution_count": null,
      "outputs": [
        {
          "output_type": "execute_result",
          "data": {
            "text/html": [
              "<div>\n",
              "<style scoped>\n",
              "    .dataframe tbody tr th:only-of-type {\n",
              "        vertical-align: middle;\n",
              "    }\n",
              "\n",
              "    .dataframe tbody tr th {\n",
              "        vertical-align: top;\n",
              "    }\n",
              "\n",
              "    .dataframe thead th {\n",
              "        text-align: right;\n",
              "    }\n",
              "</style>\n",
              "<table border=\"1\" class=\"dataframe\">\n",
              "  <thead>\n",
              "    <tr style=\"text-align: right;\">\n",
              "      <th></th>\n",
              "      <th>Unnamed: 0</th>\n",
              "      <th>type</th>\n",
              "      <th>url</th>\n",
              "    </tr>\n",
              "  </thead>\n",
              "  <tbody>\n",
              "    <tr>\n",
              "      <th>0</th>\n",
              "      <td>0</td>\n",
              "      <td>Valid</td>\n",
              "      <td>/l_t@/_Feu1wvhtpass2/1nieQnnrvnzktuasain/tg1AR...</td>\n",
              "    </tr>\n",
              "    <tr>\n",
              "      <th>1</th>\n",
              "      <td>1</td>\n",
              "      <td>Valid</td>\n",
              "      <td>/inssgtz7ieltdSstbw7e/neQhmsdwu7imdb0etet/eT/h...</td>\n",
              "    </tr>\n",
              "    <tr>\n",
              "      <th>2</th>\n",
              "      <td>2</td>\n",
              "      <td>Valid</td>\n",
              "      <td>/fonRnt/7N.D-4BRSsXb@TU/qgheW.cfm</td>\n",
              "    </tr>\n",
              "    <tr>\n",
              "      <th>3</th>\n",
              "      <td>3</td>\n",
              "      <td>Valid</td>\n",
              "      <td>/dyylkL.XD9cPu/4Ot0ta/ts6xNrP1/hssh/a2cuerht/s...</td>\n",
              "    </tr>\n",
              "    <tr>\n",
              "      <th>4</th>\n",
              "      <td>4</td>\n",
              "      <td>Valid</td>\n",
              "      <td>/2m6VLb1r37jSPC/cWVv/Mbar/oqrd0/msc/etceebwgi/...</td>\n",
              "    </tr>\n",
              "    <tr>\n",
              "      <th>...</th>\n",
              "      <td>...</td>\n",
              "      <td>...</td>\n",
              "      <td>...</td>\n",
              "    </tr>\n",
              "    <tr>\n",
              "      <th>125971</th>\n",
              "      <td>125971</td>\n",
              "      <td>Valid</td>\n",
              "      <td>/tienda1/publico/registro.jsp?modo=registro&amp;lo...</td>\n",
              "    </tr>\n",
              "    <tr>\n",
              "      <th>125972</th>\n",
              "      <td>125972</td>\n",
              "      <td>Valid</td>\n",
              "      <td>/tienda1/publico/registro.jsp?modo=registro&amp;lo...</td>\n",
              "    </tr>\n",
              "    <tr>\n",
              "      <th>125973</th>\n",
              "      <td>125973</td>\n",
              "      <td>Valid</td>\n",
              "      <td>/tienda1/publico/registro.jsp?modo=registro&amp;lo...</td>\n",
              "    </tr>\n",
              "    <tr>\n",
              "      <th>125974</th>\n",
              "      <td>125974</td>\n",
              "      <td>Valid</td>\n",
              "      <td>/tienda1/publico/registro.jsp?modo=registro&amp;lo...</td>\n",
              "    </tr>\n",
              "    <tr>\n",
              "      <th>125975</th>\n",
              "      <td>125975</td>\n",
              "      <td>Valid</td>\n",
              "      <td>/tienda1/publico/registro.jsp?modo=registro&amp;lo...</td>\n",
              "    </tr>\n",
              "  </tbody>\n",
              "</table>\n",
              "<p>125976 rows × 3 columns</p>\n",
              "</div>"
            ],
            "text/plain": [
              "        Unnamed: 0   type                                                url\n",
              "0                0  Valid  /l_t@/_Feu1wvhtpass2/1nieQnnrvnzktuasain/tg1AR...\n",
              "1                1  Valid  /inssgtz7ieltdSstbw7e/neQhmsdwu7imdb0etet/eT/h...\n",
              "2                2  Valid                  /fonRnt/7N.D-4BRSsXb@TU/qgheW.cfm\n",
              "3                3  Valid  /dyylkL.XD9cPu/4Ot0ta/ts6xNrP1/hssh/a2cuerht/s...\n",
              "4                4  Valid  /2m6VLb1r37jSPC/cWVv/Mbar/oqrd0/msc/etceebwgi/...\n",
              "...            ...    ...                                                ...\n",
              "125971      125971  Valid  /tienda1/publico/registro.jsp?modo=registro&lo...\n",
              "125972      125972  Valid  /tienda1/publico/registro.jsp?modo=registro&lo...\n",
              "125973      125973  Valid  /tienda1/publico/registro.jsp?modo=registro&lo...\n",
              "125974      125974  Valid  /tienda1/publico/registro.jsp?modo=registro&lo...\n",
              "125975      125975  Valid  /tienda1/publico/registro.jsp?modo=registro&lo...\n",
              "\n",
              "[125976 rows x 3 columns]"
            ]
          },
          "metadata": {
            "tags": []
          },
          "execution_count": 27
        }
      ]
    },
    {
      "cell_type": "code",
      "metadata": {
        "id": "ZAQfEwYoTFwJ"
      },
      "source": [
        "df = df[['type','url']]"
      ],
      "execution_count": null,
      "outputs": []
    },
    {
      "cell_type": "code",
      "metadata": {
        "colab": {
          "base_uri": "https://localhost:8080/",
          "height": 402
        },
        "id": "G8H3r2BeTIzh",
        "outputId": "ae87d177-cd9d-467f-d361-58ffdac17246"
      },
      "source": [
        "df"
      ],
      "execution_count": null,
      "outputs": [
        {
          "output_type": "execute_result",
          "data": {
            "text/html": [
              "<div>\n",
              "<style scoped>\n",
              "    .dataframe tbody tr th:only-of-type {\n",
              "        vertical-align: middle;\n",
              "    }\n",
              "\n",
              "    .dataframe tbody tr th {\n",
              "        vertical-align: top;\n",
              "    }\n",
              "\n",
              "    .dataframe thead th {\n",
              "        text-align: right;\n",
              "    }\n",
              "</style>\n",
              "<table border=\"1\" class=\"dataframe\">\n",
              "  <thead>\n",
              "    <tr style=\"text-align: right;\">\n",
              "      <th></th>\n",
              "      <th>type</th>\n",
              "      <th>url</th>\n",
              "    </tr>\n",
              "  </thead>\n",
              "  <tbody>\n",
              "    <tr>\n",
              "      <th>0</th>\n",
              "      <td>Valid</td>\n",
              "      <td>/l_t@/_Feu1wvhtpass2/1nieQnnrvnzktuasain/tg1AR...</td>\n",
              "    </tr>\n",
              "    <tr>\n",
              "      <th>1</th>\n",
              "      <td>Valid</td>\n",
              "      <td>/inssgtz7ieltdSstbw7e/neQhmsdwu7imdb0etet/eT/h...</td>\n",
              "    </tr>\n",
              "    <tr>\n",
              "      <th>2</th>\n",
              "      <td>Valid</td>\n",
              "      <td>/fonRnt/7N.D-4BRSsXb@TU/qgheW.cfm</td>\n",
              "    </tr>\n",
              "    <tr>\n",
              "      <th>3</th>\n",
              "      <td>Valid</td>\n",
              "      <td>/dyylkL.XD9cPu/4Ot0ta/ts6xNrP1/hssh/a2cuerht/s...</td>\n",
              "    </tr>\n",
              "    <tr>\n",
              "      <th>4</th>\n",
              "      <td>Valid</td>\n",
              "      <td>/2m6VLb1r37jSPC/cWVv/Mbar/oqrd0/msc/etceebwgi/...</td>\n",
              "    </tr>\n",
              "    <tr>\n",
              "      <th>...</th>\n",
              "      <td>...</td>\n",
              "      <td>...</td>\n",
              "    </tr>\n",
              "    <tr>\n",
              "      <th>125971</th>\n",
              "      <td>Valid</td>\n",
              "      <td>/tienda1/publico/registro.jsp?modo=registro&amp;lo...</td>\n",
              "    </tr>\n",
              "    <tr>\n",
              "      <th>125972</th>\n",
              "      <td>Valid</td>\n",
              "      <td>/tienda1/publico/registro.jsp?modo=registro&amp;lo...</td>\n",
              "    </tr>\n",
              "    <tr>\n",
              "      <th>125973</th>\n",
              "      <td>Valid</td>\n",
              "      <td>/tienda1/publico/registro.jsp?modo=registro&amp;lo...</td>\n",
              "    </tr>\n",
              "    <tr>\n",
              "      <th>125974</th>\n",
              "      <td>Valid</td>\n",
              "      <td>/tienda1/publico/registro.jsp?modo=registro&amp;lo...</td>\n",
              "    </tr>\n",
              "    <tr>\n",
              "      <th>125975</th>\n",
              "      <td>Valid</td>\n",
              "      <td>/tienda1/publico/registro.jsp?modo=registro&amp;lo...</td>\n",
              "    </tr>\n",
              "  </tbody>\n",
              "</table>\n",
              "<p>125976 rows × 2 columns</p>\n",
              "</div>"
            ],
            "text/plain": [
              "         type                                                url\n",
              "0       Valid  /l_t@/_Feu1wvhtpass2/1nieQnnrvnzktuasain/tg1AR...\n",
              "1       Valid  /inssgtz7ieltdSstbw7e/neQhmsdwu7imdb0etet/eT/h...\n",
              "2       Valid                  /fonRnt/7N.D-4BRSsXb@TU/qgheW.cfm\n",
              "3       Valid  /dyylkL.XD9cPu/4Ot0ta/ts6xNrP1/hssh/a2cuerht/s...\n",
              "4       Valid  /2m6VLb1r37jSPC/cWVv/Mbar/oqrd0/msc/etceebwgi/...\n",
              "...       ...                                                ...\n",
              "125971  Valid  /tienda1/publico/registro.jsp?modo=registro&lo...\n",
              "125972  Valid  /tienda1/publico/registro.jsp?modo=registro&lo...\n",
              "125973  Valid  /tienda1/publico/registro.jsp?modo=registro&lo...\n",
              "125974  Valid  /tienda1/publico/registro.jsp?modo=registro&lo...\n",
              "125975  Valid  /tienda1/publico/registro.jsp?modo=registro&lo...\n",
              "\n",
              "[125976 rows x 2 columns]"
            ]
          },
          "metadata": {
            "tags": []
          },
          "execution_count": 29
        }
      ]
    },
    {
      "cell_type": "code",
      "metadata": {
        "id": "lw5ac4kpTNYR"
      },
      "source": [
        "df['label'] = 0"
      ],
      "execution_count": null,
      "outputs": []
    },
    {
      "cell_type": "code",
      "metadata": {
        "id": "wEPQpJrITQ56"
      },
      "source": [
        "df.loc[df['type']=='SSI','label'] = 1"
      ],
      "execution_count": null,
      "outputs": []
    },
    {
      "cell_type": "code",
      "metadata": {
        "colab": {
          "base_uri": "https://localhost:8080/",
          "height": 402
        },
        "id": "Q-iR0ESaTUPB",
        "outputId": "a58b0cf0-129d-4ede-d188-8b4fd1e86fa1"
      },
      "source": [
        "df"
      ],
      "execution_count": null,
      "outputs": [
        {
          "output_type": "execute_result",
          "data": {
            "text/html": [
              "<div>\n",
              "<style scoped>\n",
              "    .dataframe tbody tr th:only-of-type {\n",
              "        vertical-align: middle;\n",
              "    }\n",
              "\n",
              "    .dataframe tbody tr th {\n",
              "        vertical-align: top;\n",
              "    }\n",
              "\n",
              "    .dataframe thead th {\n",
              "        text-align: right;\n",
              "    }\n",
              "</style>\n",
              "<table border=\"1\" class=\"dataframe\">\n",
              "  <thead>\n",
              "    <tr style=\"text-align: right;\">\n",
              "      <th></th>\n",
              "      <th>type</th>\n",
              "      <th>url</th>\n",
              "      <th>label</th>\n",
              "    </tr>\n",
              "  </thead>\n",
              "  <tbody>\n",
              "    <tr>\n",
              "      <th>0</th>\n",
              "      <td>Valid</td>\n",
              "      <td>/l_t@/_Feu1wvhtpass2/1nieQnnrvnzktuasain/tg1AR...</td>\n",
              "      <td>0</td>\n",
              "    </tr>\n",
              "    <tr>\n",
              "      <th>1</th>\n",
              "      <td>Valid</td>\n",
              "      <td>/inssgtz7ieltdSstbw7e/neQhmsdwu7imdb0etet/eT/h...</td>\n",
              "      <td>0</td>\n",
              "    </tr>\n",
              "    <tr>\n",
              "      <th>2</th>\n",
              "      <td>Valid</td>\n",
              "      <td>/fonRnt/7N.D-4BRSsXb@TU/qgheW.cfm</td>\n",
              "      <td>0</td>\n",
              "    </tr>\n",
              "    <tr>\n",
              "      <th>3</th>\n",
              "      <td>Valid</td>\n",
              "      <td>/dyylkL.XD9cPu/4Ot0ta/ts6xNrP1/hssh/a2cuerht/s...</td>\n",
              "      <td>0</td>\n",
              "    </tr>\n",
              "    <tr>\n",
              "      <th>4</th>\n",
              "      <td>Valid</td>\n",
              "      <td>/2m6VLb1r37jSPC/cWVv/Mbar/oqrd0/msc/etceebwgi/...</td>\n",
              "      <td>0</td>\n",
              "    </tr>\n",
              "    <tr>\n",
              "      <th>...</th>\n",
              "      <td>...</td>\n",
              "      <td>...</td>\n",
              "      <td>...</td>\n",
              "    </tr>\n",
              "    <tr>\n",
              "      <th>125971</th>\n",
              "      <td>Valid</td>\n",
              "      <td>/tienda1/publico/registro.jsp?modo=registro&amp;lo...</td>\n",
              "      <td>0</td>\n",
              "    </tr>\n",
              "    <tr>\n",
              "      <th>125972</th>\n",
              "      <td>Valid</td>\n",
              "      <td>/tienda1/publico/registro.jsp?modo=registro&amp;lo...</td>\n",
              "      <td>0</td>\n",
              "    </tr>\n",
              "    <tr>\n",
              "      <th>125973</th>\n",
              "      <td>Valid</td>\n",
              "      <td>/tienda1/publico/registro.jsp?modo=registro&amp;lo...</td>\n",
              "      <td>0</td>\n",
              "    </tr>\n",
              "    <tr>\n",
              "      <th>125974</th>\n",
              "      <td>Valid</td>\n",
              "      <td>/tienda1/publico/registro.jsp?modo=registro&amp;lo...</td>\n",
              "      <td>0</td>\n",
              "    </tr>\n",
              "    <tr>\n",
              "      <th>125975</th>\n",
              "      <td>Valid</td>\n",
              "      <td>/tienda1/publico/registro.jsp?modo=registro&amp;lo...</td>\n",
              "      <td>0</td>\n",
              "    </tr>\n",
              "  </tbody>\n",
              "</table>\n",
              "<p>125976 rows × 3 columns</p>\n",
              "</div>"
            ],
            "text/plain": [
              "         type                                                url  label\n",
              "0       Valid  /l_t@/_Feu1wvhtpass2/1nieQnnrvnzktuasain/tg1AR...      0\n",
              "1       Valid  /inssgtz7ieltdSstbw7e/neQhmsdwu7imdb0etet/eT/h...      0\n",
              "2       Valid                  /fonRnt/7N.D-4BRSsXb@TU/qgheW.cfm      0\n",
              "3       Valid  /dyylkL.XD9cPu/4Ot0ta/ts6xNrP1/hssh/a2cuerht/s...      0\n",
              "4       Valid  /2m6VLb1r37jSPC/cWVv/Mbar/oqrd0/msc/etceebwgi/...      0\n",
              "...       ...                                                ...    ...\n",
              "125971  Valid  /tienda1/publico/registro.jsp?modo=registro&lo...      0\n",
              "125972  Valid  /tienda1/publico/registro.jsp?modo=registro&lo...      0\n",
              "125973  Valid  /tienda1/publico/registro.jsp?modo=registro&lo...      0\n",
              "125974  Valid  /tienda1/publico/registro.jsp?modo=registro&lo...      0\n",
              "125975  Valid  /tienda1/publico/registro.jsp?modo=registro&lo...      0\n",
              "\n",
              "[125976 rows x 3 columns]"
            ]
          },
          "metadata": {
            "tags": []
          },
          "execution_count": 32
        }
      ]
    },
    {
      "cell_type": "code",
      "metadata": {
        "id": "Z3ZBHkAoTX5T"
      },
      "source": [
        "df = df.fillna('NULL')"
      ],
      "execution_count": null,
      "outputs": []
    },
    {
      "cell_type": "code",
      "metadata": {
        "id": "LqR3Qk3vTkto"
      },
      "source": [
        "def nplusreplace(statement):\n",
        "  x = statement.replace('\\n',' ')\n",
        "  return x.replace('+',' ')"
      ],
      "execution_count": null,
      "outputs": []
    },
    {
      "cell_type": "code",
      "metadata": {
        "id": "i0_zJghQTptE"
      },
      "source": [
        "def whiteremove(statement):\n",
        "  return statement.replace(' ','')"
      ],
      "execution_count": null,
      "outputs": []
    },
    {
      "cell_type": "code",
      "metadata": {
        "id": "B_DOwV4ETwzS"
      },
      "source": [
        "df['url'] = df['url'].apply(url_parse)\n",
        "df['url'] = df['url'].apply(newremove)\n",
        "df['url'] = df['url'].apply(whiteremove)\n",
        "df['url'] = df['url'].apply(nplusreplace)\n"
      ],
      "execution_count": null,
      "outputs": []
    },
    {
      "cell_type": "code",
      "metadata": {
        "id": "VKttejoyT00h"
      },
      "source": [
        "df['url'] = df['url'].str.lower()"
      ],
      "execution_count": null,
      "outputs": []
    },
    {
      "cell_type": "code",
      "metadata": {
        "colab": {
          "base_uri": "https://localhost:8080/"
        },
        "id": "pJIpR3tWUA0L",
        "outputId": "a32d8f95-f309-4fb2-b8e1-682bcc58df5a"
      },
      "source": [
        "mylist"
      ],
      "execution_count": null,
      "outputs": [
        {
          "output_type": "execute_result",
          "data": {
            "text/plain": [
              "[]"
            ]
          },
          "metadata": {
            "tags": []
          },
          "execution_count": 38
        }
      ]
    },
    {
      "cell_type": "code",
      "metadata": {
        "colab": {
          "base_uri": "https://localhost:8080/"
        },
        "id": "NwHUBy_VUDsk",
        "outputId": "39b95518-4011-4085-9c1c-ad49d3622de3"
      },
      "source": [
        "ch = input()\n",
        "while(ch != '@@@@@'):\n",
        "    mylist.append(ch)\n",
        "    ch = input()"
      ],
      "execution_count": null,
      "outputs": [
        {
          "output_type": "stream",
          "text": [
            "<!-\n",
            "-->\n",
            "#\n",
            "+\n",
            ",\n",
            "\"\n",
            "etc/\n",
            "/passwd\n",
            "dir\n",
            "#exec\n",
            "cmd\n",
            "fromhost\n",
            "email\n",
            "odbc\n",
            "#include\n",
            "virtual\n",
            "bin/\n",
            "toaddress\n",
            "message\n",
            "replyto\n",
            "sender\n",
            "#echo\n",
            "httpd\n",
            "access.log\n",
            "var\n",
            "+connect\n",
            "date_gmt\n",
            "+statement\n",
            "log/\n",
            "/mail\n",
            "\"mail\n",
            "\"id\n",
            "+id\n",
            ".bat\n",
            "ls+\n",
            "home/\n",
            "winnt\\\\\n",
            "system.ini\n",
            ".conf\n",
            "+-l\n",
            "windows\n",
            ".conf\n",
            ".com\n",
            ":\\\\\n",
            "@@@@@\n"
          ],
          "name": "stdout"
        }
      ]
    },
    {
      "cell_type": "code",
      "metadata": {
        "id": "dour2zXHY5W2"
      },
      "source": [
        "L = set(mylist)"
      ],
      "execution_count": null,
      "outputs": []
    },
    {
      "cell_type": "code",
      "metadata": {
        "id": "xUlkCDKLY8Ko"
      },
      "source": [
        "for l in L:\n",
        "  df[l] = 0"
      ],
      "execution_count": null,
      "outputs": []
    },
    {
      "cell_type": "code",
      "metadata": {
        "id": "upBjh-89Y-kA"
      },
      "source": [
        "for col in L:\n",
        "  df[col] = df['url'].apply(generate, col=col)"
      ],
      "execution_count": null,
      "outputs": []
    },
    {
      "cell_type": "code",
      "metadata": {
        "id": "tqvI4ZU0ZBDl"
      },
      "source": [
        "df.to_csv('final_SSI.csv')\n",
        "!cp final_SSI.csv \"drive/My Drive/\""
      ],
      "execution_count": null,
      "outputs": []
    }
  ]
}
