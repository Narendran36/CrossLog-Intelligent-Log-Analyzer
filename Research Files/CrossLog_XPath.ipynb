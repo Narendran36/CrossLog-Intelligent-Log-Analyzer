{
  "nbformat": 4,
  "nbformat_minor": 0,
  "metadata": {
    "colab": {
      "name": "CrossLog_XPath.ipynb",
      "provenance": []
    },
    "kernelspec": {
      "name": "python3",
      "display_name": "Python 3"
    }
  },
  "cells": [
    {
      "cell_type": "code",
      "metadata": {
        "colab": {
          "base_uri": "https://localhost:8080/"
        },
        "id": "UU4NR4b22wBy",
        "outputId": "cdcb06e2-9b3c-4e7b-a07a-1393f6721a26"
      },
      "source": [
        "from google.colab import drive \n",
        "drive.mount('/content/drive', force_remount=True)"
      ],
      "execution_count": null,
      "outputs": [
        {
          "output_type": "stream",
          "text": [
            "Mounted at /content/drive\n"
          ],
          "name": "stdout"
        }
      ]
    },
    {
      "cell_type": "code",
      "metadata": {
        "id": "TTt06j0O3Ln5"
      },
      "source": [
        "import pandas as pd"
      ],
      "execution_count": null,
      "outputs": []
    },
    {
      "cell_type": "code",
      "metadata": {
        "id": "Q0_BCSKD2TMM",
        "colab": {
          "base_uri": "https://localhost:8080/"
        },
        "outputId": "fe2946b1-a8a1-4f04-8a14-41c648f3366d"
      },
      "source": [
        "df = pd.read_csv(\"drive/MyDrive/final_XPath.csv\")\r\n",
        "df = df.dropna()\r\n",
        "del df['Unnamed: 0']"
      ],
      "execution_count": null,
      "outputs": [
        {
          "output_type": "stream",
          "text": [
            "/usr/local/lib/python3.6/dist-packages/IPython/core/interactiveshell.py:2718: DtypeWarning: Columns (0) have mixed types.Specify dtype option on import or set low_memory=False.\n",
            "  interactivity=interactivity, compiler=compiler, result=result)\n"
          ],
          "name": "stderr"
        }
      ]
    },
    {
      "cell_type": "code",
      "metadata": {
        "id": "wvaHUMT-G97w"
      },
      "source": [
        "from sklearn.model_selection import train_test_split\r\n",
        "from sklearn.metrics import confusion_matrix\r\n",
        "from sklearn import metrics\r\n",
        "\r\n",
        "X = list(df.columns[3:])\r\n",
        "X_df = df[X]\r\n",
        "Y_df = df['label']\r\n",
        "X_train, X_test, Y_train, Y_test = train_test_split(X_df, Y_df, test_size=0.2, random_state=0)"
      ],
      "execution_count": null,
      "outputs": []
    },
    {
      "cell_type": "code",
      "metadata": {
        "id": "BAh0no0J8XV6",
        "colab": {
          "base_uri": "https://localhost:8080/"
        },
        "outputId": "395f5bfa-f79b-4777-da5f-8e7c7bd292a6"
      },
      "source": [
        "from sklearn.linear_model import LogisticRegression\r\n",
        "\r\n",
        "LR = LogisticRegression()\r\n",
        "LR.fit(X_train,Y_train)\r\n",
        "\r\n",
        "print('Accuracy of Logistic Regression classifier on training set: {:.2f}'\r\n",
        "     .format(LR.score(X_train, Y_train)))\r\n",
        "print('Accuracy of Logistic Regression classifier on test set: {:.2f}'\r\n",
        "     .format(LR.score(X_test, Y_test)))\r\n",
        "\r\n",
        "print()\r\n",
        "Y_pred = LR.predict(X_test)\r\n",
        "print(confusion_matrix(Y_test, Y_pred))\r\n",
        "print()\r\n",
        "metrics.accuracy_score(Y_test, Y_pred)"
      ],
      "execution_count": null,
      "outputs": [
        {
          "output_type": "stream",
          "text": [
            "Accuracy of Logistic Regression classifier on training set: 1.00\n",
            "Accuracy of Logistic Regression classifier on test set: 1.00\n",
            "\n",
            "[[24718     0]\n",
            " [  110   347]]\n",
            "\n"
          ],
          "name": "stdout"
        },
        {
          "output_type": "execute_result",
          "data": {
            "text/plain": [
              "0.995630585898709"
            ]
          },
          "metadata": {
            "tags": []
          },
          "execution_count": 15
        }
      ]
    },
    {
      "cell_type": "code",
      "metadata": {
        "colab": {
          "base_uri": "https://localhost:8080/"
        },
        "id": "D86wnFYe69k-",
        "outputId": "0a0eda16-be4e-4f85-bc50-d375a9114166"
      },
      "source": [
        " from sklearn import svm\r\n",
        "\r\n",
        " SVM = svm.LinearSVC()\r\n",
        " SVM.fit(X_train,Y_train)\r\n",
        "\r\n",
        " print('Accuracy of Linear SVM classifier on training set: {:.2f}'\r\n",
        "     .format(SVM.score(X_train, Y_train)))\r\n",
        " print('Accuracy of Linear SVM classifier on test set: {:.2f}'\r\n",
        "     .format(SVM.score(X_test, Y_test)))\r\n",
        " \r\n",
        "print()\r\n",
        "Y_pred = SVM.predict(X_test)\r\n",
        "print(confusion_matrix(Y_test, Y_pred))\r\n",
        "print()\r\n",
        "metrics.accuracy_score(Y_test, Y_pred)"
      ],
      "execution_count": null,
      "outputs": [
        {
          "output_type": "stream",
          "text": [
            "Accuracy of Linear SVM classifier on training set: 1.00\n",
            "Accuracy of Linear SVM classifier on test set: 1.00\n",
            "\n",
            "[[24718     0]\n",
            " [  111   346]]\n",
            "\n"
          ],
          "name": "stdout"
        },
        {
          "output_type": "execute_result",
          "data": {
            "text/plain": [
              "0.9955908639523336"
            ]
          },
          "metadata": {
            "tags": []
          },
          "execution_count": 16
        }
      ]
    },
    {
      "cell_type": "code",
      "metadata": {
        "colab": {
          "base_uri": "https://localhost:8080/"
        },
        "id": "4_bCKRz4D6I8",
        "outputId": "d4c8f5e1-9fe4-4cf5-c5ac-a28a0b82bcb2"
      },
      "source": [
        "from sklearn.ensemble import GradientBoostingClassifier\r\n",
        "\r\n",
        "GB = GradientBoostingClassifier(random_state=0)\r\n",
        "GB.fit(X_train, Y_train)\r\n",
        "\r\n",
        "print('Accuracy of Gradient Boosting classifier on training set: {:.2f}'\r\n",
        "     .format(GB.score(X_train, Y_train)))\r\n",
        "print('Accuracy of Gradient Boosting classifier on test set: {:.2f}'\r\n",
        "     .format(GB.score(X_test, Y_test)))\r\n",
        "\r\n",
        "print()\r\n",
        "Y_pred = GB.predict(X_test)\r\n",
        "print(confusion_matrix(Y_test, Y_pred))\r\n",
        "print()\r\n",
        "metrics.accuracy_score(Y_test, Y_pred)"
      ],
      "execution_count": null,
      "outputs": [
        {
          "output_type": "stream",
          "text": [
            "Accuracy of Gradient Boosting classifier on training set: 1.00\n",
            "Accuracy of Gradient Boosting classifier on test set: 1.00\n",
            "\n",
            "[[24718     0]\n",
            " [  109   348]]\n",
            "\n"
          ],
          "name": "stdout"
        },
        {
          "output_type": "execute_result",
          "data": {
            "text/plain": [
              "0.9956703078450844"
            ]
          },
          "metadata": {
            "tags": []
          },
          "execution_count": 17
        }
      ]
    },
    {
      "cell_type": "code",
      "metadata": {
        "colab": {
          "base_uri": "https://localhost:8080/"
        },
        "id": "etR7mVj9D6D4",
        "outputId": "e278bb02-7465-47ef-bc92-638dd21ce8ab"
      },
      "source": [
        "from sklearn.tree import DecisionTreeClassifier\r\n",
        "\r\n",
        "DT = DecisionTreeClassifier()\r\n",
        "DT.fit(X_train,Y_train)\r\n",
        "\r\n",
        "print('Accuracy of Decision Tree classifier on training set: {:.2f}'\r\n",
        "     .format(DT.score(X_train, Y_train)))\r\n",
        "print('Accuracy of Decision Tree classifier on test set: {:.2f}'\r\n",
        "     .format(DT.score(X_test, Y_test)))\r\n",
        "\r\n",
        "print()\r\n",
        "Y_pred = DT.predict(X_test)\r\n",
        "print(confusion_matrix(Y_test, Y_pred))\r\n",
        "print()\r\n",
        "metrics.accuracy_score(Y_test, Y_pred)"
      ],
      "execution_count": null,
      "outputs": [
        {
          "output_type": "stream",
          "text": [
            "Accuracy of Decision Tree classifier on training set: 1.00\n",
            "Accuracy of Decision Tree classifier on test set: 1.00\n",
            "\n",
            "[[24706    12]\n",
            " [  109   348]]\n",
            "\n"
          ],
          "name": "stdout"
        },
        {
          "output_type": "execute_result",
          "data": {
            "text/plain": [
              "0.9951936444885799"
            ]
          },
          "metadata": {
            "tags": []
          },
          "execution_count": 18
        }
      ]
    },
    {
      "cell_type": "code",
      "metadata": {
        "colab": {
          "base_uri": "https://localhost:8080/"
        },
        "id": "S3UbOR3MD5yC",
        "outputId": "597e077f-c640-4f26-9d37-c6435e1ee8c2"
      },
      "source": [
        "from sklearn.neighbors import KNeighborsClassifier\r\n",
        "\r\n",
        "KNN = KNeighborsClassifier(n_neighbors = 5)\r\n",
        "KNN.fit(X_train, Y_train)\r\n",
        "\r\n",
        "print('Accuracy of K-NN classifier on training set: {:.2f}'\r\n",
        "     .format(KNN.score(X_train, Y_train)))\r\n",
        "print('Accuracy of K-NN classifier on test set: {:.2f}'\r\n",
        "     .format(KNN.score(X_test, Y_test)))\r\n",
        "\r\n",
        "print()\r\n",
        "Y_pred = KNN.predict(X_test)\r\n",
        "print(confusion_matrix(Y_test, Y_pred))\r\n",
        "print()\r\n",
        "metrics.accuracy_score(Y_test, Y_pred)"
      ],
      "execution_count": null,
      "outputs": [
        {
          "output_type": "stream",
          "text": [
            "Accuracy of K-NN classifier on training set: 1.00\n",
            "Accuracy of K-NN classifier on test set: 1.00\n",
            "\n",
            "[[24714     4]\n",
            " [  109   348]]\n",
            "\n"
          ],
          "name": "stdout"
        },
        {
          "output_type": "execute_result",
          "data": {
            "text/plain": [
              "0.9955114200595829"
            ]
          },
          "metadata": {
            "tags": []
          },
          "execution_count": 19
        }
      ]
    },
    {
      "cell_type": "code",
      "metadata": {
        "colab": {
          "base_uri": "https://localhost:8080/"
        },
        "id": "ri7Ot8o4D5uM",
        "outputId": "852bb1dd-961c-496c-b239-9fca5759fbd7"
      },
      "source": [
        "from sklearn.ensemble import RandomForestClassifier\r\n",
        "\r\n",
        "RF = RandomForestClassifier()\r\n",
        "RF.fit(X_train,Y_train)\r\n",
        "\r\n",
        "print('Accuracy of Random Forest classifier on training set: {:.2f}'\r\n",
        "     .format(RF.score(X_train, Y_train)))\r\n",
        "print('Accuracy of Random Forest classifier on test set: {:.2f}'\r\n",
        "     .format(RF.score(X_test, Y_test)))\r\n",
        "\r\n",
        "print()\r\n",
        "Y_pred = RF.predict(X_test)\r\n",
        "print(confusion_matrix(Y_test, Y_pred))\r\n",
        "print()\r\n",
        "metrics.accuracy_score(Y_test, Y_pred)"
      ],
      "execution_count": null,
      "outputs": [
        {
          "output_type": "stream",
          "text": [
            "Accuracy of Random Forest classifier on training set: 1.00\n",
            "Accuracy of Random Forest classifier on test set: 1.00\n",
            "\n",
            "[[24711     7]\n",
            " [  109   348]]\n",
            "\n"
          ],
          "name": "stdout"
        },
        {
          "output_type": "execute_result",
          "data": {
            "text/plain": [
              "0.9953922542204569"
            ]
          },
          "metadata": {
            "tags": []
          },
          "execution_count": 20
        }
      ]
    },
    {
      "cell_type": "code",
      "metadata": {
        "id": "KbrtPjkVXzE-"
      },
      "source": [
        "import pickle\r\n",
        "filename = 'XPath.sav'                                           #Edit this\r\n",
        "pickle.dump(GB, open(filename, 'wb'))                         #Change GB if needed\r\n",
        "#loaded_model = pickle.load(open(filename, 'rb'))\r\n",
        "#result = loaded_model.score(X_test, Y_test)\r\n",
        "#print(result)\r\n",
        "!cp XPath.sav \"drive/My Drive/MODEL\"                             # replace OS.sav with file name"
      ],
      "execution_count": null,
      "outputs": []
    }
  ]
}